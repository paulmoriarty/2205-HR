{
 "cells": [
  {
   "cell_type": "code",
   "execution_count": 71,
   "metadata": {
    "application/vnd.databricks.v1+cell": {
     "inputWidgets": {},
     "nuid": "500f5720-9d5a-46a8-bafc-5f05e06cfe64",
     "showTitle": false,
     "title": ""
    },
    "execution": {
     "iopub.execute_input": "2022-06-06T21:37:09.835555Z",
     "iopub.status.busy": "2022-06-06T21:37:09.834583Z",
     "iopub.status.idle": "2022-06-06T21:37:09.848552Z",
     "shell.execute_reply": "2022-06-06T21:37:09.848552Z",
     "shell.execute_reply.started": "2022-06-06T21:37:09.835555Z"
    },
    "tags": []
   },
   "outputs": [],
   "source": [
    "from IPython.core.interactiveshell import InteractiveShell\n",
    "\n",
    "InteractiveShell.ast_node_interactivity = \"all\"\n",
    "import os\n",
    "import pandas as pd\n",
    "from datetime import datetime\n",
    "import numpy as np\n",
    "import joblib\n",
    "import matplotlib.pyplot as plt\n",
    "import shap\n",
    "\n",
    "# import neptune.new as neptune\n",
    "# import neptune.new.integrations.optuna as optuna_utils\n",
    "\n",
    "%matplotlib inline\n",
    "from collections import Counter\n",
    "import math\n",
    "import seaborn as sns\n",
    "\n",
    "sns.set_style(\"ticks\")\n",
    "from pathlib import Path\n",
    "from sklearn.cluster import KMeans\n",
    "from sklearn.compose import ColumnTransformer\n",
    "from sklearn.ensemble import (\n",
    "    HistGradientBoostingClassifier,\n",
    "    RandomForestRegressor,\n",
    ")\n",
    "from sklearn.experimental import enable_iterative_imputer\n",
    "from sklearn.impute import SimpleImputer, IterativeImputer, KNNImputer\n",
    "from sklearn.linear_model import LogisticRegression\n",
    "from sklearn.discriminant_analysis import LinearDiscriminantAnalysis\n",
    "from sklearn.metrics import (\n",
    "    roc_auc_score,\n",
    "    accuracy_score,\n",
    "    confusion_matrix,\n",
    "    ConfusionMatrixDisplay,\n",
    "    plot_confusion_matrix,\n",
    "    f1_score,\n",
    "    precision_recall_fscore_support,\n",
    ")\n",
    "from sklearn.model_selection import (\n",
    "    train_test_split,\n",
    "    StratifiedKFold,\n",
    "    GridSearchCV,\n",
    "    RandomizedSearchCV,\n",
    "    StratifiedShuffleSplit,\n",
    "    StratifiedKFold,\n",
    ")\n",
    "from sklearn.pipeline import Pipeline\n",
    "from sklearn.preprocessing import (\n",
    "    MinMaxScaler,\n",
    "    StandardScaler,\n",
    "    RobustScaler,\n",
    "    PowerTransformer,\n",
    "    OrdinalEncoder,\n",
    "    OneHotEncoder,\n",
    "    LabelEncoder,\n",
    ")\n",
    "from xgboost import XGBClassifier, XGBRegressor\n",
    "from catboost import CatBoostClassifier, CatBoostRegressor\n",
    "from lightgbm import LGBMClassifier, LGBMRegressor\n",
    "import optuna\n",
    "import functools\n",
    "import warnings\n",
    "import gc\n",
    "import platform\n",
    "\n",
    "warnings.filterwarnings(\"ignore\")\n",
    "\n",
    "from IPython.core.interactiveshell import InteractiveShell\n",
    "\n",
    "InteractiveShell.ast_node_interactivity = \"all\"\n",
    "pd.options.display.max_columns = None"
   ]
  },
  {
   "cell_type": "code",
   "execution_count": 72,
   "metadata": {
    "application/vnd.databricks.v1+cell": {
     "inputWidgets": {},
     "nuid": "30685b1c-e3fa-40d2-a91d-225a94e6c2b8",
     "showTitle": false,
     "title": ""
    },
    "execution": {
     "iopub.execute_input": "2022-06-06T21:37:09.849553Z",
     "iopub.status.busy": "2022-06-06T21:37:09.849553Z",
     "iopub.status.idle": "2022-06-06T21:37:09.864552Z",
     "shell.execute_reply": "2022-06-06T21:37:09.864552Z",
     "shell.execute_reply.started": "2022-06-06T21:37:09.849553Z"
    },
    "tags": []
   },
   "outputs": [],
   "source": [
    "random_state = 57\n",
    "now = lambda: datetime.now().strftime(\"%Y-%m-%dT%Hh%Mm%Ss\")\n",
    "\n",
    "\n",
    "def is_databricks():\n",
    "    return True if \"DATABRICKS_RUNTIME_VERSION\" in os.environ else False\n",
    "\n",
    "\n",
    "running_on = platform.system()\n",
    "\n",
    "if running_on == \"Windows\":\n",
    "    path = fr\"C:\\Users\\pmm\\ownCloud\\jupyter\\22-05 HR\"\n",
    "elif running_on == \"Darwin\":\n",
    "    path = f\"/Users/pmm/ownCloud/jupyter/22-05 HR\"\n",
    "elif \"google.colab\" in str(get_ipython()):\n",
    "    path = \"/content\"\n",
    "elif is_databricks():\n",
    "    my_container = \"projects\"\n",
    "    my_lake = \"tdsdsdatalake\"\n",
    "    mount_point = f\"/mnt/{my_container}\"\n",
    "    path = f\"{mount_point}\"\n",
    "\n",
    "    configs = {\n",
    "        \"fs.azure.account.auth.type\": \"CustomAccessToken\",\n",
    "        \"fs.azure.account.custom.token.provider.class\": spark.conf.get(\n",
    "            \"spark.databricks.passthrough.adls.gen2.tokenProviderClassName\"\n",
    "        ),\n",
    "    }\n",
    "\n",
    "    if not any(\n",
    "        mount.mountPoint == mount_point for mount in dbutils.fs.mounts()\n",
    "    ):\n",
    "        dbutils.fs.mount(\n",
    "            source=f\"abfss://{my_container}@{my_lake}.dfs.core.windows.net/\",\n",
    "            mount_point=mount_point,\n",
    "            extra_configs=configs,\n",
    "        )"
   ]
  },
  {
   "cell_type": "code",
   "execution_count": 73,
   "metadata": {
    "application/vnd.databricks.v1+cell": {
     "inputWidgets": {},
     "nuid": "54cf768e-1557-417e-bde3-b3807dc19e97",
     "showTitle": false,
     "title": ""
    },
    "execution": {
     "iopub.execute_input": "2022-06-06T21:37:09.865553Z",
     "iopub.status.busy": "2022-06-06T21:37:09.865553Z",
     "iopub.status.idle": "2022-06-06T21:37:09.896583Z",
     "shell.execute_reply": "2022-06-06T21:37:09.896583Z",
     "shell.execute_reply.started": "2022-06-06T21:37:09.865553Z"
    },
    "tags": []
   },
   "outputs": [],
   "source": [
    "if is_databricks():\n",
    "    data_file = f\"{mount_point}/2022-05 HR/df.parquet\"\n",
    "    df_orig = spark.read.parquet(data_file).select(\"*\").toPandas()\n",
    "else:\n",
    "    data_file = f\"{path}/df.parquet\"\n",
    "    df_orig = pd.read_parquet(data_file)"
   ]
  },
  {
   "cell_type": "code",
   "execution_count": 74,
   "metadata": {
    "application/vnd.databricks.v1+cell": {
     "inputWidgets": {},
     "nuid": "120af7a1-7be8-429e-ad2d-e891405f0870",
     "showTitle": false,
     "title": ""
    },
    "execution": {
     "iopub.execute_input": "2022-06-06T21:37:09.897554Z",
     "iopub.status.busy": "2022-06-06T21:37:09.897554Z",
     "iopub.status.idle": "2022-06-06T21:37:09.912552Z",
     "shell.execute_reply": "2022-06-06T21:37:09.912552Z",
     "shell.execute_reply.started": "2022-06-06T21:37:09.897554Z"
    },
    "tags": []
   },
   "outputs": [],
   "source": [
    "df = df_orig.copy()\n",
    "# df = df[df[\"start_date\"] < \"2201-04-01\"]"
   ]
  },
  {
   "cell_type": "code",
   "execution_count": 75,
   "metadata": {
    "application/vnd.databricks.v1+cell": {
     "inputWidgets": {},
     "nuid": "86744196-3fa6-4ae5-bc26-1fcdb3226a63",
     "showTitle": false,
     "title": ""
    },
    "execution": {
     "iopub.execute_input": "2022-06-06T21:37:09.913554Z",
     "iopub.status.busy": "2022-06-06T21:37:09.913554Z",
     "iopub.status.idle": "2022-06-06T21:37:09.928553Z",
     "shell.execute_reply": "2022-06-06T21:37:09.928553Z",
     "shell.execute_reply.started": "2022-06-06T21:37:09.913554Z"
    },
    "tags": []
   },
   "outputs": [],
   "source": [
    "dtypes = {\n",
    "    \"pers_no\": \"object\",\n",
    "    \"job_key\": \"object\",\n",
    "    \"position\": \"object\",\n",
    "    \"job_abbrev\": \"object\",\n",
    "    \"contract\": \"object\",\n",
    "    \"act\": \"object\",\n",
    "    \"reason\": \"int64\",\n",
    "    \"start_date\": \"datetime64[ns]\",\n",
    "    \"most_recent_hire_date_01\": \"datetime64[ns]\",\n",
    "    \"service_anniversary_16\": \"datetime64[ns]\",\n",
    "    \"cocd\": \"object\",\n",
    "    \"org_unit\": \"object\",\n",
    "    \"employee_group\": \"object\",\n",
    "    \"employee_subgroup\": \"object\",\n",
    "    \"commission_type\": \"object\",\n",
    "    \"pay_scale_group_effective_date\": \"datetime64[ns]\",\n",
    "    \"ps_group\": \"object\",\n",
    "    \"prev_ps_group\": \"object\",\n",
    "    \"annl_sal_hrly_wage\": \"float64\",\n",
    "    \"annual_salary\": \"float64\",\n",
    "    \"pay_level_midpoint\": \"float64\",\n",
    "    \"prev_wage\": \"float64\",\n",
    "    \"pts\": \"int64\",\n",
    "    \"supervisor\": \"object\",\n",
    "    \"ps_area\": \"object\",\n",
    "    \"aap\": \"object\",\n",
    "    \"city\": \"object\",\n",
    "    \"state\": \"object\",\n",
    "    \"generation\": \"object\",\n",
    "    \"retiree_medical_eligibility\": \"object\",\n",
    "    \"functional_area\": \"object\",\n",
    "    \"fst\": \"object\",\n",
    "    \"age_at_action\": \"float64\",\n",
    "    \"percent_of_market_after_action\": \"float64\",\n",
    "    \"percent_of_market_before_action\": \"float64\",\n",
    "    \"hired\": \"object\",\n",
    "    \"term\": \"object\",\n",
    "    \"retirement\": \"object\",\n",
    "    \"promotion\": \"object\",\n",
    "    \"progression\": \"object\",\n",
    "    \"previous_job_code\": \"object\",\n",
    "    \"current_bu\": \"object\",\n",
    "    \"previous_bu\": \"object\",\n",
    "    \"gender_most_current\": \"object\",\n",
    "    \"race_ethinicity_most_current\": \"object\",\n",
    "    \"poc_non_poc_most_current\": \"object\",\n",
    "    \"tds_vet_excludes_v1_v9_most_current\": \"object\",\n",
    "    \"disabled_most_current\": \"object\",\n",
    "    \"tds_vet_excludes_v1_v9_most_current\": \"object\",\n",
    "}\n",
    "\n",
    "dt = {col: dtypes[col] for col in df.columns if col in dtypes}\n",
    "df = df.astype(dt)"
   ]
  },
  {
   "cell_type": "code",
   "execution_count": 76,
   "metadata": {
    "application/vnd.databricks.v1+cell": {
     "inputWidgets": {},
     "nuid": "2f814045-bbfc-4872-9f18-4c164becaf32",
     "showTitle": false,
     "title": ""
    },
    "execution": {
     "iopub.execute_input": "2022-06-06T21:37:09.929553Z",
     "iopub.status.busy": "2022-06-06T21:37:09.929553Z",
     "iopub.status.idle": "2022-06-06T21:37:09.944552Z",
     "shell.execute_reply": "2022-06-06T21:37:09.944552Z",
     "shell.execute_reply.started": "2022-06-06T21:37:09.929553Z"
    },
    "tags": []
   },
   "outputs": [],
   "source": [
    "# df.head(10)"
   ]
  },
  {
   "cell_type": "code",
   "execution_count": 77,
   "metadata": {
    "application/vnd.databricks.v1+cell": {
     "inputWidgets": {},
     "nuid": "9fa73274-9275-43a2-b90a-4570e67672f5",
     "showTitle": false,
     "title": ""
    },
    "execution": {
     "iopub.execute_input": "2022-06-06T21:37:09.945553Z",
     "iopub.status.busy": "2022-06-06T21:37:09.945553Z",
     "iopub.status.idle": "2022-06-06T21:37:09.959552Z",
     "shell.execute_reply": "2022-06-06T21:37:09.959552Z",
     "shell.execute_reply.started": "2022-06-06T21:37:09.945553Z"
    },
    "tags": []
   },
   "outputs": [],
   "source": [
    "# df.info()"
   ]
  },
  {
   "cell_type": "code",
   "execution_count": 78,
   "metadata": {
    "application/vnd.databricks.v1+cell": {
     "inputWidgets": {},
     "nuid": "a5bb1989-9638-40c6-9249-7d572fe6094e",
     "showTitle": false,
     "title": ""
    },
    "execution": {
     "iopub.execute_input": "2022-06-06T21:37:09.960553Z",
     "iopub.status.busy": "2022-06-06T21:37:09.960553Z",
     "iopub.status.idle": "2022-06-06T21:37:10.006552Z",
     "shell.execute_reply": "2022-06-06T21:37:10.006552Z",
     "shell.execute_reply.started": "2022-06-06T21:37:09.960553Z"
    },
    "tags": []
   },
   "outputs": [],
   "source": [
    "target = \"churned\"\n",
    "num_cols = df.select_dtypes(include=np.number).columns.tolist()\n",
    "cat_cols = df.drop(columns=num_cols).columns.tolist()\n",
    "low_card_cols = df[cat_cols].loc[:, (df.nunique() <= 10)].columns.tolist()\n",
    "num_cols.remove(target)\n",
    "ord_cols = \"pts\"\n",
    "num_cols.remove(ord_cols)\n",
    "# high_card_cols = df[cat_cols].drop(columns=low_card_cols).columns"
   ]
  },
  {
   "cell_type": "code",
   "execution_count": 79,
   "metadata": {
    "application/vnd.databricks.v1+cell": {
     "inputWidgets": {},
     "nuid": "924b760b-f90a-4438-b3ec-8dc50fe6363d",
     "showTitle": false,
     "title": ""
    },
    "execution": {
     "iopub.execute_input": "2022-06-06T21:37:10.007553Z",
     "iopub.status.busy": "2022-06-06T21:37:10.007553Z",
     "iopub.status.idle": "2022-06-06T21:37:10.054552Z",
     "shell.execute_reply": "2022-06-06T21:37:10.054552Z",
     "shell.execute_reply.started": "2022-06-06T21:37:10.007553Z"
    },
    "tags": []
   },
   "outputs": [],
   "source": [
    "X = df.drop(columns=target)\n",
    "y = df[target]\n",
    "\n",
    "train_data, test_data, train_target, test_target = train_test_split(\n",
    "    X, y, test_size=0.2, stratify=y, random_state=random_state\n",
    ")\n",
    "pd.concat([test_data, test_target], axis=1).to_parquet(\"test_data.parquet\")"
   ]
  },
  {
   "cell_type": "code",
   "execution_count": 80,
   "metadata": {
    "execution": {
     "iopub.execute_input": "2022-06-06T21:37:10.056553Z",
     "iopub.status.busy": "2022-06-06T21:37:10.055553Z",
     "iopub.status.idle": "2022-06-06T21:37:10.086553Z",
     "shell.execute_reply": "2022-06-06T21:37:10.086553Z",
     "shell.execute_reply.started": "2022-06-06T21:37:10.056553Z"
    }
   },
   "outputs": [],
   "source": [
    "test_data_105 = pd.read_parquet(\"test_data_105.parquet\")\n",
    "test_data_95 = pd.read_parquet(\"test_data_95.parquet\")"
   ]
  },
  {
   "cell_type": "code",
   "execution_count": 81,
   "metadata": {
    "execution": {
     "iopub.execute_input": "2022-06-06T21:37:10.087552Z",
     "iopub.status.busy": "2022-06-06T21:37:10.087552Z",
     "iopub.status.idle": "2022-06-06T21:37:10.102552Z",
     "shell.execute_reply": "2022-06-06T21:37:10.102552Z",
     "shell.execute_reply.started": "2022-06-06T21:37:10.087552Z"
    }
   },
   "outputs": [
    {
     "data": {
      "text/plain": [
       "Index(['pers_no', 'job_key', 'position', 'job_abbrev', 'contract', 'act',\n",
       "       'reason', 'start_date', 'most_recent_hire_date_01',\n",
       "       'service_anniversary_16', 'cocd', 'org_unit',\n",
       "       'pay_scale_group_effective_date', 'ps_group', 'prev_ps_group',\n",
       "       'annual_salary', 'prev_wage', 'pts', 'supervisor', 'ps_area', 'aap',\n",
       "       'city', 'state', 'functional_area', 'age_at_action',\n",
       "       'percent_of_market_after_action', 'percent_of_market_before_action',\n",
       "       'previous_job_code', 'current_bu', 'previous_bu',\n",
       "       'race_ethinicity_most_current', 'poc_non_poc_most_current',\n",
       "       'disabled_most_current', 'tds_vet_excludes_v1_v9_most_current',\n",
       "       'gender', 'emp_subgroup', 'commission', 'fst_bool', 'urg_current',\n",
       "       'retiree_med', 'progression_bool', 'promotion_bool', 'hired_bool',\n",
       "       'Time_In_TDS', 'Time_In_Payscale', 'churned'],\n",
       "      dtype='object')"
      ]
     },
     "execution_count": 81,
     "metadata": {},
     "output_type": "execute_result"
    }
   ],
   "source": [
    "test_data_105.columns"
   ]
  },
  {
   "cell_type": "code",
   "execution_count": 82,
   "metadata": {
    "execution": {
     "iopub.execute_input": "2022-06-06T21:37:10.103553Z",
     "iopub.status.busy": "2022-06-06T21:37:10.103553Z",
     "iopub.status.idle": "2022-06-06T21:37:10.117552Z",
     "shell.execute_reply": "2022-06-06T21:37:10.117552Z",
     "shell.execute_reply.started": "2022-06-06T21:37:10.103553Z"
    },
    "tags": []
   },
   "outputs": [],
   "source": [
    "train_data = train_data.drop(columns=[\"reason\", \"percent_of_market_before_action\"])\n",
    "test_data = test_data.drop(columns=[\"reason\", \"percent_of_market_before_action\"])\n",
    "test_data_105 = test_data_105.drop(columns=[\"reason\", \"percent_of_market_before_action\", \"churned\"])\n",
    "test_data_95 = test_data_95.drop(columns=[\"reason\", \"percent_of_market_before_action\", \"churned\"])"
   ]
  },
  {
   "cell_type": "code",
   "execution_count": 10,
   "metadata": {
    "application/vnd.databricks.v1+cell": {
     "inputWidgets": {},
     "nuid": "8e986c0f-acdb-4735-9506-c9cde3b6f83b",
     "showTitle": false,
     "title": ""
    },
    "execution": {
     "iopub.execute_input": "2022-06-06T15:55:20.935390Z",
     "iopub.status.busy": "2022-06-06T15:55:20.935390Z",
     "iopub.status.idle": "2022-06-06T15:55:20.964390Z",
     "shell.execute_reply": "2022-06-06T15:55:20.964390Z",
     "shell.execute_reply.started": "2022-06-06T15:55:20.935390Z"
    },
    "tags": []
   },
   "outputs": [],
   "source": [
    "# scaler = StandardScaler()\n",
    "scaler = RobustScaler()\n",
    "scaled_train_data = pd.DataFrame(\n",
    "    scaler.fit_transform(train_data[num_cols]),\n",
    "    columns=num_cols,\n",
    "    index=train_data.index,\n",
    ")\n",
    "scaled_test_data = pd.DataFrame(\n",
    "    scaler.transform(test_data[num_cols]),\n",
    "    columns=num_cols,\n",
    "    index=test_data.index,\n",
    ")"
   ]
  },
  {
   "cell_type": "code",
   "execution_count": 11,
   "metadata": {
    "application/vnd.databricks.v1+cell": {
     "inputWidgets": {},
     "nuid": "41940ddd-73e5-4c32-925f-93c5bd27bbd9",
     "showTitle": false,
     "title": ""
    },
    "execution": {
     "iopub.execute_input": "2022-06-06T15:55:20.966390Z",
     "iopub.status.busy": "2022-06-06T15:55:20.965391Z",
     "iopub.status.idle": "2022-06-06T15:55:21.012391Z",
     "shell.execute_reply": "2022-06-06T15:55:21.012391Z",
     "shell.execute_reply.started": "2022-06-06T15:55:20.965391Z"
    },
    "tags": []
   },
   "outputs": [],
   "source": [
    "ohe_enc = OneHotEncoder(sparse=False)\n",
    "ohe_enc_train_data = pd.DataFrame(\n",
    "    ohe_enc.fit_transform(train_data[low_card_cols]),\n",
    "    columns=ohe_enc.get_feature_names(),\n",
    "    index=train_data.index,\n",
    ")\n",
    "ohe_enc_test_data = pd.DataFrame(\n",
    "    ohe_enc.transform(test_data[low_card_cols]),\n",
    "    columns=ohe_enc.get_feature_names(),\n",
    "    index=test_data.index,\n",
    ")"
   ]
  },
  {
   "cell_type": "code",
   "execution_count": 12,
   "metadata": {
    "application/vnd.databricks.v1+cell": {
     "inputWidgets": {},
     "nuid": "009cd302-6980-4c93-a856-5b9f4ef70673",
     "showTitle": false,
     "title": ""
    },
    "execution": {
     "iopub.execute_input": "2022-06-06T15:55:21.013391Z",
     "iopub.status.busy": "2022-06-06T15:55:21.013391Z",
     "iopub.status.idle": "2022-06-06T15:55:21.028390Z",
     "shell.execute_reply": "2022-06-06T15:55:21.028390Z",
     "shell.execute_reply.started": "2022-06-06T15:55:21.013391Z"
    },
    "tags": []
   },
   "outputs": [],
   "source": [
    "X_train = pd.concat(\n",
    "    [scaled_train_data, ohe_enc_train_data, train_data[ord_cols]], axis=1\n",
    ")\n",
    "X_test = pd.concat(\n",
    "    [scaled_test_data, ohe_enc_test_data, test_data[ord_cols]], axis=1\n",
    ")\n",
    "y_train = train_target\n",
    "y_test = test_target"
   ]
  },
  {
   "cell_type": "markdown",
   "metadata": {},
   "source": [
    "### XGBoost"
   ]
  },
  {
   "cell_type": "code",
   "execution_count": 13,
   "metadata": {
    "application/vnd.databricks.v1+cell": {
     "inputWidgets": {},
     "nuid": "0476b944-866b-48bd-bcc8-805f3b5e5ce7",
     "showTitle": false,
     "title": ""
    },
    "execution": {
     "iopub.execute_input": "2022-06-06T15:55:21.029391Z",
     "iopub.status.busy": "2022-06-06T15:55:21.029391Z",
     "iopub.status.idle": "2022-06-06T15:55:21.044390Z",
     "shell.execute_reply": "2022-06-06T15:55:21.044390Z",
     "shell.execute_reply.started": "2022-06-06T15:55:21.029391Z"
    },
    "tags": []
   },
   "outputs": [],
   "source": [
    "def objective(trial, X=X_train, y=y_train):\n",
    "    # X_train, X_val, y_train, y_val = train_test_split(\n",
    "    #     X,\n",
    "    #     y,\n",
    "    #     test_size=0.2,\n",
    "    #     shuffle=True,\n",
    "    #     stratify=y,\n",
    "    #     random_state=random_state,\n",
    "    # )\n",
    "    # sss = StratifiedShuffleSplit(\n",
    "    #     n_splits=10, test_size=0.2, random_state=random_state\n",
    "    # )\n",
    "    # sss.get_n_splits(X, y)\n",
    "    skf = StratifiedKFold(n_splits=5)\n",
    "    skf.get_n_splits(X, y)\n",
    "\n",
    "    params = {\n",
    "        # imbalanced classes\n",
    "        # \"scale_pos_weight\": trial.suggest_int(\"scale_pos_weight\", 1, 100),\n",
    "        \"n_estimators\": trial.suggest_int(\"n_estimators\", 200, 500),\n",
    "        \"max_depth\": trial.suggest_int(\"max_depth\", 3, 10),\n",
    "        \"min_child_weight\": trial.suggest_int(\"min_child_weight\", 1, 20),\n",
    "        \"learning_rate\": trial.suggest_discrete_uniform(\n",
    "            \"learning_rate\", 0.01, 0.1, 0.01\n",
    "        ),\n",
    "        \"subsample\": trial.suggest_discrete_uniform(\n",
    "            \"subsample\", 0.5, 1.0, 0.1\n",
    "        ),\n",
    "        \"colsample_bytree\": trial.suggest_discrete_uniform(\n",
    "            \"colsample_bytree\", 0.5, 1.0, 0.1\n",
    "        ),\n",
    "        \"gamma\": trial.suggest_discrete_uniform(\"gamma\", 0, 9, 1),\n",
    "        \"scale_pos_weight\": 30,\n",
    "        \"random_state\": random_state,\n",
    "        \"tree_method\": \"gpu_hist\",\n",
    "        \"objective\": \"binary:logistic\",\n",
    "        \"eval_metric\": \"auc\",\n",
    "        \"n_jobs\": -1,\n",
    "        #         \"silent\": True,\n",
    "    }\n",
    "\n",
    "    f1_scores = []\n",
    "    model = XGBClassifier(**params)\n",
    "    for train_index, val_index in skf.split(X, y):\n",
    "        threshold = 0.9\n",
    "        X_train, X_val = X.iloc[train_index], X.iloc[val_index]\n",
    "        y_train, y_val = y.iloc[train_index], y.iloc[val_index]\n",
    "\n",
    "        model.fit(X_train, y_train)\n",
    "        # y_pred = model.predict_proba(X_val)[:, 1]\n",
    "        # y_pred = np.where(y_pred > threshold, 1, 0)\n",
    "        y_pred = model.predict(X_val)\n",
    "        f1_scores.append(f1_score(y_val, y_pred))\n",
    "\n",
    "    return round(np.mean(f1_scores), 6)"
   ]
  },
  {
   "cell_type": "code",
   "execution_count": 14,
   "metadata": {
    "application/vnd.databricks.v1+cell": {
     "inputWidgets": {},
     "nuid": "8b5e9222-6399-4e6b-90e6-fd4eaf3412f3",
     "showTitle": false,
     "title": ""
    },
    "execution": {
     "iopub.execute_input": "2022-06-06T15:55:21.047390Z",
     "iopub.status.busy": "2022-06-06T15:55:21.047390Z",
     "iopub.status.idle": "2022-06-06T15:55:21.060389Z",
     "shell.execute_reply": "2022-06-06T15:55:21.060389Z",
     "shell.execute_reply.started": "2022-06-06T15:55:21.047390Z"
    },
    "tags": []
   },
   "outputs": [],
   "source": [
    "# study_name = f\"xgb{random_state}\"\n",
    "# db_file = os.path.join(path, f\"{now()}_{study_name}.db\")\n",
    "# study = optuna.create_study(\n",
    "#     study_name=study_name,\n",
    "#     direction=\"maximize\",\n",
    "#     # storage=f\"sqlite:///{db_file}\",\n",
    "# )\n",
    "\n",
    "# study.optimize(objective, n_trials=100)"
   ]
  },
  {
   "cell_type": "code",
   "execution_count": 16,
   "metadata": {
    "application/vnd.databricks.v1+cell": {
     "inputWidgets": {},
     "nuid": "9b053bcc-75b8-46f1-b9fb-5669d6073854",
     "showTitle": false,
     "title": ""
    },
    "execution": {
     "iopub.execute_input": "2022-06-06T15:55:32.912425Z",
     "iopub.status.busy": "2022-06-06T15:55:32.912425Z",
     "iopub.status.idle": "2022-06-06T15:55:32.930425Z",
     "shell.execute_reply": "2022-06-06T15:55:32.930425Z",
     "shell.execute_reply.started": "2022-06-06T15:55:32.912425Z"
    },
    "tags": []
   },
   "outputs": [],
   "source": [
    "# study.best_params\n",
    "best_params = {\n",
    "    \"n_estimators\": 482,\n",
    "    \"max_depth\": 6,\n",
    "    \"min_child_weight\": 2,\n",
    "    \"learning_rate\": 0.09,\n",
    "    \"subsample\": 0.9,\n",
    "    \"colsample_bytree\": 1.0,\n",
    "    \"gamma\": 5.0,\n",
    "}"
   ]
  },
  {
   "cell_type": "code",
   "execution_count": 17,
   "metadata": {
    "execution": {
     "iopub.execute_input": "2022-06-06T15:55:32.932425Z",
     "iopub.status.busy": "2022-06-06T15:55:32.931425Z",
     "iopub.status.idle": "2022-06-06T15:55:32.946425Z",
     "shell.execute_reply": "2022-06-06T15:55:32.946425Z",
     "shell.execute_reply.started": "2022-06-06T15:55:32.932425Z"
    }
   },
   "outputs": [],
   "source": [
    "test_20_best_params = {\n",
    "    \"n_estimators\": 482,\n",
    "    \"max_depth\": 6,\n",
    "    \"min_child_weight\": 2,\n",
    "    \"learning_rate\": 0.09,\n",
    "    \"subsample\": 0.9,\n",
    "    \"colsample_bytree\": 1.0,\n",
    "    \"gamma\": 5.0,\n",
    "}"
   ]
  },
  {
   "cell_type": "code",
   "execution_count": 18,
   "metadata": {
    "application/vnd.databricks.v1+cell": {
     "inputWidgets": {},
     "nuid": "2d16782a-b82c-4fcd-831e-198b972de447",
     "showTitle": false,
     "title": ""
    },
    "execution": {
     "iopub.execute_input": "2022-06-06T15:55:32.947425Z",
     "iopub.status.busy": "2022-06-06T15:55:32.947425Z",
     "iopub.status.idle": "2022-06-06T15:55:38.165956Z",
     "shell.execute_reply": "2022-06-06T15:55:38.165956Z",
     "shell.execute_reply.started": "2022-06-06T15:55:32.947425Z"
    },
    "tags": []
   },
   "outputs": [
    {
     "data": {
      "text/plain": [
       "XGBClassifier(base_score=0.5, booster='gbtree', colsample_bylevel=1,\n",
       "              colsample_bynode=1, colsample_bytree=1.0,\n",
       "              enable_categorical=False, eval_metric='auc', gamma=5.0, gpu_id=-1,\n",
       "              importance_type=None, interaction_constraints='',\n",
       "              learning_rate=0.09, max_delta_step=0, max_depth=6,\n",
       "              min_child_weight=2, missing=nan, monotone_constraints='()',\n",
       "              n_estimators=482, n_jobs=20, num_parallel_tree=1,\n",
       "              predictor='auto', random_state=57, reg_alpha=0, reg_lambda=1,\n",
       "              scale_pos_weight=30, subsample=0.9, tree_method='exact',\n",
       "              validate_parameters=1, verbosity=None)"
      ]
     },
     "execution_count": 18,
     "metadata": {},
     "output_type": "execute_result"
    }
   ],
   "source": [
    "model = XGBClassifier(\n",
    "    **best_params,\n",
    "    scale_pos_weight=30,\n",
    "    objective=\"binary:logistic\",\n",
    "    eval_metric=\"auc\",\n",
    "    random_state=random_state\n",
    ")\n",
    "model.fit(X_train, y_train)"
   ]
  },
  {
   "cell_type": "code",
   "execution_count": 19,
   "metadata": {
    "execution": {
     "iopub.execute_input": "2022-06-06T15:55:38.166957Z",
     "iopub.status.busy": "2022-06-06T15:55:38.166957Z",
     "iopub.status.idle": "2022-06-06T15:55:38.181957Z",
     "shell.execute_reply": "2022-06-06T15:55:38.181957Z",
     "shell.execute_reply.started": "2022-06-06T15:55:38.166957Z"
    }
   },
   "outputs": [],
   "source": [
    "# XGBClassifier(base_score=0.5, booster='gbtree', colsample_bylevel=1,\n",
    "#               colsample_bynode=1, colsample_bytree=0.7,\n",
    "#               enable_categorical=False, eval_metric='auc', gamma=0.0, gpu_id=-1,\n",
    "#               importance_type=None, interaction_constraints='',\n",
    "#               learning_rate=0.060000000000000005, max_delta_step=0, max_depth=9,\n",
    "#               min_child_weight=2, missing=nan, monotone_constraints='()',\n",
    "#               n_estimators=439, n_jobs=20, num_parallel_tree=1,\n",
    "#               predictor='auto', random_state=57, reg_alpha=0, reg_lambda=1,\n",
    "#               scale_pos_weight=30, subsample=1.0, tree_method='exact',\n",
    "#               validate_parameters=1, verbosity=None)"
   ]
  },
  {
   "cell_type": "code",
   "execution_count": 20,
   "metadata": {
    "execution": {
     "iopub.execute_input": "2022-06-06T15:55:38.183957Z",
     "iopub.status.busy": "2022-06-06T15:55:38.183957Z",
     "iopub.status.idle": "2022-06-06T15:55:38.196957Z",
     "shell.execute_reply": "2022-06-06T15:55:38.196957Z",
     "shell.execute_reply.started": "2022-06-06T15:55:38.183957Z"
    },
    "tags": []
   },
   "outputs": [],
   "source": [
    "model_params = model.get_params()"
   ]
  },
  {
   "cell_type": "code",
   "execution_count": 21,
   "metadata": {
    "application/vnd.databricks.v1+cell": {
     "inputWidgets": {},
     "nuid": "ce23a49e-d8c5-4c21-a6f2-da0332ceed72",
     "showTitle": false,
     "title": ""
    },
    "execution": {
     "iopub.execute_input": "2022-06-06T15:55:38.197958Z",
     "iopub.status.busy": "2022-06-06T15:55:38.197958Z",
     "iopub.status.idle": "2022-06-06T15:55:38.212957Z",
     "shell.execute_reply": "2022-06-06T15:55:38.212957Z",
     "shell.execute_reply.started": "2022-06-06T15:55:38.197958Z"
    },
    "tags": []
   },
   "outputs": [],
   "source": [
    "# model_params = model.get_xgb_params()"
   ]
  },
  {
   "cell_type": "code",
   "execution_count": 22,
   "metadata": {
    "application/vnd.databricks.v1+cell": {
     "inputWidgets": {},
     "nuid": "efc5531e-779d-46b8-87b0-baf8ca05e6b2",
     "showTitle": false,
     "title": ""
    },
    "execution": {
     "iopub.execute_input": "2022-06-06T15:55:38.213957Z",
     "iopub.status.busy": "2022-06-06T15:55:38.213957Z",
     "iopub.status.idle": "2022-06-06T15:55:38.244956Z",
     "shell.execute_reply": "2022-06-06T15:55:38.244956Z",
     "shell.execute_reply.started": "2022-06-06T15:55:38.213957Z"
    },
    "tags": []
   },
   "outputs": [
    {
     "name": "stdout",
     "output_type": "stream",
     "text": [
      "Confusion matrix:\n",
      "[[3931   45]\n",
      " [  59   74]]\n",
      "\n",
      "f1 score = 0.59\n"
     ]
    }
   ],
   "source": [
    "# y_proba = model.predict_proba(X_test)[:, 1]\n",
    "\n",
    "# threshold = 0.9\n",
    "# y_pred = np.where(y_proba > threshold, 1, 0)\n",
    "\n",
    "y_pred = model.predict(X_test)\n",
    "\n",
    "cf = confusion_matrix(y_test, y_pred)\n",
    "print(f\"Confusion matrix:\\n{cf}\")\n",
    "\n",
    "f1 = f1_score(y_test, y_pred)\n",
    "print(f\"\\nf1 score = {f1:.2}\")"
   ]
  },
  {
   "cell_type": "code",
   "execution_count": 23,
   "metadata": {
    "application/vnd.databricks.v1+cell": {
     "inputWidgets": {},
     "nuid": "95f36788-dfec-4630-85b1-f67f77618c3e",
     "showTitle": false,
     "title": ""
    },
    "execution": {
     "iopub.execute_input": "2022-06-06T15:55:38.245957Z",
     "iopub.status.busy": "2022-06-06T15:55:38.245957Z",
     "iopub.status.idle": "2022-06-06T15:55:38.416956Z",
     "shell.execute_reply": "2022-06-06T15:55:38.416956Z",
     "shell.execute_reply.started": "2022-06-06T15:55:38.245957Z"
    },
    "tags": []
   },
   "outputs": [
    {
     "data": {
      "image/png": "[encoded data removed]",
      "text/plain": [
       "<Figure size 432x288 with 2 Axes>"
      ]
     },
     "metadata": {},
     "output_type": "display_data"
    }
   ],
   "source": [
    "_ = ConfusionMatrixDisplay(cf).plot()"
   ]
  },
  {
   "cell_type": "code",
   "execution_count": 24,
   "metadata": {
    "application/vnd.databricks.v1+cell": {
     "inputWidgets": {},
     "nuid": "0b7aac33-0faa-4f15-aeab-43beeb05dce0",
     "showTitle": false,
     "title": ""
    },
    "execution": {
     "iopub.execute_input": "2022-06-06T15:55:38.417957Z",
     "iopub.status.busy": "2022-06-06T15:55:38.417957Z",
     "iopub.status.idle": "2022-06-06T15:55:38.432956Z",
     "shell.execute_reply": "2022-06-06T15:55:38.432956Z",
     "shell.execute_reply.started": "2022-06-06T15:55:38.417957Z"
    },
    "tags": []
   },
   "outputs": [],
   "source": [
    "# joblib.dump(model, os.path.join(path, \"2205_hr_xgb_model.pkl\"))"
   ]
  },
  {
   "cell_type": "code",
   "execution_count": 25,
   "metadata": {
    "application/vnd.databricks.v1+cell": {
     "inputWidgets": {},
     "nuid": "468ff188-5709-404f-8dc8-733acca1b4a4",
     "showTitle": false,
     "title": ""
    },
    "execution": {
     "iopub.execute_input": "2022-06-06T15:55:38.433957Z",
     "iopub.status.busy": "2022-06-06T15:55:38.433957Z",
     "iopub.status.idle": "2022-06-06T16:03:29.309979Z",
     "shell.execute_reply": "2022-06-06T16:03:29.309979Z",
     "shell.execute_reply.started": "2022-06-06T15:55:38.433957Z"
    },
    "tags": []
   },
   "outputs": [
    {
     "data": {
      "application/vnd.jupyter.widget-view+json": {
       "model_id": "9185fbdf99e34de09e5f049b4563d16a",
       "version_major": 2,
       "version_minor": 0
      },
      "text/plain": [
       "  0%|          | 0/100 [00:00<?, ?it/s]"
      ]
     },
     "metadata": {},
     "output_type": "display_data"
    },
    {
     "name": "stdout",
     "output_type": "stream",
     "text": [
      "6 attributes confirmed important: ['percent_of_market_after_action', 'prev_wage', 'age_at_action', 'pts', 'Time_In_TDS', 'annual_salary']\n",
      "36 attributes confirmed unimportant: ['x4_Unknown', 'x1_24', 'x3_Two or More Races', 'x1_20', 'hired_bool', 'x1_51', 'x3_Native Hawaiian or Other Pacific Islander', 'x3_Black or African American', 'gender', 'x2_Wireline', 'x2_OOT', 'x3_Asian', 'retiree_med', 'x6_No', 'x3_Hispanic/Latino', 'x0_Non-Union Emp', 'x5_Yes', 'x4_POC', 'Time_In_Payscale', 'x3_White', 'fst_bool', 'x5_No', 'x5_Unknown', 'x6_Yes', 'x4_Non-POC', 'x1_25', 'x2_Cable', 'x3_Unknown', 'x6_Unknown', 'progression_bool', 'x3_American Indian or Alaskan Native', 'urg_current', 'promotion_bool', 'x1_50', 'emp_subgroup', 'commission']\n",
      "0 tentative attributes remains: []\n"
     ]
    }
   ],
   "source": [
    "from BorutaShap import BorutaShap, load_data\n",
    "\n",
    "# X_train, X_val, y_train, y_val = train_test_split(\n",
    "#     X, y, test_size=0.2, shuffle=True, stratify=y, random_state=random_state\n",
    "# )\n",
    "\n",
    "# params = {\n",
    "#     \"learning_rate\": 0.021,\n",
    "#     \"l2_leaf_reg\": 30,\n",
    "#     \"verbose\": False,\n",
    "#     \"random_strength\": 0.6,\n",
    "#     \"bagging_temperature\": 0.1,\n",
    "#     \"task_type\": \"CPU\",\n",
    "#     # \"task_type\": \"GPU\",\n",
    "#     # \"bootstrap_type\": \"Poisson\",\n",
    "#     \"subsample\": 0.253214900809937,\n",
    "#     \"max_depth\": 6,\n",
    "#     \"n_estimators\": 7778,\n",
    "#     \"max_bin\": 2470,\n",
    "#     \"min_data_in_leaf\": 82,\n",
    "# }\n",
    "\n",
    "# model = XGBClassifier(eval_metric=\"error\", random_state=random_state)\n",
    "model = XGBClassifier(**model_params)\n",
    "\n",
    "Feature_Selector = BorutaShap(\n",
    "    model=model, importance_measure=\"shap\", classification=True,\n",
    ")\n",
    "\n",
    "Feature_Selector.fit(\n",
    "    X=X_train,\n",
    "    y=y_train,\n",
    "    n_trials=100,\n",
    "    sample=False,\n",
    "    train_or_test=\"test\",\n",
    "    normalize=True,\n",
    "    verbose=True,\n",
    ")"
   ]
  },
  {
   "cell_type": "code",
   "execution_count": 26,
   "metadata": {
    "application/vnd.databricks.v1+cell": {
     "inputWidgets": {},
     "nuid": "430426c2-bfa8-4300-9f5c-e9a854c8952e",
     "showTitle": false,
     "title": ""
    },
    "execution": {
     "iopub.execute_input": "2022-06-06T16:03:29.310980Z",
     "iopub.status.busy": "2022-06-06T16:03:29.310980Z",
     "iopub.status.idle": "2022-06-06T16:03:30.634979Z",
     "shell.execute_reply": "2022-06-06T16:03:30.634979Z",
     "shell.execute_reply.started": "2022-06-06T16:03:29.310980Z"
    },
    "tags": []
   },
   "outputs": [
    {
     "data": {
      "image/png": "[encoded data removed]",
      "text/plain": [
       "<Figure size 864x576 with 1 Axes>"
      ]
     },
     "metadata": {},
     "output_type": "display_data"
    }
   ],
   "source": [
    "# Returns Boxplot of features\n",
    "Feature_Selector.plot(which_features=\"all\")"
   ]
  },
  {
   "cell_type": "code",
   "execution_count": 27,
   "metadata": {
    "application/vnd.databricks.v1+cell": {
     "inputWidgets": {},
     "nuid": "d3846c48-4636-4b37-a90b-b5de2bcf1c87",
     "showTitle": false,
     "title": ""
    },
    "execution": {
     "iopub.execute_input": "2022-06-06T16:03:30.635980Z",
     "iopub.status.busy": "2022-06-06T16:03:30.635980Z",
     "iopub.status.idle": "2022-06-06T16:03:30.650980Z",
     "shell.execute_reply": "2022-06-06T16:03:30.650980Z",
     "shell.execute_reply.started": "2022-06-06T16:03:30.635980Z"
    },
    "tags": []
   },
   "outputs": [
    {
     "data": {
      "text/plain": [
       "Index(['percent_of_market_after_action', 'prev_wage', 'age_at_action', 'pts',\n",
       "       'Time_In_TDS', 'annual_salary'],\n",
       "      dtype='object')"
      ]
     },
     "execution_count": 27,
     "metadata": {},
     "output_type": "execute_result"
    }
   ],
   "source": [
    "Feature_Selector.Subset().columns"
   ]
  },
  {
   "cell_type": "code",
   "execution_count": 28,
   "metadata": {
    "application/vnd.databricks.v1+cell": {
     "inputWidgets": {},
     "nuid": "89809d34-17da-4128-993e-24f00fd16adc",
     "showTitle": false,
     "title": ""
    },
    "execution": {
     "iopub.execute_input": "2022-06-06T16:03:30.651980Z",
     "iopub.status.busy": "2022-06-06T16:03:30.651980Z",
     "iopub.status.idle": "2022-06-06T16:03:31.062979Z",
     "shell.execute_reply": "2022-06-06T16:03:31.062979Z",
     "shell.execute_reply.started": "2022-06-06T16:03:30.651980Z"
    },
    "tags": []
   },
   "outputs": [
    {
     "data": {
      "image/png": "[encoded data removed]",
      "text/plain": [
       "<Figure size 864x576 with 1 Axes>"
      ]
     },
     "metadata": {},
     "output_type": "display_data"
    }
   ],
   "source": [
    "Feature_Selector.plot(which_features=\"accepted\")"
   ]
  },
  {
   "cell_type": "code",
   "execution_count": 29,
   "metadata": {
    "application/vnd.databricks.v1+cell": {
     "inputWidgets": {},
     "nuid": "fb4e42bb-2090-4e41-865f-6b4f58d45ed3",
     "showTitle": false,
     "title": ""
    },
    "execution": {
     "iopub.execute_input": "2022-06-06T16:03:31.064979Z",
     "iopub.status.busy": "2022-06-06T16:03:31.064979Z",
     "iopub.status.idle": "2022-06-06T16:03:31.078980Z",
     "shell.execute_reply": "2022-06-06T16:03:31.078980Z",
     "shell.execute_reply.started": "2022-06-06T16:03:31.064979Z"
    },
    "tags": []
   },
   "outputs": [
    {
     "data": {
      "text/plain": [
       "42"
      ]
     },
     "execution_count": 29,
     "metadata": {},
     "output_type": "execute_result"
    }
   ],
   "source": [
    "len(scaled_test_data.columns) + len(ohe_enc_test_data.columns) + 1"
   ]
  },
  {
   "cell_type": "code",
   "execution_count": null,
   "metadata": {},
   "outputs": [],
   "source": []
  }
 ],
 "metadata": {
  "application/vnd.databricks.v1+notebook": {
   "dashboards": [],
   "language": "python",
   "notebookMetadata": {
    "pythonIndentUnit": 4
   },
   "notebookName": "Modeling_classifier_pmm",
   "notebookOrigID": 3616714306642311,
   "widgets": {}
  },
  "kernelspec": {
   "display_name": "Python [conda env:pmm39]",
   "language": "python",
   "name": "conda-env-pmm39-py"
  },
  "language_info": {
   "codemirror_mode": {
    "name": "ipython",
    "version": 3
   },
   "file_extension": ".py",
   "mimetype": "text/x-python",
   "name": "python",
   "nbconvert_exporter": "python",
   "pygments_lexer": "ipython3",
   "version": "3.9.12"
  }
 },
 "nbformat": 4,
 "nbformat_minor": 4
}
