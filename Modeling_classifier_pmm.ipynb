{
 "cells": [
  {
   "cell_type": "code",
   "execution_count": 187,
   "metadata": {
    "application/vnd.databricks.v1+cell": {
     "inputWidgets": {},
     "nuid": "500f5720-9d5a-46a8-bafc-5f05e06cfe64",
     "showTitle": false,
     "title": ""
    },
    "execution": {
     "iopub.execute_input": "2022-06-07T01:04:24.893914Z",
     "iopub.status.busy": "2022-06-07T01:04:24.893914Z",
     "iopub.status.idle": "2022-06-07T01:04:24.904930Z",
     "shell.execute_reply": "2022-06-07T01:04:24.904930Z",
     "shell.execute_reply.started": "2022-06-07T01:04:24.893914Z"
    },
    "tags": []
   },
   "outputs": [],
   "source": [
    "from IPython.core.interactiveshell import InteractiveShell\n",
    "\n",
    "InteractiveShell.ast_node_interactivity = \"all\"\n",
    "import os\n",
    "import pandas as pd\n",
    "from datetime import datetime\n",
    "import numpy as np\n",
    "import joblib\n",
    "import matplotlib.pyplot as plt\n",
    "import shap\n",
    "\n",
    "# import neptune.new as neptune\n",
    "# import neptune.new.integrations.optuna as optuna_utils\n",
    "\n",
    "%matplotlib inline\n",
    "from collections import Counter\n",
    "import math\n",
    "import seaborn as sns\n",
    "\n",
    "sns.set_style(\"ticks\")\n",
    "from pathlib import Path\n",
    "from sklearn.cluster import KMeans\n",
    "from sklearn.compose import ColumnTransformer\n",
    "from sklearn.ensemble import (\n",
    "    HistGradientBoostingClassifier,\n",
    "    RandomForestRegressor,\n",
    ")\n",
    "from sklearn.experimental import enable_iterative_imputer\n",
    "from sklearn.impute import SimpleImputer, IterativeImputer, KNNImputer\n",
    "from sklearn.linear_model import LogisticRegression\n",
    "from sklearn.discriminant_analysis import LinearDiscriminantAnalysis\n",
    "from sklearn.metrics import (\n",
    "    roc_auc_score,\n",
    "    accuracy_score,\n",
    "    confusion_matrix,\n",
    "    ConfusionMatrixDisplay,\n",
    "    plot_confusion_matrix,\n",
    "    f1_score,\n",
    "    precision_recall_fscore_support,\n",
    ")\n",
    "from sklearn.model_selection import (\n",
    "    train_test_split,\n",
    "    StratifiedKFold,\n",
    "    GridSearchCV,\n",
    "    RandomizedSearchCV,\n",
    "    StratifiedShuffleSplit,\n",
    "    StratifiedKFold,\n",
    ")\n",
    "from sklearn.pipeline import Pipeline\n",
    "from sklearn.preprocessing import (\n",
    "    MinMaxScaler,\n",
    "    StandardScaler,\n",
    "    RobustScaler,\n",
    "    PowerTransformer,\n",
    "    OrdinalEncoder,\n",
    "    OneHotEncoder,\n",
    "    LabelEncoder,\n",
    ")\n",
    "from xgboost import XGBClassifier, XGBRegressor\n",
    "from catboost import CatBoostClassifier, CatBoostRegressor\n",
    "from lightgbm import LGBMClassifier, LGBMRegressor\n",
    "import optuna\n",
    "import functools\n",
    "import warnings\n",
    "import gc\n",
    "import platform\n",
    "\n",
    "warnings.filterwarnings(\"ignore\")\n",
    "\n",
    "from IPython.core.interactiveshell import InteractiveShell\n",
    "\n",
    "InteractiveShell.ast_node_interactivity = \"all\"\n",
    "pd.options.display.max_columns = None"
   ]
  },
  {
   "cell_type": "code",
   "execution_count": 188,
   "metadata": {
    "application/vnd.databricks.v1+cell": {
     "inputWidgets": {},
     "nuid": "30685b1c-e3fa-40d2-a91d-225a94e6c2b8",
     "showTitle": false,
     "title": ""
    },
    "execution": {
     "iopub.execute_input": "2022-06-07T01:04:24.905914Z",
     "iopub.status.busy": "2022-06-07T01:04:24.905914Z",
     "iopub.status.idle": "2022-06-07T01:04:24.920919Z",
     "shell.execute_reply": "2022-06-07T01:04:24.920919Z",
     "shell.execute_reply.started": "2022-06-07T01:04:24.905914Z"
    },
    "tags": []
   },
   "outputs": [],
   "source": [
    "random_state = 57\n",
    "now = lambda: datetime.now().strftime(\"%Y-%m-%dT%Hh%Mm%Ss\")\n",
    "\n",
    "\n",
    "def is_databricks():\n",
    "    return True if \"DATABRICKS_RUNTIME_VERSION\" in os.environ else False\n",
    "\n",
    "\n",
    "scale_pos_weight = round(\n",
    "    len(df[df[\"churned\"] == 0]) / len(df[df[\"churned\"] == 1])\n",
    ")\n",
    "\n",
    "running_on = platform.system()\n",
    "\n",
    "if running_on == \"Windows\":\n",
    "    path = fr\"C:\\Users\\pmm\\ownCloud\\jupyter\\22-05 HR\"\n",
    "elif running_on == \"Darwin\":\n",
    "    path = f\"/Users/pmm/ownCloud/jupyter/22-05 HR\"\n",
    "elif \"google.colab\" in str(get_ipython()):\n",
    "    path = \"/content\"\n",
    "elif is_databricks():\n",
    "    my_container = \"projects\"\n",
    "    my_lake = \"tdsdsdatalake\"\n",
    "    mount_point = f\"/mnt/{my_container}\"\n",
    "    path = f\"{mount_point}\"\n",
    "\n",
    "    configs = {\n",
    "        \"fs.azure.account.auth.type\": \"CustomAccessToken\",\n",
    "        \"fs.azure.account.custom.token.provider.class\": spark.conf.get(\n",
    "            \"spark.databricks.passthrough.adls.gen2.tokenProviderClassName\"\n",
    "        ),\n",
    "    }\n",
    "\n",
    "    if not any(\n",
    "        mount.mountPoint == mount_point for mount in dbutils.fs.mounts()\n",
    "    ):\n",
    "        dbutils.fs.mount(\n",
    "            source=f\"abfss://{my_container}@{my_lake}.dfs.core.windows.net/\",\n",
    "            mount_point=mount_point,\n",
    "            extra_configs=configs,\n",
    "        )"
   ]
  },
  {
   "cell_type": "code",
   "execution_count": 189,
   "metadata": {
    "application/vnd.databricks.v1+cell": {
     "inputWidgets": {},
     "nuid": "54cf768e-1557-417e-bde3-b3807dc19e97",
     "showTitle": false,
     "title": ""
    },
    "execution": {
     "iopub.execute_input": "2022-06-07T01:04:24.921914Z",
     "iopub.status.busy": "2022-06-07T01:04:24.921914Z",
     "iopub.status.idle": "2022-06-07T01:04:24.951919Z",
     "shell.execute_reply": "2022-06-07T01:04:24.951919Z",
     "shell.execute_reply.started": "2022-06-07T01:04:24.921914Z"
    },
    "tags": []
   },
   "outputs": [],
   "source": [
    "if is_databricks():\n",
    "    data_file = f\"{mount_point}/2022-05 HR/df.parquet\"\n",
    "    df_orig = spark.read.parquet(data_file).select(\"*\").toPandas()\n",
    "else:\n",
    "    data_file = f\"{path}/df.parquet\"\n",
    "    df_orig = pd.read_parquet(data_file)"
   ]
  },
  {
   "cell_type": "code",
   "execution_count": 190,
   "metadata": {
    "application/vnd.databricks.v1+cell": {
     "inputWidgets": {},
     "nuid": "120af7a1-7be8-429e-ad2d-e891405f0870",
     "showTitle": false,
     "title": ""
    },
    "execution": {
     "iopub.execute_input": "2022-06-07T01:04:24.952913Z",
     "iopub.status.busy": "2022-06-07T01:04:24.952913Z",
     "iopub.status.idle": "2022-06-07T01:04:24.967920Z",
     "shell.execute_reply": "2022-06-07T01:04:24.967920Z",
     "shell.execute_reply.started": "2022-06-07T01:04:24.952913Z"
    },
    "tags": []
   },
   "outputs": [],
   "source": [
    "df = df_orig.copy()\n",
    "# df = df[df[\"start_date\"] < \"2201-04-01\"]"
   ]
  },
  {
   "cell_type": "code",
   "execution_count": 191,
   "metadata": {
    "application/vnd.databricks.v1+cell": {
     "inputWidgets": {},
     "nuid": "86744196-3fa6-4ae5-bc26-1fcdb3226a63",
     "showTitle": false,
     "title": ""
    },
    "execution": {
     "iopub.execute_input": "2022-06-07T01:04:24.969913Z",
     "iopub.status.busy": "2022-06-07T01:04:24.969913Z",
     "iopub.status.idle": "2022-06-07T01:04:24.999187Z",
     "shell.execute_reply": "2022-06-07T01:04:24.998165Z",
     "shell.execute_reply.started": "2022-06-07T01:04:24.969913Z"
    },
    "tags": []
   },
   "outputs": [],
   "source": [
    "dtypes = {\n",
    "    \"pers_no\": \"object\",\n",
    "    \"job_key\": \"object\",\n",
    "    \"position\": \"object\",\n",
    "    \"job_abbrev\": \"object\",\n",
    "    \"contract\": \"object\",\n",
    "    \"act\": \"object\",\n",
    "    \"reason\": \"int64\",\n",
    "    \"start_date\": \"datetime64[ns]\",\n",
    "    \"most_recent_hire_date_01\": \"datetime64[ns]\",\n",
    "    \"service_anniversary_16\": \"datetime64[ns]\",\n",
    "    \"cocd\": \"object\",\n",
    "    \"org_unit\": \"object\",\n",
    "    \"employee_group\": \"object\",\n",
    "    \"employee_subgroup\": \"object\",\n",
    "    \"commission_type\": \"object\",\n",
    "    \"pay_scale_group_effective_date\": \"datetime64[ns]\",\n",
    "    \"ps_group\": \"object\",\n",
    "    \"prev_ps_group\": \"object\",\n",
    "    \"annl_sal_hrly_wage\": \"float64\",\n",
    "    \"annual_salary\": \"float64\",\n",
    "    \"pay_level_midpoint\": \"float64\",\n",
    "    \"prev_wage\": \"float64\",\n",
    "    \"pts\": \"int64\",\n",
    "    \"supervisor\": \"object\",\n",
    "    \"ps_area\": \"object\",\n",
    "    \"aap\": \"object\",\n",
    "    \"city\": \"object\",\n",
    "    \"state\": \"object\",\n",
    "    \"generation\": \"object\",\n",
    "    \"retiree_medical_eligibility\": \"object\",\n",
    "    \"functional_area\": \"object\",\n",
    "    \"fst\": \"object\",\n",
    "    \"age_at_action\": \"float64\",\n",
    "    \"percent_of_market_after_action\": \"float64\",\n",
    "    \"percent_of_market_before_action\": \"float64\",\n",
    "    \"hired\": \"object\",\n",
    "    \"term\": \"object\",\n",
    "    \"retirement\": \"object\",\n",
    "    \"promotion\": \"object\",\n",
    "    \"progression\": \"object\",\n",
    "    \"previous_job_code\": \"object\",\n",
    "    \"current_bu\": \"object\",\n",
    "    \"previous_bu\": \"object\",\n",
    "    \"gender_most_current\": \"object\",\n",
    "    \"race_ethinicity_most_current\": \"object\",\n",
    "    \"poc_non_poc_most_current\": \"object\",\n",
    "    \"tds_vet_excludes_v1_v9_most_current\": \"object\",\n",
    "    \"disabled_most_current\": \"object\",\n",
    "    \"tds_vet_excludes_v1_v9_most_current\": \"object\",\n",
    "}\n",
    "\n",
    "dt = {col: dtypes[col] for col in df.columns if col in dtypes}\n",
    "df = df.astype(dt)"
   ]
  },
  {
   "cell_type": "code",
   "execution_count": 192,
   "metadata": {
    "application/vnd.databricks.v1+cell": {
     "inputWidgets": {},
     "nuid": "2f814045-bbfc-4872-9f18-4c164becaf32",
     "showTitle": false,
     "title": ""
    },
    "execution": {
     "iopub.execute_input": "2022-06-07T01:04:25.000214Z",
     "iopub.status.busy": "2022-06-07T01:04:25.000214Z",
     "iopub.status.idle": "2022-06-07T01:04:25.014778Z",
     "shell.execute_reply": "2022-06-07T01:04:25.013890Z",
     "shell.execute_reply.started": "2022-06-07T01:04:25.000214Z"
    },
    "tags": []
   },
   "outputs": [],
   "source": [
    "# df.head(10)"
   ]
  },
  {
   "cell_type": "code",
   "execution_count": 193,
   "metadata": {
    "application/vnd.databricks.v1+cell": {
     "inputWidgets": {},
     "nuid": "9fa73274-9275-43a2-b90a-4570e67672f5",
     "showTitle": false,
     "title": ""
    },
    "execution": {
     "iopub.execute_input": "2022-06-07T01:04:25.015773Z",
     "iopub.status.busy": "2022-06-07T01:04:25.015773Z",
     "iopub.status.idle": "2022-06-07T01:04:25.028987Z",
     "shell.execute_reply": "2022-06-07T01:04:25.028987Z",
     "shell.execute_reply.started": "2022-06-07T01:04:25.015773Z"
    },
    "tags": []
   },
   "outputs": [],
   "source": [
    "# df.info()"
   ]
  },
  {
   "cell_type": "code",
   "execution_count": 194,
   "metadata": {
    "application/vnd.databricks.v1+cell": {
     "inputWidgets": {},
     "nuid": "a5bb1989-9638-40c6-9249-7d572fe6094e",
     "showTitle": false,
     "title": ""
    },
    "execution": {
     "iopub.execute_input": "2022-06-07T01:04:25.029768Z",
     "iopub.status.busy": "2022-06-07T01:04:25.029768Z",
     "iopub.status.idle": "2022-06-07T01:04:25.077091Z",
     "shell.execute_reply": "2022-06-07T01:04:25.076350Z",
     "shell.execute_reply.started": "2022-06-07T01:04:25.029768Z"
    },
    "tags": []
   },
   "outputs": [],
   "source": [
    "target = \"churned\"\n",
    "num_cols = df.select_dtypes(include=np.number).columns.tolist()\n",
    "cat_cols = df.drop(columns=num_cols).columns.tolist()\n",
    "low_card_cols = df[cat_cols].loc[:, (df.nunique() <= 10)].columns.tolist()\n",
    "num_cols.remove(target)\n",
    "ord_cols = \"pts\"\n",
    "num_cols.remove(ord_cols)\n",
    "# high_card_cols = df[cat_cols].drop(columns=low_card_cols).columns"
   ]
  },
  {
   "cell_type": "code",
   "execution_count": null,
   "metadata": {
    "application/vnd.databricks.v1+cell": {
     "inputWidgets": {},
     "nuid": "924b760b-f90a-4438-b3ec-8dc50fe6363d",
     "showTitle": false,
     "title": ""
    },
    "tags": []
   },
   "outputs": [],
   "source": [
    "X = df.drop(columns=target)\n",
    "y = df[target]\n",
    "\n",
    "train_data, test_data, train_target, test_target = train_test_split(\n",
    "    X, y, test_size=0.3, stratify=y, random_state=random_state,\n",
    ")\n",
    "\n",
    "# train_data.to_parquet(\"train_data.parquet\")\n",
    "# test_data.to_parquet(\"test_data.parquet\")\n",
    "# train_target.to_csv(\"train_target.csv\")\n",
    "# test_target.to_csv(\"test_target.csv\")"
   ]
  },
  {
   "cell_type": "code",
   "execution_count": 197,
   "metadata": {
    "application/vnd.databricks.v1+cell": {
     "inputWidgets": {},
     "nuid": "8e986c0f-acdb-4735-9506-c9cde3b6f83b",
     "showTitle": false,
     "title": ""
    },
    "execution": {
     "iopub.execute_input": "2022-06-07T01:04:25.140802Z",
     "iopub.status.busy": "2022-06-07T01:04:25.140802Z",
     "iopub.status.idle": "2022-06-07T01:04:25.155884Z",
     "shell.execute_reply": "2022-06-07T01:04:25.155884Z",
     "shell.execute_reply.started": "2022-06-07T01:04:25.140802Z"
    },
    "tags": []
   },
   "outputs": [],
   "source": [
    "# scaler = StandardScaler()\n",
    "scaler = RobustScaler()\n",
    "scaled_train_data = pd.DataFrame(\n",
    "    scaler.fit_transform(train_data[num_cols]),\n",
    "    columns=num_cols,\n",
    "    index=train_data.index,\n",
    ")\n",
    "scaled_test_data = pd.DataFrame(\n",
    "    scaler.transform(test_data[num_cols]),\n",
    "    columns=num_cols,\n",
    "    index=test_data.index,\n",
    ")"
   ]
  },
  {
   "cell_type": "code",
   "execution_count": 198,
   "metadata": {
    "application/vnd.databricks.v1+cell": {
     "inputWidgets": {},
     "nuid": "41940ddd-73e5-4c32-925f-93c5bd27bbd9",
     "showTitle": false,
     "title": ""
    },
    "execution": {
     "iopub.execute_input": "2022-06-07T01:04:25.156831Z",
     "iopub.status.busy": "2022-06-07T01:04:25.156831Z",
     "iopub.status.idle": "2022-06-07T01:04:25.187814Z",
     "shell.execute_reply": "2022-06-07T01:04:25.187049Z",
     "shell.execute_reply.started": "2022-06-07T01:04:25.156831Z"
    },
    "tags": []
   },
   "outputs": [],
   "source": [
    "ohe_enc = OneHotEncoder(sparse=False)\n",
    "ohe_enc_train_data = pd.DataFrame(\n",
    "    ohe_enc.fit_transform(train_data[low_card_cols]),\n",
    "    columns=ohe_enc.get_feature_names(),\n",
    "    index=train_data.index,\n",
    ")\n",
    "ohe_enc_test_data = pd.DataFrame(\n",
    "    ohe_enc.transform(test_data[low_card_cols]),\n",
    "    columns=ohe_enc.get_feature_names(),\n",
    "    index=test_data.index,\n",
    ")\n"
   ]
  },
  {
   "cell_type": "code",
   "execution_count": 199,
   "metadata": {
    "application/vnd.databricks.v1+cell": {
     "inputWidgets": {},
     "nuid": "009cd302-6980-4c93-a856-5b9f4ef70673",
     "showTitle": false,
     "title": ""
    },
    "execution": {
     "iopub.execute_input": "2022-06-07T01:04:25.187814Z",
     "iopub.status.busy": "2022-06-07T01:04:25.187814Z",
     "iopub.status.idle": "2022-06-07T01:04:25.201819Z",
     "shell.execute_reply": "2022-06-07T01:04:25.201819Z",
     "shell.execute_reply.started": "2022-06-07T01:04:25.187814Z"
    },
    "tags": []
   },
   "outputs": [],
   "source": [
    "X_train = pd.concat(\n",
    "    [scaled_train_data, ohe_enc_train_data, train_data[ord_cols]], axis=1\n",
    ")\n",
    "X_test = pd.concat(\n",
    "    [scaled_test_data, ohe_enc_test_data, test_data[ord_cols]], axis=1\n",
    ")\n",
    "y_train = train_target\n",
    "y_test = test_target"
   ]
  },
  {
   "cell_type": "markdown",
   "metadata": {},
   "source": [
    "### XGBoost"
   ]
  },
  {
   "cell_type": "code",
   "execution_count": 200,
   "metadata": {
    "application/vnd.databricks.v1+cell": {
     "inputWidgets": {},
     "nuid": "0476b944-866b-48bd-bcc8-805f3b5e5ce7",
     "showTitle": false,
     "title": ""
    },
    "execution": {
     "iopub.execute_input": "2022-06-07T01:04:25.203820Z",
     "iopub.status.busy": "2022-06-07T01:04:25.203820Z",
     "iopub.status.idle": "2022-06-07T01:04:25.216982Z",
     "shell.execute_reply": "2022-06-07T01:04:25.216982Z",
     "shell.execute_reply.started": "2022-06-07T01:04:25.203820Z"
    },
    "tags": []
   },
   "outputs": [],
   "source": [
    "def objective(trial, X=X_train, y=y_train):\n",
    "    # X_train, X_val, y_train, y_val = train_test_split(\n",
    "    #     X,\n",
    "    #     y,\n",
    "    #     test_size=0.2,\n",
    "    #     shuffle=True,\n",
    "    #     stratify=y,\n",
    "    #     random_state=random_state,\n",
    "    # )\n",
    "    # sss = StratifiedShuffleSplit(\n",
    "    #     n_splits=10, test_size=0.2, random_state=random_state\n",
    "    # )\n",
    "    # sss.get_n_splits(X, y)\n",
    "    skf = StratifiedKFold(n_splits=5)\n",
    "    skf.get_n_splits(X, y)\n",
    "\n",
    "    params = {\n",
    "        # imbalanced classes\n",
    "        # \"scale_pos_weight\": trial.suggest_int(\"scale_pos_weight\", 1, 100),\n",
    "        \"n_estimators\": trial.suggest_int(\"n_estimators\", 200, 500),\n",
    "        \"max_depth\": trial.suggest_int(\"max_depth\", 3, 10),\n",
    "        \"min_child_weight\": trial.suggest_int(\"min_child_weight\", 1, 20),\n",
    "        \"learning_rate\": trial.suggest_discrete_uniform(\n",
    "            \"learning_rate\", 0.01, 0.1, 0.01\n",
    "        ),\n",
    "        \"subsample\": trial.suggest_discrete_uniform(\n",
    "            \"subsample\", 0.5, 1.0, 0.1\n",
    "        ),\n",
    "        \"colsample_bytree\": trial.suggest_discrete_uniform(\n",
    "            \"colsample_bytree\", 0.5, 1.0, 0.1\n",
    "        ),\n",
    "        \"gamma\": trial.suggest_discrete_uniform(\"gamma\", 0, 9, 1),\n",
    "        \"scale_pos_weight\": scale_pos_weight,\n",
    "        \"random_state\": random_state,\n",
    "        \"tree_method\": \"gpu_hist\",\n",
    "        \"objective\": \"binary:logistic\",\n",
    "        \"eval_metric\": \"auc\",\n",
    "        \"n_jobs\": -1,\n",
    "        #         \"silent\": True,\n",
    "    }\n",
    "\n",
    "    f1_scores = []\n",
    "    model = XGBClassifier(**params)\n",
    "    for train_index, val_index in skf.split(X, y):\n",
    "        # threshold = 0.9\n",
    "        X_train, X_val = X.iloc[train_index], X.iloc[val_index]\n",
    "        y_train, y_val = y.iloc[train_index], y.iloc[val_index]\n",
    "\n",
    "        model.fit(X_train, y_train)\n",
    "        # y_pred = model.predict_proba(X_val)[:, 1]\n",
    "        # y_pred = np.where(y_pred > threshold, 1, 0)\n",
    "        y_pred = model.predict(X_val)\n",
    "        f1_scores.append(f1_score(y_val, y_pred))\n",
    "\n",
    "    return round(np.mean(f1_scores), 6)"
   ]
  },
  {
   "cell_type": "code",
   "execution_count": 201,
   "metadata": {
    "application/vnd.databricks.v1+cell": {
     "inputWidgets": {},
     "nuid": "8b5e9222-6399-4e6b-90e6-fd4eaf3412f3",
     "showTitle": false,
     "title": ""
    },
    "execution": {
     "iopub.execute_input": "2022-06-07T01:04:25.217984Z",
     "iopub.status.busy": "2022-06-07T01:04:25.217984Z",
     "iopub.status.idle": "2022-06-07T01:04:25.233089Z",
     "shell.execute_reply": "2022-06-07T01:04:25.232339Z",
     "shell.execute_reply.started": "2022-06-07T01:04:25.217984Z"
    },
    "tags": []
   },
   "outputs": [],
   "source": [
    "# study_name = f\"xgb{random_state}\"\n",
    "# db_file = os.path.join(path, f\"{now()}_{study_name}.db\")\n",
    "# study = optuna.create_study(\n",
    "#     study_name=study_name,\n",
    "#     direction=\"maximize\",\n",
    "#     # storage=f\"sqlite:///{db_file}\",\n",
    "# )\n",
    "\n",
    "# study.optimize(objective, n_trials=100)"
   ]
  },
  {
   "cell_type": "code",
   "execution_count": 202,
   "metadata": {
    "application/vnd.databricks.v1+cell": {
     "inputWidgets": {},
     "nuid": "9b053bcc-75b8-46f1-b9fb-5669d6073854",
     "showTitle": false,
     "title": ""
    },
    "execution": {
     "iopub.execute_input": "2022-06-07T01:04:25.233089Z",
     "iopub.status.busy": "2022-06-07T01:04:25.233089Z",
     "iopub.status.idle": "2022-06-07T01:04:25.248544Z",
     "shell.execute_reply": "2022-06-07T01:04:25.247745Z",
     "shell.execute_reply.started": "2022-06-07T01:04:25.233089Z"
    },
    "tags": []
   },
   "outputs": [],
   "source": [
    "# study.best_params\n",
    "best_params = {\n",
    "    \"n_estimators\": 482,\n",
    "    \"max_depth\": 6,\n",
    "    \"min_child_weight\": 2,\n",
    "    \"learning_rate\": 0.09,\n",
    "    \"subsample\": 0.9,\n",
    "    \"colsample_bytree\": 1.0,\n",
    "    \"gamma\": 5.0,\n",
    "}"
   ]
  },
  {
   "cell_type": "code",
   "execution_count": 224,
   "metadata": {
    "application/vnd.databricks.v1+cell": {
     "inputWidgets": {},
     "nuid": "2d16782a-b82c-4fcd-831e-198b972de447",
     "showTitle": false,
     "title": ""
    },
    "execution": {
     "iopub.execute_input": "2022-06-07T17:10:59.636613Z",
     "iopub.status.busy": "2022-06-07T17:10:59.636613Z",
     "iopub.status.idle": "2022-06-07T17:11:02.094089Z",
     "shell.execute_reply": "2022-06-07T17:11:02.094089Z",
     "shell.execute_reply.started": "2022-06-07T17:10:59.636613Z"
    },
    "tags": []
   },
   "outputs": [
    {
     "data": {
      "text/plain": [
       "XGBClassifier(base_score=0.5, booster='gbtree', colsample_bylevel=1,\n",
       "              colsample_bynode=1, colsample_bytree=1.0,\n",
       "              enable_categorical=False, eval_metric='auc', gamma=5.0, gpu_id=-1,\n",
       "              importance_type=None, interaction_constraints='',\n",
       "              learning_rate=0.09, max_delta_step=0, max_depth=6,\n",
       "              min_child_weight=2, missing=nan, monotone_constraints='()',\n",
       "              n_estimators=482, n_jobs=20, num_parallel_tree=1,\n",
       "              predictor='auto', random_state=57, reg_alpha=0, reg_lambda=1,\n",
       "              scale_pos_weight=30, subsample=0.9, tree_method='exact',\n",
       "              validate_parameters=1, verbosity=None)"
      ]
     },
     "execution_count": 224,
     "metadata": {},
     "output_type": "execute_result"
    }
   ],
   "source": [
    "model = XGBClassifier(\n",
    "    **best_params,\n",
    "    scale_pos_weight=30,\n",
    "    objective=\"binary:logistic\",\n",
    "    eval_metric=\"auc\",\n",
    "    random_state=random_state\n",
    ")\n",
    "model.fit(X_train, y_train)"
   ]
  },
  {
   "cell_type": "code",
   "execution_count": 206,
   "metadata": {
    "execution": {
     "iopub.execute_input": "2022-06-07T01:04:27.620115Z",
     "iopub.status.busy": "2022-06-07T01:04:27.620115Z",
     "iopub.status.idle": "2022-06-07T01:04:27.633184Z",
     "shell.execute_reply": "2022-06-07T01:04:27.633184Z",
     "shell.execute_reply.started": "2022-06-07T01:04:27.620115Z"
    },
    "tags": []
   },
   "outputs": [],
   "source": [
    "model_params = model.get_params()"
   ]
  },
  {
   "cell_type": "code",
   "execution_count": 225,
   "metadata": {
    "application/vnd.databricks.v1+cell": {
     "inputWidgets": {},
     "nuid": "efc5531e-779d-46b8-87b0-baf8ca05e6b2",
     "showTitle": false,
     "title": ""
    },
    "execution": {
     "iopub.execute_input": "2022-06-07T17:11:04.143120Z",
     "iopub.status.busy": "2022-06-07T17:11:04.143120Z",
     "iopub.status.idle": "2022-06-07T17:11:04.156090Z",
     "shell.execute_reply": "2022-06-07T17:11:04.156090Z",
     "shell.execute_reply.started": "2022-06-07T17:11:04.143120Z"
    },
    "tags": []
   },
   "outputs": [
    {
     "name": "stdout",
     "output_type": "stream",
     "text": [
      "Confusion matrix:\n",
      "[[3931   45]\n",
      " [  59   74]]\n",
      "\n",
      "f1 score = 0.59\n"
     ]
    }
   ],
   "source": [
    "# threshold = 0.9\n",
    "# y_proba = model.predict_proba(X_test)[:, 1]\n",
    "# y_pred = np.where(y_proba > threshold, 1, 0)\n",
    "\n",
    "y_pred = model.predict(X_test)\n",
    "\n",
    "cf = confusion_matrix(y_test, y_pred)\n",
    "print(f\"Confusion matrix:\\n{cf}\")\n",
    "\n",
    "f1 = f1_score(y_test, y_pred)\n",
    "print(f\"\\nf1 score = {f1:.2}\")"
   ]
  },
  {
   "cell_type": "code",
   "execution_count": 228,
   "metadata": {
    "execution": {
     "iopub.execute_input": "2022-06-07T17:11:54.708459Z",
     "iopub.status.busy": "2022-06-07T17:11:54.708459Z",
     "iopub.status.idle": "2022-06-07T17:11:54.776458Z",
     "shell.execute_reply": "2022-06-07T17:11:54.776458Z",
     "shell.execute_reply.started": "2022-06-07T17:11:54.708459Z"
    },
    "tags": []
   },
   "outputs": [
    {
     "data": {
      "image/png": "[encoded data removed]",
      "text/plain": [
       "<Figure size 432x288 with 1 Axes>"
      ]
     },
     "metadata": {},
     "output_type": "display_data"
    }
   ],
   "source": [
    "cm = ConfusionMatrixDisplay.from_estimator(\n",
    "    model,\n",
    "    X_test,\n",
    "    y_test,\n",
    "    display_labels=[\"no churn\", \"churn\"],\n",
    "    cmap=plt.cm.Greens,\n",
    "    colorbar=False,\n",
    ")\n",
    "\n",
    "# _= cm.plot()\n",
    "# _= cm.ax_.set_title(\"Error Matrix\", fontsize=14)"
   ]
  },
  {
   "cell_type": "code",
   "execution_count": 211,
   "metadata": {
    "application/vnd.databricks.v1+cell": {
     "inputWidgets": {},
     "nuid": "0b7aac33-0faa-4f15-aeab-43beeb05dce0",
     "showTitle": false,
     "title": ""
    },
    "execution": {
     "iopub.execute_input": "2022-06-07T01:04:27.789143Z",
     "iopub.status.busy": "2022-06-07T01:04:27.789143Z",
     "iopub.status.idle": "2022-06-07T01:04:27.851136Z",
     "shell.execute_reply": "2022-06-07T01:04:27.850266Z",
     "shell.execute_reply.started": "2022-06-07T01:04:27.789143Z"
    },
    "tags": []
   },
   "outputs": [
    {
     "data": {
      "text/plain": [
       "['C:\\\\Users\\\\pmm\\\\ownCloud\\\\jupyter\\\\22-05 HR\\\\salary_2205_hr_xgb_model.pkl']"
      ]
     },
     "execution_count": 211,
     "metadata": {},
     "output_type": "execute_result"
    }
   ],
   "source": [
    "joblib.dump(model, os.path.join(path, \"salary_2205_hr_xgb_model.pkl\"))"
   ]
  },
  {
   "cell_type": "code",
   "execution_count": 218,
   "metadata": {
    "application/vnd.databricks.v1+cell": {
     "inputWidgets": {},
     "nuid": "468ff188-5709-404f-8dc8-733acca1b4a4",
     "showTitle": false,
     "title": ""
    },
    "execution": {
     "iopub.execute_input": "2022-06-07T16:04:05.425717Z",
     "iopub.status.busy": "2022-06-07T16:04:05.425717Z",
     "iopub.status.idle": "2022-06-07T16:09:35.425647Z",
     "shell.execute_reply": "2022-06-07T16:09:35.425647Z",
     "shell.execute_reply.started": "2022-06-07T16:04:05.425717Z"
    },
    "tags": []
   },
   "outputs": [
    {
     "data": {
      "application/vnd.jupyter.widget-view+json": {
       "model_id": "50150e74f01c4155aa30e7015493e18b",
       "version_major": 2,
       "version_minor": 0
      },
      "text/plain": [
       "  0%|          | 0/100 [00:00<?, ?it/s]"
      ]
     },
     "metadata": {},
     "output_type": "display_data"
    },
    {
     "name": "stdout",
     "output_type": "stream",
     "text": [
      "6 attributes confirmed important: ['annual_salary', 'Time_In_TDS', 'percent_of_market_after_action', 'pts', 'prev_wage', 'age_at_action']\n",
      "36 attributes confirmed unimportant: ['x4_POC', 'x5_No', 'x1_51', 'fst_bool', 'promotion_bool', 'Time_In_Payscale', 'urg_current', 'x3_Unknown', 'x1_25', 'x0_Non-Union Emp', 'x2_Wireline', 'x6_Yes', 'x1_24', 'x2_Cable', 'x3_Hispanic/Latino', 'x3_American Indian or Alaskan Native', 'x3_White', 'x1_20', 'commission', 'progression_bool', 'x2_OOT', 'emp_subgroup', 'x3_Native Hawaiian or Other Pacific Islander', 'x6_No', 'x4_Unknown', 'x3_Asian', 'x3_Black or African American', 'x5_Yes', 'x5_Unknown', 'x6_Unknown', 'x1_50', 'x4_Non-POC', 'gender', 'retiree_med', 'x3_Two or More Races', 'hired_bool']\n",
      "0 tentative attributes remains: []\n"
     ]
    }
   ],
   "source": [
    "from BorutaShap import BorutaShap, load_data\n",
    "\n",
    "model = XGBClassifier(**model_params)\n",
    "\n",
    "Feature_Selector = BorutaShap(\n",
    "    model=model, importance_measure=\"shap\", classification=True,\n",
    ")\n",
    "\n",
    "Feature_Selector.fit(\n",
    "    X=X_train,\n",
    "    y=y_train,\n",
    "    n_trials=100,\n",
    "    sample=False,\n",
    "    train_or_test=\"test\",\n",
    "    normalize=True,\n",
    "    verbose=True,\n",
    ")"
   ]
  },
  {
   "cell_type": "code",
   "execution_count": 230,
   "metadata": {
    "application/vnd.databricks.v1+cell": {
     "inputWidgets": {},
     "nuid": "430426c2-bfa8-4300-9f5c-e9a854c8952e",
     "showTitle": false,
     "title": ""
    },
    "execution": {
     "iopub.execute_input": "2022-06-07T17:20:00.808178Z",
     "iopub.status.busy": "2022-06-07T17:20:00.808178Z",
     "iopub.status.idle": "2022-06-07T17:20:01.492625Z",
     "shell.execute_reply": "2022-06-07T17:20:01.491659Z",
     "shell.execute_reply.started": "2022-06-07T17:20:00.808178Z"
    },
    "tags": []
   },
   "outputs": [
    {
     "data": {
      "image/png": "[encoded data removed]",
      "text/plain": [
       "<Figure size 864x576 with 1 Axes>"
      ]
     },
     "metadata": {},
     "output_type": "display_data"
    }
   ],
   "source": [
    "# Returns Boxplot of features\n",
    "Feature_Selector.plot(which_features=\"all\")"
   ]
  },
  {
   "cell_type": "code",
   "execution_count": 229,
   "metadata": {
    "application/vnd.databricks.v1+cell": {
     "inputWidgets": {},
     "nuid": "d3846c48-4636-4b37-a90b-b5de2bcf1c87",
     "showTitle": false,
     "title": ""
    },
    "execution": {
     "iopub.execute_input": "2022-06-07T17:19:54.400800Z",
     "iopub.status.busy": "2022-06-07T17:19:54.400800Z",
     "iopub.status.idle": "2022-06-07T17:19:54.417769Z",
     "shell.execute_reply": "2022-06-07T17:19:54.417769Z",
     "shell.execute_reply.started": "2022-06-07T17:19:54.400800Z"
    },
    "tags": []
   },
   "outputs": [
    {
     "data": {
      "text/plain": [
       "Index(['annual_salary', 'Time_In_TDS', 'percent_of_market_after_action', 'pts',\n",
       "       'prev_wage', 'age_at_action'],\n",
       "      dtype='object')"
      ]
     },
     "execution_count": 229,
     "metadata": {},
     "output_type": "execute_result"
    }
   ],
   "source": [
    "Feature_Selector.Subset().columns"
   ]
  },
  {
   "cell_type": "code",
   "execution_count": 220,
   "metadata": {
    "application/vnd.databricks.v1+cell": {
     "inputWidgets": {},
     "nuid": "89809d34-17da-4128-993e-24f00fd16adc",
     "showTitle": false,
     "title": ""
    },
    "execution": {
     "iopub.execute_input": "2022-06-07T16:10:17.677937Z",
     "iopub.status.busy": "2022-06-07T16:10:17.677937Z",
     "iopub.status.idle": "2022-06-07T16:10:18.112235Z",
     "shell.execute_reply": "2022-06-07T16:10:18.111497Z",
     "shell.execute_reply.started": "2022-06-07T16:10:17.677937Z"
    },
    "tags": []
   },
   "outputs": [
    {
     "data": {
      "image/png": "[encoded data removed]",
      "text/plain": [
       "<Figure size 864x576 with 1 Axes>"
      ]
     },
     "metadata": {},
     "output_type": "display_data"
    }
   ],
   "source": [
    "Feature_Selector.plot(which_features=\"accepted\")"
   ]
  },
  {
   "cell_type": "code",
   "execution_count": 270,
   "metadata": {
    "execution": {
     "iopub.execute_input": "2022-06-07T19:38:12.274095Z",
     "iopub.status.busy": "2022-06-07T19:38:12.274095Z",
     "iopub.status.idle": "2022-06-07T19:38:12.286095Z",
     "shell.execute_reply": "2022-06-07T19:38:12.286095Z",
     "shell.execute_reply.started": "2022-06-07T19:38:12.274095Z"
    },
    "tags": []
   },
   "outputs": [],
   "source": [
    "# Get list of associates predicted to churn from original df\n",
    "yt = pd.Series(y_test)\n",
    "yp = pd.Series(y_pred, index=bar.index)\n",
    "idx = yp[(yp == True) * (yt == False)].index\n",
    "df.loc[idx, \"pers_no\"].to_csv(\"predicted_churn.csv\", index=False)"
   ]
  },
  {
   "cell_type": "code",
   "execution_count": 273,
   "metadata": {
    "execution": {
     "iopub.execute_input": "2022-06-07T22:33:18.219155Z",
     "iopub.status.busy": "2022-06-07T22:33:18.219155Z",
     "iopub.status.idle": "2022-06-07T22:33:18.223162Z",
     "shell.execute_reply": "2022-06-07T22:33:18.223162Z",
     "shell.execute_reply.started": "2022-06-07T22:33:18.219155Z"
    }
   },
   "outputs": [],
   "source": [
    "dfa = pd.read_csv(\"predicted_churn.csv\")"
   ]
  },
  {
   "cell_type": "code",
   "execution_count": 276,
   "metadata": {
    "execution": {
     "iopub.execute_input": "2022-06-07T22:35:05.214766Z",
     "iopub.status.busy": "2022-06-07T22:35:05.214766Z",
     "iopub.status.idle": "2022-06-07T22:35:05.223766Z",
     "shell.execute_reply": "2022-06-07T22:35:05.223766Z",
     "shell.execute_reply.started": "2022-06-07T22:35:05.214766Z"
    },
    "tags": []
   },
   "outputs": [
    {
     "data": {
      "text/plain": [
       "32"
      ]
     },
     "execution_count": 276,
     "metadata": {},
     "output_type": "execute_result"
    }
   ],
   "source": [
    "len(df[(df[\"pers_no\"].isin(dfa[\"pers_no\"])) & (df[\"churned\"] == 1)])"
   ]
  },
  {
   "cell_type": "code",
   "execution_count": 284,
   "metadata": {
    "execution": {
     "iopub.execute_input": "2022-06-07T22:45:24.343528Z",
     "iopub.status.busy": "2022-06-07T22:45:24.343528Z",
     "iopub.status.idle": "2022-06-07T22:45:24.353522Z",
     "shell.execute_reply": "2022-06-07T22:45:24.353522Z",
     "shell.execute_reply.started": "2022-06-07T22:45:24.343528Z"
    },
    "tags": []
   },
   "outputs": [
    {
     "data": {
      "text/plain": [
       "3929"
      ]
     },
     "execution_count": 284,
     "metadata": {},
     "output_type": "execute_result"
    }
   ],
   "source": [
    "train_data[\"pers_no\"].nunique()"
   ]
  },
  {
   "cell_type": "code",
   "execution_count": 278,
   "metadata": {
    "execution": {
     "iopub.execute_input": "2022-06-07T22:43:12.894971Z",
     "iopub.status.busy": "2022-06-07T22:43:12.894971Z",
     "iopub.status.idle": "2022-06-07T22:43:12.912970Z",
     "shell.execute_reply": "2022-06-07T22:43:12.912970Z",
     "shell.execute_reply.started": "2022-06-07T22:43:12.894971Z"
    }
   },
   "outputs": [],
   "source": [
    "tt_idx = yp[(yp == True) * (yt == True)].index\n",
    "tf_idx = yp[(yp == True) * (yt == False)].index\n",
    "ft_idx = yp[(yp == False) * (yt == True)].index\n",
    "ff_idx = yp[(yp == False) * (yt == False)].index"
   ]
  },
  {
   "cell_type": "code",
   "execution_count": 279,
   "metadata": {
    "execution": {
     "iopub.execute_input": "2022-06-07T22:44:04.306571Z",
     "iopub.status.busy": "2022-06-07T22:44:04.305570Z",
     "iopub.status.idle": "2022-06-07T22:44:04.316569Z",
     "shell.execute_reply": "2022-06-07T22:44:04.316569Z",
     "shell.execute_reply.started": "2022-06-07T22:44:04.306571Z"
    }
   },
   "outputs": [
    {
     "data": {
      "text/plain": [
       "74"
      ]
     },
     "execution_count": 279,
     "metadata": {},
     "output_type": "execute_result"
    }
   ],
   "source": [
    "df.loc[tt_idx, \"pers_no\"].nunique()"
   ]
  },
  {
   "cell_type": "code",
   "execution_count": 280,
   "metadata": {
    "execution": {
     "iopub.execute_input": "2022-06-07T22:44:19.127867Z",
     "iopub.status.busy": "2022-06-07T22:44:19.126868Z",
     "iopub.status.idle": "2022-06-07T22:44:19.134868Z",
     "shell.execute_reply": "2022-06-07T22:44:19.134868Z",
     "shell.execute_reply.started": "2022-06-07T22:44:19.127867Z"
    }
   },
   "outputs": [
    {
     "data": {
      "text/plain": [
       "43"
      ]
     },
     "execution_count": 280,
     "metadata": {},
     "output_type": "execute_result"
    }
   ],
   "source": [
    "df.loc[tf_idx, \"pers_no\"].nunique()"
   ]
  },
  {
   "cell_type": "code",
   "execution_count": 281,
   "metadata": {
    "execution": {
     "iopub.execute_input": "2022-06-07T22:44:30.902796Z",
     "iopub.status.busy": "2022-06-07T22:44:30.902796Z",
     "iopub.status.idle": "2022-06-07T22:44:30.908794Z",
     "shell.execute_reply": "2022-06-07T22:44:30.908794Z",
     "shell.execute_reply.started": "2022-06-07T22:44:30.902796Z"
    }
   },
   "outputs": [
    {
     "data": {
      "text/plain": [
       "59"
      ]
     },
     "execution_count": 281,
     "metadata": {},
     "output_type": "execute_result"
    }
   ],
   "source": [
    "df.loc[ft_idx, \"pers_no\"].nunique()"
   ]
  },
  {
   "cell_type": "code",
   "execution_count": 285,
   "metadata": {
    "execution": {
     "iopub.execute_input": "2022-06-07T22:46:07.524946Z",
     "iopub.status.busy": "2022-06-07T22:46:07.524946Z",
     "iopub.status.idle": "2022-06-07T22:46:07.536975Z",
     "shell.execute_reply": "2022-06-07T22:46:07.536975Z",
     "shell.execute_reply.started": "2022-06-07T22:46:07.524946Z"
    }
   },
   "outputs": [
    {
     "data": {
      "text/plain": [
       "2426"
      ]
     },
     "execution_count": 285,
     "metadata": {},
     "output_type": "execute_result"
    }
   ],
   "source": [
    "df.loc[ff_idx, \"pers_no\"].nunique()"
   ]
  },
  {
   "cell_type": "code",
   "execution_count": 286,
   "metadata": {
    "execution": {
     "iopub.execute_input": "2022-06-07T22:46:50.626046Z",
     "iopub.status.busy": "2022-06-07T22:46:50.625046Z",
     "iopub.status.idle": "2022-06-07T22:46:50.638046Z",
     "shell.execute_reply": "2022-06-07T22:46:50.638046Z",
     "shell.execute_reply.started": "2022-06-07T22:46:50.626046Z"
    }
   },
   "outputs": [
    {
     "data": {
      "text/plain": [
       "2602"
      ]
     },
     "execution_count": 286,
     "metadata": {},
     "output_type": "execute_result"
    }
   ],
   "source": [
    "2426 + 59 + 43 + 74"
   ]
  },
  {
   "cell_type": "code",
   "execution_count": null,
   "metadata": {},
   "outputs": [],
   "source": []
  }
 ],
 "metadata": {
  "application/vnd.databricks.v1+notebook": {
   "dashboards": [],
   "language": "python",
   "notebookMetadata": {
    "pythonIndentUnit": 4
   },
   "notebookName": "Modeling_classifier_pmm",
   "notebookOrigID": 3616714306642311,
   "widgets": {}
  },
  "kernelspec": {
   "display_name": "Python [conda env:pmm39]",
   "language": "python",
   "name": "conda-env-pmm39-py"
  },
  "language_info": {
   "codemirror_mode": {
    "name": "ipython",
    "version": 3
   },
   "file_extension": ".py",
   "mimetype": "text/x-python",
   "name": "python",
   "nbconvert_exporter": "python",
   "pygments_lexer": "ipython3",
   "version": "3.9.12"
  }
 },
 "nbformat": 4,
 "nbformat_minor": 4
}
