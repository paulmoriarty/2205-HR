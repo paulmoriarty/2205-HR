{
 "cells": [
  {
   "cell_type": "code",
   "execution_count": 360,
   "metadata": {
    "application/vnd.databricks.v1+cell": {
     "inputWidgets": {},
     "nuid": "500f5720-9d5a-46a8-bafc-5f05e06cfe64",
     "showTitle": false,
     "title": ""
    },
    "execution": {
     "iopub.execute_input": "2022-06-07T02:15:20.984787Z",
     "iopub.status.busy": "2022-06-07T02:15:20.984787Z",
     "iopub.status.idle": "2022-06-07T02:15:20.996786Z",
     "shell.execute_reply": "2022-06-07T02:15:20.996786Z",
     "shell.execute_reply.started": "2022-06-07T02:15:20.984787Z"
    },
    "tags": []
   },
   "outputs": [],
   "source": [
    "from IPython.core.interactiveshell import InteractiveShell\n",
    "\n",
    "InteractiveShell.ast_node_interactivity = \"all\"\n",
    "import os\n",
    "import pandas as pd\n",
    "from datetime import datetime\n",
    "import numpy as np\n",
    "import joblib\n",
    "import matplotlib.pyplot as plt\n",
    "import shap\n",
    "\n",
    "# import neptune.new as neptune\n",
    "# import neptune.new.integrations.optuna as optuna_utils\n",
    "\n",
    "%matplotlib inline\n",
    "from collections import Counter\n",
    "import math\n",
    "import seaborn as sns\n",
    "\n",
    "sns.set_style(\"ticks\")\n",
    "from pathlib import Path\n",
    "from sklearn.cluster import KMeans\n",
    "from sklearn.compose import ColumnTransformer\n",
    "from sklearn.ensemble import (\n",
    "    HistGradientBoostingClassifier,\n",
    "    RandomForestRegressor,\n",
    ")\n",
    "from sklearn.experimental import enable_iterative_imputer\n",
    "from sklearn.impute import SimpleImputer, IterativeImputer, KNNImputer\n",
    "from sklearn.linear_model import LogisticRegression\n",
    "from sklearn.discriminant_analysis import LinearDiscriminantAnalysis\n",
    "from sklearn.dummy import DummyClassifier\n",
    "from sklearn.metrics import (\n",
    "    roc_auc_score,\n",
    "    accuracy_score,\n",
    "    confusion_matrix,\n",
    "    ConfusionMatrixDisplay,\n",
    "    f1_score,\n",
    "    precision_recall_fscore_support,\n",
    ")\n",
    "from sklearn.model_selection import (\n",
    "    train_test_split,\n",
    "    StratifiedKFold,\n",
    "    GridSearchCV,\n",
    "    RandomizedSearchCV,\n",
    "    StratifiedShuffleSplit,\n",
    "    StratifiedKFold,\n",
    ")\n",
    "from sklearn.pipeline import Pipeline\n",
    "from sklearn.preprocessing import (\n",
    "    MinMaxScaler,\n",
    "    StandardScaler,\n",
    "    RobustScaler,\n",
    "    PowerTransformer,\n",
    "    OrdinalEncoder,\n",
    "    OneHotEncoder,\n",
    "    LabelEncoder,\n",
    ")\n",
    "from xgboost import XGBClassifier, XGBRegressor\n",
    "from catboost import CatBoostClassifier, CatBoostRegressor\n",
    "from lightgbm import LGBMClassifier, LGBMRegressor\n",
    "import optuna\n",
    "import functools\n",
    "import warnings\n",
    "import gc\n",
    "import platform\n",
    "\n",
    "warnings.filterwarnings(\"ignore\")\n",
    "\n",
    "from IPython.core.interactiveshell import InteractiveShell\n",
    "\n",
    "InteractiveShell.ast_node_interactivity = \"all\"\n",
    "pd.options.display.max_columns = None"
   ]
  },
  {
   "cell_type": "code",
   "execution_count": 291,
   "metadata": {
    "application/vnd.databricks.v1+cell": {
     "inputWidgets": {},
     "nuid": "30685b1c-e3fa-40d2-a91d-225a94e6c2b8",
     "showTitle": false,
     "title": ""
    },
    "execution": {
     "iopub.execute_input": "2022-06-07T01:30:20.011826Z",
     "iopub.status.busy": "2022-06-07T01:30:20.010826Z",
     "iopub.status.idle": "2022-06-07T01:30:20.025826Z",
     "shell.execute_reply": "2022-06-07T01:30:20.025826Z",
     "shell.execute_reply.started": "2022-06-07T01:30:20.011826Z"
    },
    "tags": []
   },
   "outputs": [],
   "source": [
    "random_state = 57\n",
    "now = lambda: datetime.now().strftime(\"%Y-%m-%dT%Hh%Mm%Ss\")\n",
    "\n",
    "\n",
    "def is_databricks():\n",
    "    return True if \"DATABRICKS_RUNTIME_VERSION\" in os.environ else False\n",
    "\n",
    "\n",
    "running_on = platform.system()\n",
    "\n",
    "if running_on == \"Windows\":\n",
    "    path = fr\"C:\\Users\\pmm\\ownCloud\\jupyter\\22-05 HR\"\n",
    "elif running_on == \"Darwin\":\n",
    "    path = f\"/Users/pmm/ownCloud/jupyter/22-05 HR\"\n",
    "elif \"google.colab\" in str(get_ipython()):\n",
    "    path = \"/content\"\n",
    "elif is_databricks():\n",
    "    my_container = \"projects\"\n",
    "    my_lake = \"tdsdsdatalake\"\n",
    "    mount_point = f\"/mnt/{my_container}\"\n",
    "    path = f\"{mount_point}\"\n",
    "\n",
    "    configs = {\n",
    "        \"fs.azure.account.auth.type\": \"CustomAccessToken\",\n",
    "        \"fs.azure.account.custom.token.provider.class\": spark.conf.get(\n",
    "            \"spark.databricks.passthrough.adls.gen2.tokenProviderClassName\"\n",
    "        ),\n",
    "    }\n",
    "\n",
    "    if not any(\n",
    "        mount.mountPoint == mount_point for mount in dbutils.fs.mounts()\n",
    "    ):\n",
    "        dbutils.fs.mount(\n",
    "            source=f\"abfss://{my_container}@{my_lake}.dfs.core.windows.net/\",\n",
    "            mount_point=mount_point,\n",
    "            extra_configs=configs,\n",
    "        )"
   ]
  },
  {
   "cell_type": "code",
   "execution_count": 292,
   "metadata": {
    "application/vnd.databricks.v1+cell": {
     "inputWidgets": {},
     "nuid": "54cf768e-1557-417e-bde3-b3807dc19e97",
     "showTitle": false,
     "title": ""
    },
    "execution": {
     "iopub.execute_input": "2022-06-07T01:30:20.026826Z",
     "iopub.status.busy": "2022-06-07T01:30:20.026826Z",
     "iopub.status.idle": "2022-06-07T01:30:20.055826Z",
     "shell.execute_reply": "2022-06-07T01:30:20.055826Z",
     "shell.execute_reply.started": "2022-06-07T01:30:20.026826Z"
    },
    "tags": []
   },
   "outputs": [],
   "source": [
    "if is_databricks():\n",
    "    data_file = f\"{mount_point}/2022-05 HR/df.parquet\"\n",
    "    df_orig = spark.read.parquet(data_file).select(\"*\").toPandas()\n",
    "else:\n",
    "    data_file = f\"{path}/df_adj.parquet\"\n",
    "    df_orig = pd.read_parquet(data_file)"
   ]
  },
  {
   "cell_type": "code",
   "execution_count": 293,
   "metadata": {
    "application/vnd.databricks.v1+cell": {
     "inputWidgets": {},
     "nuid": "120af7a1-7be8-429e-ad2d-e891405f0870",
     "showTitle": false,
     "title": ""
    },
    "execution": {
     "iopub.execute_input": "2022-06-07T01:30:20.056827Z",
     "iopub.status.busy": "2022-06-07T01:30:20.056827Z",
     "iopub.status.idle": "2022-06-07T01:30:20.071826Z",
     "shell.execute_reply": "2022-06-07T01:30:20.071826Z",
     "shell.execute_reply.started": "2022-06-07T01:30:20.056827Z"
    },
    "tags": []
   },
   "outputs": [],
   "source": [
    "df = df_orig.copy()\n",
    "# df = df[df[\"start_date\"] < \"2201-04-01\"]"
   ]
  },
  {
   "cell_type": "code",
   "execution_count": 294,
   "metadata": {
    "application/vnd.databricks.v1+cell": {
     "inputWidgets": {},
     "nuid": "86744196-3fa6-4ae5-bc26-1fcdb3226a63",
     "showTitle": false,
     "title": ""
    },
    "execution": {
     "iopub.execute_input": "2022-06-07T01:30:20.073826Z",
     "iopub.status.busy": "2022-06-07T01:30:20.073826Z",
     "iopub.status.idle": "2022-06-07T01:30:20.087826Z",
     "shell.execute_reply": "2022-06-07T01:30:20.087826Z",
     "shell.execute_reply.started": "2022-06-07T01:30:20.073826Z"
    },
    "tags": []
   },
   "outputs": [],
   "source": [
    "dtypes = {\n",
    "    \"pers_no\": \"object\",\n",
    "    \"job_key\": \"object\",\n",
    "    \"position\": \"object\",\n",
    "    \"job_abbrev\": \"object\",\n",
    "    \"contract\": \"object\",\n",
    "    \"act\": \"object\",\n",
    "    \"reason\": \"int64\",\n",
    "    \"start_date\": \"datetime64[ns]\",\n",
    "    \"most_recent_hire_date_01\": \"datetime64[ns]\",\n",
    "    \"service_anniversary_16\": \"datetime64[ns]\",\n",
    "    \"cocd\": \"object\",\n",
    "    \"org_unit\": \"object\",\n",
    "    \"employee_group\": \"object\",\n",
    "    \"employee_subgroup\": \"object\",\n",
    "    \"commission_type\": \"object\",\n",
    "    \"pay_scale_group_effective_date\": \"datetime64[ns]\",\n",
    "    \"ps_group\": \"object\",\n",
    "    \"prev_ps_group\": \"object\",\n",
    "    \"annl_sal_hrly_wage\": \"float64\",\n",
    "    \"annual_salary\": \"float64\",\n",
    "    \"pay_level_midpoint\": \"float64\",\n",
    "    \"prev_wage\": \"float64\",\n",
    "    \"pts\": \"int64\",\n",
    "    \"supervisor\": \"object\",\n",
    "    \"ps_area\": \"object\",\n",
    "    \"aap\": \"object\",\n",
    "    \"city\": \"object\",\n",
    "    \"state\": \"object\",\n",
    "    \"generation\": \"object\",\n",
    "    \"retiree_medical_eligibility\": \"object\",\n",
    "    \"functional_area\": \"object\",\n",
    "    \"fst\": \"object\",\n",
    "    \"age_at_action\": \"float64\",\n",
    "    \"percent_of_market_after_action\": \"float64\",\n",
    "    \"percent_of_market_before_action\": \"float64\",\n",
    "    \"hired\": \"object\",\n",
    "    \"term\": \"object\",\n",
    "    \"retirement\": \"object\",\n",
    "    \"promotion\": \"object\",\n",
    "    \"progression\": \"object\",\n",
    "    \"previous_job_code\": \"object\",\n",
    "    \"current_bu\": \"object\",\n",
    "    \"previous_bu\": \"object\",\n",
    "    \"gender_most_current\": \"object\",\n",
    "    \"race_ethinicity_most_current\": \"object\",\n",
    "    \"poc_non_poc_most_current\": \"object\",\n",
    "    \"tds_vet_excludes_v1_v9_most_current\": \"object\",\n",
    "    \"disabled_most_current\": \"object\",\n",
    "    \"tds_vet_excludes_v1_v9_most_current\": \"object\",\n",
    "}\n",
    "\n",
    "dt = {col: dtypes[col] for col in df.columns if col in dtypes}\n",
    "df = df.astype(dt)"
   ]
  },
  {
   "cell_type": "code",
   "execution_count": 295,
   "metadata": {
    "application/vnd.databricks.v1+cell": {
     "inputWidgets": {},
     "nuid": "2f814045-bbfc-4872-9f18-4c164becaf32",
     "showTitle": false,
     "title": ""
    },
    "execution": {
     "iopub.execute_input": "2022-06-07T01:30:20.088827Z",
     "iopub.status.busy": "2022-06-07T01:30:20.088827Z",
     "iopub.status.idle": "2022-06-07T01:30:20.103826Z",
     "shell.execute_reply": "2022-06-07T01:30:20.103826Z",
     "shell.execute_reply.started": "2022-06-07T01:30:20.088827Z"
    },
    "tags": []
   },
   "outputs": [],
   "source": [
    "# df.head(10)"
   ]
  },
  {
   "cell_type": "code",
   "execution_count": 296,
   "metadata": {
    "application/vnd.databricks.v1+cell": {
     "inputWidgets": {},
     "nuid": "9fa73274-9275-43a2-b90a-4570e67672f5",
     "showTitle": false,
     "title": ""
    },
    "execution": {
     "iopub.execute_input": "2022-06-07T01:30:20.104826Z",
     "iopub.status.busy": "2022-06-07T01:30:20.104826Z",
     "iopub.status.idle": "2022-06-07T01:30:20.119825Z",
     "shell.execute_reply": "2022-06-07T01:30:20.119825Z",
     "shell.execute_reply.started": "2022-06-07T01:30:20.104826Z"
    },
    "tags": []
   },
   "outputs": [],
   "source": [
    "# df.info()"
   ]
  },
  {
   "cell_type": "code",
   "execution_count": 297,
   "metadata": {
    "application/vnd.databricks.v1+cell": {
     "inputWidgets": {},
     "nuid": "a5bb1989-9638-40c6-9249-7d572fe6094e",
     "showTitle": false,
     "title": ""
    },
    "execution": {
     "iopub.execute_input": "2022-06-07T01:30:20.120826Z",
     "iopub.status.busy": "2022-06-07T01:30:20.120826Z",
     "iopub.status.idle": "2022-06-07T01:30:20.135826Z",
     "shell.execute_reply": "2022-06-07T01:30:20.135826Z",
     "shell.execute_reply.started": "2022-06-07T01:30:20.120826Z"
    },
    "tags": []
   },
   "outputs": [],
   "source": [
    "target = \"churned\""
   ]
  },
  {
   "cell_type": "code",
   "execution_count": 298,
   "metadata": {
    "application/vnd.databricks.v1+cell": {
     "inputWidgets": {},
     "nuid": "924b760b-f90a-4438-b3ec-8dc50fe6363d",
     "showTitle": false,
     "title": ""
    },
    "execution": {
     "iopub.execute_input": "2022-06-07T01:30:20.136826Z",
     "iopub.status.busy": "2022-06-07T01:30:20.136826Z",
     "iopub.status.idle": "2022-06-07T01:30:20.183856Z",
     "shell.execute_reply": "2022-06-07T01:30:20.183856Z",
     "shell.execute_reply.started": "2022-06-07T01:30:20.136826Z"
    },
    "tags": []
   },
   "outputs": [],
   "source": [
    "X = df.drop(columns=target)\n",
    "y = df[target]\n",
    "\n",
    "# train_data, test_data, train_target, test_target = train_test_split(\n",
    "#     X, y, test_size=0.2, stratify=y, random_state=random_state\n",
    "# )\n",
    "\n",
    "train_data = pd.read_parquet(\"train_data.parquet\")\n",
    "test_data = pd.read_parquet(\"test_data.parquet\")\n",
    "train_target = pd.read_csv(\"train_target.csv\", index_col=0)\n",
    "test_target = pd.read_csv(\"test_target.csv\", index_col=0)"
   ]
  },
  {
   "cell_type": "code",
   "execution_count": 299,
   "metadata": {
    "execution": {
     "iopub.execute_input": "2022-06-07T01:30:20.184828Z",
     "iopub.status.busy": "2022-06-07T01:30:20.184828Z",
     "iopub.status.idle": "2022-06-07T01:30:20.215826Z",
     "shell.execute_reply": "2022-06-07T01:30:20.215826Z",
     "shell.execute_reply.started": "2022-06-07T01:30:20.184828Z"
    },
    "tags": []
   },
   "outputs": [],
   "source": [
    "test_data_105 = pd.read_parquet(\"test_data_105.parquet\")\n",
    "test_data_95 = pd.read_parquet(\"test_data_95.parquet\")"
   ]
  },
  {
   "cell_type": "code",
   "execution_count": 300,
   "metadata": {
    "execution": {
     "iopub.execute_input": "2022-06-07T01:30:20.216827Z",
     "iopub.status.busy": "2022-06-07T01:30:20.216827Z",
     "iopub.status.idle": "2022-06-07T01:30:20.230826Z",
     "shell.execute_reply": "2022-06-07T01:30:20.230826Z",
     "shell.execute_reply.started": "2022-06-07T01:30:20.216827Z"
    },
    "tags": []
   },
   "outputs": [],
   "source": [
    "train_data = train_data.drop(\n",
    "    columns=[\"reason\", \"percent_of_market_before_action\"]\n",
    ")\n",
    "test_data = test_data.drop(\n",
    "    columns=[\"reason\", \"percent_of_market_before_action\"]\n",
    ")\n",
    "test_data_105 = test_data_105.drop(\n",
    "    columns=[\"reason\", \"percent_of_market_before_action\", \"churned\"]\n",
    ")\n",
    "test_data_95 = test_data_95.drop(\n",
    "    columns=[\"reason\", \"percent_of_market_before_action\", \"churned\"]\n",
    ")"
   ]
  },
  {
   "cell_type": "code",
   "execution_count": 301,
   "metadata": {
    "execution": {
     "iopub.execute_input": "2022-06-07T01:30:20.231826Z",
     "iopub.status.busy": "2022-06-07T01:30:20.231826Z",
     "iopub.status.idle": "2022-06-07T01:30:20.246826Z",
     "shell.execute_reply": "2022-06-07T01:30:20.246826Z",
     "shell.execute_reply.started": "2022-06-07T01:30:20.231826Z"
    },
    "tags": []
   },
   "outputs": [],
   "source": [
    "num_cols = [\n",
    "    \"annual_salary\",\n",
    "    \"prev_wage\",\n",
    "    \"age_at_action\",\n",
    "    \"percent_of_market_after_action\",\n",
    "    \"gender\",\n",
    "    \"emp_subgroup\",\n",
    "    \"commission\",\n",
    "    \"fst_bool\",\n",
    "    \"urg_current\",\n",
    "    \"retiree_med\",\n",
    "    \"progression_bool\",\n",
    "    \"promotion_bool\",\n",
    "    \"hired_bool\",\n",
    "    \"Time_In_TDS\",\n",
    "    \"Time_In_Payscale\",\n",
    "]\n",
    "cat_cols = [\n",
    "    \"pers_no\",\n",
    "    \"job_key\",\n",
    "    \"position\",\n",
    "    \"job_abbrev\",\n",
    "    \"contract\",\n",
    "    \"act\",\n",
    "    \"start_date\",\n",
    "    \"most_recent_hire_date_01\",\n",
    "    \"service_anniversary_16\",\n",
    "    \"cocd\",\n",
    "    \"org_unit\",\n",
    "    \"pay_scale_group_effective_date\",\n",
    "    \"ps_group\",\n",
    "    \"prev_ps_group\",\n",
    "    \"supervisor\",\n",
    "    \"ps_area\",\n",
    "    \"aap\",\n",
    "    \"city\",\n",
    "    \"state\",\n",
    "    \"functional_area\",\n",
    "    \"previous_job_code\",\n",
    "    \"current_bu\",\n",
    "    \"previous_bu\",\n",
    "    \"race_ethinicity_most_current\",\n",
    "    \"poc_non_poc_most_current\",\n",
    "    \"disabled_most_current\",\n",
    "    \"tds_vet_excludes_v1_v9_most_current\",\n",
    "]\n",
    "low_card_cols = [\n",
    "    \"contract\",\n",
    "    \"ps_area\",\n",
    "    \"functional_area\",\n",
    "    \"race_ethinicity_most_current\",\n",
    "    \"poc_non_poc_most_current\",\n",
    "    \"disabled_most_current\",\n",
    "    \"tds_vet_excludes_v1_v9_most_current\",\n",
    "]\n",
    "ord_cols = \"pts\"\n",
    "# high_card_cols = df[cat_cols].drop(columns=low_card_cols).columns"
   ]
  },
  {
   "cell_type": "code",
   "execution_count": 302,
   "metadata": {
    "execution": {
     "iopub.execute_input": "2022-06-07T01:30:20.247826Z",
     "iopub.status.busy": "2022-06-07T01:30:20.247826Z",
     "iopub.status.idle": "2022-06-07T01:30:20.277826Z",
     "shell.execute_reply": "2022-06-07T01:30:20.277826Z",
     "shell.execute_reply.started": "2022-06-07T01:30:20.247826Z"
    }
   },
   "outputs": [
    {
     "data": {
      "text/html": [
       "<div>\n",
       "<style scoped>\n",
       "    .dataframe tbody tr th:only-of-type {\n",
       "        vertical-align: middle;\n",
       "    }\n",
       "\n",
       "    .dataframe tbody tr th {\n",
       "        vertical-align: top;\n",
       "    }\n",
       "\n",
       "    .dataframe thead th {\n",
       "        text-align: right;\n",
       "    }\n",
       "</style>\n",
       "<table border=\"1\" class=\"dataframe\">\n",
       "  <thead>\n",
       "    <tr style=\"text-align: right;\">\n",
       "      <th></th>\n",
       "      <th>pers_no</th>\n",
       "      <th>job_key</th>\n",
       "      <th>position</th>\n",
       "      <th>job_abbrev</th>\n",
       "      <th>contract</th>\n",
       "      <th>act</th>\n",
       "      <th>start_date</th>\n",
       "      <th>most_recent_hire_date_01</th>\n",
       "      <th>service_anniversary_16</th>\n",
       "      <th>cocd</th>\n",
       "      <th>org_unit</th>\n",
       "      <th>pay_scale_group_effective_date</th>\n",
       "      <th>ps_group</th>\n",
       "      <th>prev_ps_group</th>\n",
       "      <th>annual_salary</th>\n",
       "      <th>prev_wage</th>\n",
       "      <th>pts</th>\n",
       "      <th>supervisor</th>\n",
       "      <th>ps_area</th>\n",
       "      <th>aap</th>\n",
       "      <th>city</th>\n",
       "      <th>state</th>\n",
       "      <th>functional_area</th>\n",
       "      <th>age_at_action</th>\n",
       "      <th>percent_of_market_after_action</th>\n",
       "      <th>previous_job_code</th>\n",
       "      <th>current_bu</th>\n",
       "      <th>previous_bu</th>\n",
       "      <th>race_ethinicity_most_current</th>\n",
       "      <th>poc_non_poc_most_current</th>\n",
       "      <th>disabled_most_current</th>\n",
       "      <th>tds_vet_excludes_v1_v9_most_current</th>\n",
       "      <th>gender</th>\n",
       "      <th>emp_subgroup</th>\n",
       "      <th>commission</th>\n",
       "      <th>fst_bool</th>\n",
       "      <th>urg_current</th>\n",
       "      <th>retiree_med</th>\n",
       "      <th>progression_bool</th>\n",
       "      <th>promotion_bool</th>\n",
       "      <th>hired_bool</th>\n",
       "      <th>Time_In_TDS</th>\n",
       "      <th>Time_In_Payscale</th>\n",
       "    </tr>\n",
       "  </thead>\n",
       "  <tbody>\n",
       "    <tr>\n",
       "      <th>16357</th>\n",
       "      <td>34165EA0151B23BD88C8F2F03EAB7F6BE14AB706</td>\n",
       "      <td>20012913</td>\n",
       "      <td>30126842</td>\n",
       "      <td>UD1810</td>\n",
       "      <td>Non-Union Emp</td>\n",
       "      <td>ZD</td>\n",
       "      <td>2021-04-01</td>\n",
       "      <td>2020-07-27</td>\n",
       "      <td>2020-07-27</td>\n",
       "      <td>61</td>\n",
       "      <td>10010353</td>\n",
       "      <td>2020-07-27</td>\n",
       "      <td>4H</td>\n",
       "      <td>4H</td>\n",
       "      <td>53747.2</td>\n",
       "      <td>25.50</td>\n",
       "      <td>3</td>\n",
       "      <td>B087A449F05B21A63D0076AEA9D9FEF0EE236759</td>\n",
       "      <td>50</td>\n",
       "      <td>60</td>\n",
       "      <td>PARSONS</td>\n",
       "      <td>TN</td>\n",
       "      <td>Wireline</td>\n",
       "      <td>38.272416</td>\n",
       "      <td>0.986636</td>\n",
       "      <td>20012913.0</td>\n",
       "      <td>Field Svcs</td>\n",
       "      <td>Field Svcs</td>\n",
       "      <td>White</td>\n",
       "      <td>Non-POC</td>\n",
       "      <td>Yes</td>\n",
       "      <td>No</td>\n",
       "      <td>0.0</td>\n",
       "      <td>0.0</td>\n",
       "      <td>0.0</td>\n",
       "      <td>1</td>\n",
       "      <td>0</td>\n",
       "      <td>0</td>\n",
       "      <td>0</td>\n",
       "      <td>0</td>\n",
       "      <td>0</td>\n",
       "      <td>1.860757</td>\n",
       "      <td>1.860757</td>\n",
       "    </tr>\n",
       "    <tr>\n",
       "      <th>5369</th>\n",
       "      <td>BECF0F8F5ECE4BC3A8E59F698648353DBF19A73A</td>\n",
       "      <td>20014455</td>\n",
       "      <td>30121524</td>\n",
       "      <td>UD2322</td>\n",
       "      <td>Non-Union Emp</td>\n",
       "      <td>ZX</td>\n",
       "      <td>2020-04-13</td>\n",
       "      <td>2018-09-26</td>\n",
       "      <td>2018-09-26</td>\n",
       "      <td>383</td>\n",
       "      <td>10015387</td>\n",
       "      <td>2019-07-07</td>\n",
       "      <td>C5</td>\n",
       "      <td>C5</td>\n",
       "      <td>43097.6</td>\n",
       "      <td>20.07</td>\n",
       "      <td>3</td>\n",
       "      <td>57216EA40F502F4F89CD3D37AB99E43989AB693E</td>\n",
       "      <td>51</td>\n",
       "      <td>53</td>\n",
       "      <td>KNOXVILLE</td>\n",
       "      <td>TN</td>\n",
       "      <td>Wireline</td>\n",
       "      <td>37.900068</td>\n",
       "      <td>0.846060</td>\n",
       "      <td>20014455.0</td>\n",
       "      <td>CCO</td>\n",
       "      <td>CCO</td>\n",
       "      <td>White</td>\n",
       "      <td>Non-POC</td>\n",
       "      <td>No</td>\n",
       "      <td>No</td>\n",
       "      <td>0.0</td>\n",
       "      <td>0.0</td>\n",
       "      <td>0.0</td>\n",
       "      <td>0</td>\n",
       "      <td>0</td>\n",
       "      <td>0</td>\n",
       "      <td>0</td>\n",
       "      <td>0</td>\n",
       "      <td>0</td>\n",
       "      <td>3.695155</td>\n",
       "      <td>2.917589</td>\n",
       "    </tr>\n",
       "    <tr>\n",
       "      <th>8460</th>\n",
       "      <td>960BA0EF10F51E79B0D06A79BE1C11E9E8D26258</td>\n",
       "      <td>20013784</td>\n",
       "      <td>99999999</td>\n",
       "      <td>UD2235</td>\n",
       "      <td>Non-Union Emp</td>\n",
       "      <td>ZJ</td>\n",
       "      <td>2021-05-15</td>\n",
       "      <td>2019-11-18</td>\n",
       "      <td>2019-11-18</td>\n",
       "      <td>861</td>\n",
       "      <td>10011207</td>\n",
       "      <td>2019-11-18</td>\n",
       "      <td>1E</td>\n",
       "      <td>1E</td>\n",
       "      <td>0.0</td>\n",
       "      <td>27220.00</td>\n",
       "      <td>2</td>\n",
       "      <td>BAB93AF5909F30072A164DD3077B012E541B172F</td>\n",
       "      <td>51</td>\n",
       "      <td>40</td>\n",
       "      <td>COEUR D ALENE</td>\n",
       "      <td>ID</td>\n",
       "      <td>OOT</td>\n",
       "      <td>65.174538</td>\n",
       "      <td>0.000000</td>\n",
       "      <td>20013784.0</td>\n",
       "      <td>CCO</td>\n",
       "      <td>CCO</td>\n",
       "      <td>White</td>\n",
       "      <td>Non-POC</td>\n",
       "      <td>Yes</td>\n",
       "      <td>No</td>\n",
       "      <td>0.0</td>\n",
       "      <td>1.0</td>\n",
       "      <td>1.0</td>\n",
       "      <td>0</td>\n",
       "      <td>0</td>\n",
       "      <td>0</td>\n",
       "      <td>0</td>\n",
       "      <td>0</td>\n",
       "      <td>0</td>\n",
       "      <td>2.550710</td>\n",
       "      <td>2.550710</td>\n",
       "    </tr>\n",
       "    <tr>\n",
       "      <th>7221</th>\n",
       "      <td>A6A4E99CDE08CE6AC3F239F5231B4AA1FE06C59F</td>\n",
       "      <td>20012999</td>\n",
       "      <td>30013565</td>\n",
       "      <td>UD1886</td>\n",
       "      <td>Non-Union Emp</td>\n",
       "      <td>ZC</td>\n",
       "      <td>2021-11-01</td>\n",
       "      <td>1987-02-23</td>\n",
       "      <td>1987-02-23</td>\n",
       "      <td>383</td>\n",
       "      <td>10010158</td>\n",
       "      <td>2001-08-19</td>\n",
       "      <td>7E</td>\n",
       "      <td>7E</td>\n",
       "      <td>170780.0</td>\n",
       "      <td>169090.00</td>\n",
       "      <td>3</td>\n",
       "      <td>624DEA5C9863202AE5656A9E509EFBF025CEF917</td>\n",
       "      <td>51</td>\n",
       "      <td>11</td>\n",
       "      <td>WINDSOR</td>\n",
       "      <td>WI</td>\n",
       "      <td>Wireline</td>\n",
       "      <td>61.431896</td>\n",
       "      <td>1.172940</td>\n",
       "      <td>20012999.0</td>\n",
       "      <td>IT</td>\n",
       "      <td>IT</td>\n",
       "      <td>White</td>\n",
       "      <td>Non-POC</td>\n",
       "      <td>Unknown</td>\n",
       "      <td>No</td>\n",
       "      <td>0.0</td>\n",
       "      <td>1.0</td>\n",
       "      <td>0.0</td>\n",
       "      <td>0</td>\n",
       "      <td>0</td>\n",
       "      <td>1</td>\n",
       "      <td>0</td>\n",
       "      <td>0</td>\n",
       "      <td>0</td>\n",
       "      <td>35.285126</td>\n",
       "      <td>20.798860</td>\n",
       "    </tr>\n",
       "    <tr>\n",
       "      <th>9507</th>\n",
       "      <td>89771E11229616323D8D1584B2F7F662052B4FB4</td>\n",
       "      <td>20027259</td>\n",
       "      <td>30109619</td>\n",
       "      <td>UD3727</td>\n",
       "      <td>Non-Union Emp</td>\n",
       "      <td>ZD</td>\n",
       "      <td>2020-04-01</td>\n",
       "      <td>2018-07-09</td>\n",
       "      <td>2018-07-09</td>\n",
       "      <td>383</td>\n",
       "      <td>10011980</td>\n",
       "      <td>2018-07-09</td>\n",
       "      <td>3E</td>\n",
       "      <td>3E</td>\n",
       "      <td>87850.0</td>\n",
       "      <td>86130.00</td>\n",
       "      <td>3</td>\n",
       "      <td>BB3DBB2C5FFA016851135070296A75E7065ACA15</td>\n",
       "      <td>51</td>\n",
       "      <td>21</td>\n",
       "      <td>MADISON</td>\n",
       "      <td>WI</td>\n",
       "      <td>Wireline</td>\n",
       "      <td>52.887064</td>\n",
       "      <td>1.132088</td>\n",
       "      <td>20027259.0</td>\n",
       "      <td>IT</td>\n",
       "      <td>IT</td>\n",
       "      <td>White</td>\n",
       "      <td>Non-POC</td>\n",
       "      <td>Unknown</td>\n",
       "      <td>No</td>\n",
       "      <td>1.0</td>\n",
       "      <td>1.0</td>\n",
       "      <td>0.0</td>\n",
       "      <td>0</td>\n",
       "      <td>1</td>\n",
       "      <td>0</td>\n",
       "      <td>0</td>\n",
       "      <td>0</td>\n",
       "      <td>0</td>\n",
       "      <td>3.911449</td>\n",
       "      <td>3.911449</td>\n",
       "    </tr>\n",
       "    <tr>\n",
       "      <th>...</th>\n",
       "      <td>...</td>\n",
       "      <td>...</td>\n",
       "      <td>...</td>\n",
       "      <td>...</td>\n",
       "      <td>...</td>\n",
       "      <td>...</td>\n",
       "      <td>...</td>\n",
       "      <td>...</td>\n",
       "      <td>...</td>\n",
       "      <td>...</td>\n",
       "      <td>...</td>\n",
       "      <td>...</td>\n",
       "      <td>...</td>\n",
       "      <td>...</td>\n",
       "      <td>...</td>\n",
       "      <td>...</td>\n",
       "      <td>...</td>\n",
       "      <td>...</td>\n",
       "      <td>...</td>\n",
       "      <td>...</td>\n",
       "      <td>...</td>\n",
       "      <td>...</td>\n",
       "      <td>...</td>\n",
       "      <td>...</td>\n",
       "      <td>...</td>\n",
       "      <td>...</td>\n",
       "      <td>...</td>\n",
       "      <td>...</td>\n",
       "      <td>...</td>\n",
       "      <td>...</td>\n",
       "      <td>...</td>\n",
       "      <td>...</td>\n",
       "      <td>...</td>\n",
       "      <td>...</td>\n",
       "      <td>...</td>\n",
       "      <td>...</td>\n",
       "      <td>...</td>\n",
       "      <td>...</td>\n",
       "      <td>...</td>\n",
       "      <td>...</td>\n",
       "      <td>...</td>\n",
       "      <td>...</td>\n",
       "      <td>...</td>\n",
       "    </tr>\n",
       "    <tr>\n",
       "      <th>2892</th>\n",
       "      <td>DDC29F7D2CB50A640E5F2D006168C79A266F42B6</td>\n",
       "      <td>20025630</td>\n",
       "      <td>30132110</td>\n",
       "      <td>UD3500</td>\n",
       "      <td>Non-Union Emp</td>\n",
       "      <td>ZR</td>\n",
       "      <td>2021-10-11</td>\n",
       "      <td>2021-06-09</td>\n",
       "      <td>2021-06-09</td>\n",
       "      <td>951</td>\n",
       "      <td>10011174</td>\n",
       "      <td>2021-06-09</td>\n",
       "      <td>C3</td>\n",
       "      <td>2BN</td>\n",
       "      <td>33280.0</td>\n",
       "      <td>0.00</td>\n",
       "      <td>0</td>\n",
       "      <td>887DD16F05D2EFD3B47058E4D31577CB2E851571</td>\n",
       "      <td>50</td>\n",
       "      <td>40</td>\n",
       "      <td>HOBBS</td>\n",
       "      <td>NM</td>\n",
       "      <td>Cable</td>\n",
       "      <td>27.241615</td>\n",
       "      <td>0.832033</td>\n",
       "      <td>20025630.0</td>\n",
       "      <td>CCO</td>\n",
       "      <td>CCO</td>\n",
       "      <td>Hispanic/Latino</td>\n",
       "      <td>POC</td>\n",
       "      <td>Yes</td>\n",
       "      <td>No</td>\n",
       "      <td>1.0</td>\n",
       "      <td>0.0</td>\n",
       "      <td>1.0</td>\n",
       "      <td>0</td>\n",
       "      <td>1</td>\n",
       "      <td>0</td>\n",
       "      <td>0</td>\n",
       "      <td>0</td>\n",
       "      <td>0</td>\n",
       "      <td>0.992841</td>\n",
       "      <td>0.992841</td>\n",
       "    </tr>\n",
       "    <tr>\n",
       "      <th>13982</th>\n",
       "      <td>4F3D031CB65CA462200C1D704D9EAAD16CD5189F</td>\n",
       "      <td>20023260</td>\n",
       "      <td>30101348</td>\n",
       "      <td>UD3192</td>\n",
       "      <td>Non-Union Emp</td>\n",
       "      <td>ZD</td>\n",
       "      <td>2020-01-05</td>\n",
       "      <td>2017-03-13</td>\n",
       "      <td>2017-03-13</td>\n",
       "      <td>951</td>\n",
       "      <td>10015606</td>\n",
       "      <td>2019-11-24</td>\n",
       "      <td>C2</td>\n",
       "      <td>C2</td>\n",
       "      <td>33716.8</td>\n",
       "      <td>15.73</td>\n",
       "      <td>3</td>\n",
       "      <td>6BADB7135C53A4A33EF969BB41C72B2BB273EA62</td>\n",
       "      <td>51</td>\n",
       "      <td>51</td>\n",
       "      <td>BEND</td>\n",
       "      <td>OR</td>\n",
       "      <td>Cable</td>\n",
       "      <td>38.631075</td>\n",
       "      <td>0.885309</td>\n",
       "      <td>20023260.0</td>\n",
       "      <td>Zolo</td>\n",
       "      <td>Zolo</td>\n",
       "      <td>Two or More Races</td>\n",
       "      <td>POC</td>\n",
       "      <td>No</td>\n",
       "      <td>No</td>\n",
       "      <td>1.0</td>\n",
       "      <td>0.0</td>\n",
       "      <td>0.0</td>\n",
       "      <td>0</td>\n",
       "      <td>1</td>\n",
       "      <td>0</td>\n",
       "      <td>0</td>\n",
       "      <td>0</td>\n",
       "      <td>0</td>\n",
       "      <td>5.233859</td>\n",
       "      <td>2.534282</td>\n",
       "    </tr>\n",
       "    <tr>\n",
       "      <th>4653</th>\n",
       "      <td>C7B06CEDC495DCA3502089F0DF545B4E5F82FAD1</td>\n",
       "      <td>20014455</td>\n",
       "      <td>30125659</td>\n",
       "      <td>UD2322</td>\n",
       "      <td>Non-Union Emp</td>\n",
       "      <td>ZD</td>\n",
       "      <td>2022-04-01</td>\n",
       "      <td>2018-11-19</td>\n",
       "      <td>2018-11-19</td>\n",
       "      <td>383</td>\n",
       "      <td>10015387</td>\n",
       "      <td>2020-04-12</td>\n",
       "      <td>C5</td>\n",
       "      <td>C5</td>\n",
       "      <td>42473.6</td>\n",
       "      <td>19.59</td>\n",
       "      <td>3</td>\n",
       "      <td>E53895BE2CB51AD649FEAB653AC6DC77569F8662</td>\n",
       "      <td>51</td>\n",
       "      <td>31</td>\n",
       "      <td>MONROE</td>\n",
       "      <td>WI</td>\n",
       "      <td>Wireline</td>\n",
       "      <td>32.191650</td>\n",
       "      <td>0.817454</td>\n",
       "      <td>20014455.0</td>\n",
       "      <td>CCO</td>\n",
       "      <td>CCO</td>\n",
       "      <td>Two or More Races</td>\n",
       "      <td>POC</td>\n",
       "      <td>Unknown</td>\n",
       "      <td>No</td>\n",
       "      <td>0.0</td>\n",
       "      <td>0.0</td>\n",
       "      <td>0.0</td>\n",
       "      <td>0</td>\n",
       "      <td>1</td>\n",
       "      <td>0</td>\n",
       "      <td>0</td>\n",
       "      <td>0</td>\n",
       "      <td>0</td>\n",
       "      <td>3.547308</td>\n",
       "      <td>2.150975</td>\n",
       "    </tr>\n",
       "    <tr>\n",
       "      <th>877</th>\n",
       "      <td>F4AE8046B13287DA038767C6DC70240BA6E5C861</td>\n",
       "      <td>20029453</td>\n",
       "      <td>30128143</td>\n",
       "      <td>UD4119</td>\n",
       "      <td>Non-Union Emp</td>\n",
       "      <td>ZX</td>\n",
       "      <td>2021-06-06</td>\n",
       "      <td>2018-10-10</td>\n",
       "      <td>2018-10-10</td>\n",
       "      <td>383</td>\n",
       "      <td>10015387</td>\n",
       "      <td>2020-09-27</td>\n",
       "      <td>2E</td>\n",
       "      <td>2E</td>\n",
       "      <td>56920.0</td>\n",
       "      <td>53200.00</td>\n",
       "      <td>4</td>\n",
       "      <td>25BC4D878449FCB949827CFD4A8DE1CDDC3B77CC</td>\n",
       "      <td>51</td>\n",
       "      <td>20</td>\n",
       "      <td>MADISON</td>\n",
       "      <td>WI</td>\n",
       "      <td>Wireline</td>\n",
       "      <td>27.581109</td>\n",
       "      <td>0.874347</td>\n",
       "      <td>20029453.0</td>\n",
       "      <td>CCO</td>\n",
       "      <td>CCO</td>\n",
       "      <td>White</td>\n",
       "      <td>Non-POC</td>\n",
       "      <td>No</td>\n",
       "      <td>No</td>\n",
       "      <td>0.0</td>\n",
       "      <td>1.0</td>\n",
       "      <td>0.0</td>\n",
       "      <td>0</td>\n",
       "      <td>0</td>\n",
       "      <td>0</td>\n",
       "      <td>0</td>\n",
       "      <td>0</td>\n",
       "      <td>0</td>\n",
       "      <td>3.656824</td>\n",
       "      <td>1.691007</td>\n",
       "    </tr>\n",
       "    <tr>\n",
       "      <th>6155</th>\n",
       "      <td>B38B3C681169BEE67AF1FCEED2CCD5B974B51A5F</td>\n",
       "      <td>20012855</td>\n",
       "      <td>30117566</td>\n",
       "      <td>UD1768</td>\n",
       "      <td>Non-Union Emp</td>\n",
       "      <td>ZL</td>\n",
       "      <td>2020-11-16</td>\n",
       "      <td>2018-12-17</td>\n",
       "      <td>2018-12-17</td>\n",
       "      <td>383</td>\n",
       "      <td>10017605</td>\n",
       "      <td>2018-12-17</td>\n",
       "      <td>2E</td>\n",
       "      <td>2E</td>\n",
       "      <td>64070.0</td>\n",
       "      <td>62510.00</td>\n",
       "      <td>3</td>\n",
       "      <td>13A0E4C2DB161CA09D496658457EFE574E277A08</td>\n",
       "      <td>50</td>\n",
       "      <td>21</td>\n",
       "      <td>BLOOMINGTON</td>\n",
       "      <td>IL</td>\n",
       "      <td>Wireline</td>\n",
       "      <td>31.753593</td>\n",
       "      <td>0.979664</td>\n",
       "      <td>20012112.0</td>\n",
       "      <td>Net Svcs</td>\n",
       "      <td>Net Svcs</td>\n",
       "      <td>Asian</td>\n",
       "      <td>POC</td>\n",
       "      <td>No</td>\n",
       "      <td>No</td>\n",
       "      <td>1.0</td>\n",
       "      <td>1.0</td>\n",
       "      <td>0.0</td>\n",
       "      <td>0</td>\n",
       "      <td>1</td>\n",
       "      <td>0</td>\n",
       "      <td>0</td>\n",
       "      <td>0</td>\n",
       "      <td>0</td>\n",
       "      <td>3.470646</td>\n",
       "      <td>3.470646</td>\n",
       "    </tr>\n",
       "  </tbody>\n",
       "</table>\n",
       "<p>16432 rows × 43 columns</p>\n",
       "</div>"
      ],
      "text/plain": [
       "                                        pers_no   job_key  position  \\\n",
       "16357  34165EA0151B23BD88C8F2F03EAB7F6BE14AB706  20012913  30126842   \n",
       "5369   BECF0F8F5ECE4BC3A8E59F698648353DBF19A73A  20014455  30121524   \n",
       "8460   960BA0EF10F51E79B0D06A79BE1C11E9E8D26258  20013784  99999999   \n",
       "7221   A6A4E99CDE08CE6AC3F239F5231B4AA1FE06C59F  20012999  30013565   \n",
       "9507   89771E11229616323D8D1584B2F7F662052B4FB4  20027259  30109619   \n",
       "...                                         ...       ...       ...   \n",
       "2892   DDC29F7D2CB50A640E5F2D006168C79A266F42B6  20025630  30132110   \n",
       "13982  4F3D031CB65CA462200C1D704D9EAAD16CD5189F  20023260  30101348   \n",
       "4653   C7B06CEDC495DCA3502089F0DF545B4E5F82FAD1  20014455  30125659   \n",
       "877    F4AE8046B13287DA038767C6DC70240BA6E5C861  20029453  30128143   \n",
       "6155   B38B3C681169BEE67AF1FCEED2CCD5B974B51A5F  20012855  30117566   \n",
       "\n",
       "      job_abbrev       contract act start_date most_recent_hire_date_01  \\\n",
       "16357     UD1810  Non-Union Emp  ZD 2021-04-01               2020-07-27   \n",
       "5369      UD2322  Non-Union Emp  ZX 2020-04-13               2018-09-26   \n",
       "8460      UD2235  Non-Union Emp  ZJ 2021-05-15               2019-11-18   \n",
       "7221      UD1886  Non-Union Emp  ZC 2021-11-01               1987-02-23   \n",
       "9507      UD3727  Non-Union Emp  ZD 2020-04-01               2018-07-09   \n",
       "...          ...            ...  ..        ...                      ...   \n",
       "2892      UD3500  Non-Union Emp  ZR 2021-10-11               2021-06-09   \n",
       "13982     UD3192  Non-Union Emp  ZD 2020-01-05               2017-03-13   \n",
       "4653      UD2322  Non-Union Emp  ZD 2022-04-01               2018-11-19   \n",
       "877       UD4119  Non-Union Emp  ZX 2021-06-06               2018-10-10   \n",
       "6155      UD1768  Non-Union Emp  ZL 2020-11-16               2018-12-17   \n",
       "\n",
       "      service_anniversary_16  cocd  org_unit pay_scale_group_effective_date  \\\n",
       "16357             2020-07-27    61  10010353                     2020-07-27   \n",
       "5369              2018-09-26   383  10015387                     2019-07-07   \n",
       "8460              2019-11-18   861  10011207                     2019-11-18   \n",
       "7221              1987-02-23   383  10010158                     2001-08-19   \n",
       "9507              2018-07-09   383  10011980                     2018-07-09   \n",
       "...                      ...   ...       ...                            ...   \n",
       "2892              2021-06-09   951  10011174                     2021-06-09   \n",
       "13982             2017-03-13   951  10015606                     2019-11-24   \n",
       "4653              2018-11-19   383  10015387                     2020-04-12   \n",
       "877               2018-10-10   383  10015387                     2020-09-27   \n",
       "6155              2018-12-17   383  10017605                     2018-12-17   \n",
       "\n",
       "      ps_group prev_ps_group  annual_salary  prev_wage  pts  \\\n",
       "16357       4H            4H        53747.2      25.50    3   \n",
       "5369        C5            C5        43097.6      20.07    3   \n",
       "8460        1E            1E            0.0   27220.00    2   \n",
       "7221        7E            7E       170780.0  169090.00    3   \n",
       "9507        3E            3E        87850.0   86130.00    3   \n",
       "...        ...           ...            ...        ...  ...   \n",
       "2892        C3           2BN        33280.0       0.00    0   \n",
       "13982       C2            C2        33716.8      15.73    3   \n",
       "4653        C5            C5        42473.6      19.59    3   \n",
       "877         2E            2E        56920.0   53200.00    4   \n",
       "6155        2E            2E        64070.0   62510.00    3   \n",
       "\n",
       "                                     supervisor  ps_area aap           city  \\\n",
       "16357  B087A449F05B21A63D0076AEA9D9FEF0EE236759       50  60        PARSONS   \n",
       "5369   57216EA40F502F4F89CD3D37AB99E43989AB693E       51  53      KNOXVILLE   \n",
       "8460   BAB93AF5909F30072A164DD3077B012E541B172F       51  40  COEUR D ALENE   \n",
       "7221   624DEA5C9863202AE5656A9E509EFBF025CEF917       51  11        WINDSOR   \n",
       "9507   BB3DBB2C5FFA016851135070296A75E7065ACA15       51  21        MADISON   \n",
       "...                                         ...      ...  ..            ...   \n",
       "2892   887DD16F05D2EFD3B47058E4D31577CB2E851571       50  40          HOBBS   \n",
       "13982  6BADB7135C53A4A33EF969BB41C72B2BB273EA62       51  51           BEND   \n",
       "4653   E53895BE2CB51AD649FEAB653AC6DC77569F8662       51  31         MONROE   \n",
       "877    25BC4D878449FCB949827CFD4A8DE1CDDC3B77CC       51  20        MADISON   \n",
       "6155   13A0E4C2DB161CA09D496658457EFE574E277A08       50  21    BLOOMINGTON   \n",
       "\n",
       "      state functional_area  age_at_action  percent_of_market_after_action  \\\n",
       "16357    TN        Wireline      38.272416                        0.986636   \n",
       "5369     TN        Wireline      37.900068                        0.846060   \n",
       "8460     ID             OOT      65.174538                        0.000000   \n",
       "7221     WI        Wireline      61.431896                        1.172940   \n",
       "9507     WI        Wireline      52.887064                        1.132088   \n",
       "...     ...             ...            ...                             ...   \n",
       "2892     NM           Cable      27.241615                        0.832033   \n",
       "13982    OR           Cable      38.631075                        0.885309   \n",
       "4653     WI        Wireline      32.191650                        0.817454   \n",
       "877      WI        Wireline      27.581109                        0.874347   \n",
       "6155     IL        Wireline      31.753593                        0.979664   \n",
       "\n",
       "       previous_job_code  current_bu previous_bu race_ethinicity_most_current  \\\n",
       "16357         20012913.0  Field Svcs  Field Svcs                        White   \n",
       "5369          20014455.0         CCO         CCO                        White   \n",
       "8460          20013784.0         CCO         CCO                        White   \n",
       "7221          20012999.0          IT          IT                        White   \n",
       "9507          20027259.0          IT          IT                        White   \n",
       "...                  ...         ...         ...                          ...   \n",
       "2892          20025630.0         CCO         CCO              Hispanic/Latino   \n",
       "13982         20023260.0        Zolo        Zolo            Two or More Races   \n",
       "4653          20014455.0         CCO         CCO            Two or More Races   \n",
       "877           20029453.0         CCO         CCO                        White   \n",
       "6155          20012112.0    Net Svcs    Net Svcs                        Asian   \n",
       "\n",
       "      poc_non_poc_most_current disabled_most_current  \\\n",
       "16357                  Non-POC                   Yes   \n",
       "5369                   Non-POC                    No   \n",
       "8460                   Non-POC                   Yes   \n",
       "7221                   Non-POC               Unknown   \n",
       "9507                   Non-POC               Unknown   \n",
       "...                        ...                   ...   \n",
       "2892                       POC                   Yes   \n",
       "13982                      POC                    No   \n",
       "4653                       POC               Unknown   \n",
       "877                    Non-POC                    No   \n",
       "6155                       POC                    No   \n",
       "\n",
       "      tds_vet_excludes_v1_v9_most_current  gender  emp_subgroup  commission  \\\n",
       "16357                                  No     0.0           0.0         0.0   \n",
       "5369                                   No     0.0           0.0         0.0   \n",
       "8460                                   No     0.0           1.0         1.0   \n",
       "7221                                   No     0.0           1.0         0.0   \n",
       "9507                                   No     1.0           1.0         0.0   \n",
       "...                                   ...     ...           ...         ...   \n",
       "2892                                   No     1.0           0.0         1.0   \n",
       "13982                                  No     1.0           0.0         0.0   \n",
       "4653                                   No     0.0           0.0         0.0   \n",
       "877                                    No     0.0           1.0         0.0   \n",
       "6155                                   No     1.0           1.0         0.0   \n",
       "\n",
       "       fst_bool  urg_current  retiree_med  progression_bool  promotion_bool  \\\n",
       "16357         1            0            0                 0               0   \n",
       "5369          0            0            0                 0               0   \n",
       "8460          0            0            0                 0               0   \n",
       "7221          0            0            1                 0               0   \n",
       "9507          0            1            0                 0               0   \n",
       "...         ...          ...          ...               ...             ...   \n",
       "2892          0            1            0                 0               0   \n",
       "13982         0            1            0                 0               0   \n",
       "4653          0            1            0                 0               0   \n",
       "877           0            0            0                 0               0   \n",
       "6155          0            1            0                 0               0   \n",
       "\n",
       "       hired_bool  Time_In_TDS  Time_In_Payscale  \n",
       "16357           0     1.860757          1.860757  \n",
       "5369            0     3.695155          2.917589  \n",
       "8460            0     2.550710          2.550710  \n",
       "7221            0    35.285126         20.798860  \n",
       "9507            0     3.911449          3.911449  \n",
       "...           ...          ...               ...  \n",
       "2892            0     0.992841          0.992841  \n",
       "13982           0     5.233859          2.534282  \n",
       "4653            0     3.547308          2.150975  \n",
       "877             0     3.656824          1.691007  \n",
       "6155            0     3.470646          3.470646  \n",
       "\n",
       "[16432 rows x 43 columns]"
      ]
     },
     "execution_count": 302,
     "metadata": {},
     "output_type": "execute_result"
    }
   ],
   "source": [
    "train_data"
   ]
  },
  {
   "cell_type": "code",
   "execution_count": 303,
   "metadata": {
    "application/vnd.databricks.v1+cell": {
     "inputWidgets": {},
     "nuid": "8e986c0f-acdb-4735-9506-c9cde3b6f83b",
     "showTitle": false,
     "title": ""
    },
    "execution": {
     "iopub.execute_input": "2022-06-07T01:30:20.279827Z",
     "iopub.status.busy": "2022-06-07T01:30:20.279827Z",
     "iopub.status.idle": "2022-06-07T01:30:20.309826Z",
     "shell.execute_reply": "2022-06-07T01:30:20.309826Z",
     "shell.execute_reply.started": "2022-06-07T01:30:20.279827Z"
    },
    "tags": []
   },
   "outputs": [],
   "source": [
    "# scaler = StandardScaler()\n",
    "scaler = RobustScaler()\n",
    "scaled_train_data = pd.DataFrame(\n",
    "    scaler.fit_transform(train_data[num_cols]),\n",
    "    columns=num_cols,\n",
    "    index=train_data.index,\n",
    ")\n",
    "scaled_test_data = pd.DataFrame(\n",
    "    scaler.transform(test_data[num_cols]),\n",
    "    columns=num_cols,\n",
    "    index=test_data.index,\n",
    ")\n",
    "scaled_test_data_105 = pd.DataFrame(\n",
    "    scaler.transform(test_data_105[num_cols]),\n",
    "    columns=num_cols,\n",
    "    index=test_data_105.index,\n",
    ")\n",
    "scaled_test_data_95 = pd.DataFrame(\n",
    "    scaler.transform(test_data_95[num_cols]),\n",
    "    columns=num_cols,\n",
    "    index=test_data_95.index,\n",
    ")"
   ]
  },
  {
   "cell_type": "code",
   "execution_count": 304,
   "metadata": {
    "application/vnd.databricks.v1+cell": {
     "inputWidgets": {},
     "nuid": "41940ddd-73e5-4c32-925f-93c5bd27bbd9",
     "showTitle": false,
     "title": ""
    },
    "execution": {
     "iopub.execute_input": "2022-06-07T01:30:20.310827Z",
     "iopub.status.busy": "2022-06-07T01:30:20.310827Z",
     "iopub.status.idle": "2022-06-07T01:30:20.357826Z",
     "shell.execute_reply": "2022-06-07T01:30:20.357826Z",
     "shell.execute_reply.started": "2022-06-07T01:30:20.310827Z"
    },
    "tags": []
   },
   "outputs": [],
   "source": [
    "ohe_enc = OneHotEncoder(sparse=False)\n",
    "ohe_enc_train_data = pd.DataFrame(\n",
    "    ohe_enc.fit_transform(train_data[low_card_cols]),\n",
    "    columns=ohe_enc.get_feature_names(),\n",
    "    index=train_data.index,\n",
    ")\n",
    "ohe_enc_test_data = pd.DataFrame(\n",
    "    ohe_enc.transform(test_data[low_card_cols]),\n",
    "    columns=ohe_enc.get_feature_names(),\n",
    "    index=test_data.index,\n",
    ")\n",
    "ohe_enc_test_data_105 = pd.DataFrame(\n",
    "    ohe_enc.transform(test_data_105[low_card_cols]),\n",
    "    columns=ohe_enc.get_feature_names(),\n",
    "    index=test_data.index,\n",
    ")\n",
    "ohe_enc_test_data_95 = pd.DataFrame(\n",
    "    ohe_enc.transform(test_data_95[low_card_cols]),\n",
    "    columns=ohe_enc.get_feature_names(),\n",
    "    index=test_data.index,\n",
    ")"
   ]
  },
  {
   "cell_type": "code",
   "execution_count": 305,
   "metadata": {
    "application/vnd.databricks.v1+cell": {
     "inputWidgets": {},
     "nuid": "009cd302-6980-4c93-a856-5b9f4ef70673",
     "showTitle": false,
     "title": ""
    },
    "execution": {
     "iopub.execute_input": "2022-06-07T01:30:20.358826Z",
     "iopub.status.busy": "2022-06-07T01:30:20.358826Z",
     "iopub.status.idle": "2022-06-07T01:30:20.373826Z",
     "shell.execute_reply": "2022-06-07T01:30:20.373826Z",
     "shell.execute_reply.started": "2022-06-07T01:30:20.358826Z"
    },
    "tags": []
   },
   "outputs": [],
   "source": [
    "X_train = pd.concat(\n",
    "    [scaled_train_data, ohe_enc_train_data, train_data[ord_cols]], axis=1\n",
    ")\n",
    "X_test = pd.concat(\n",
    "    [scaled_test_data, ohe_enc_test_data, test_data[ord_cols]], axis=1\n",
    ")\n",
    "X_test_105 = pd.concat(\n",
    "    [scaled_test_data_105, ohe_enc_test_data_105, test_data_105[ord_cols]],\n",
    "    axis=1,\n",
    ")\n",
    "X_test_95 = pd.concat(\n",
    "    [scaled_test_data_95, ohe_enc_test_data_95, test_data_95[ord_cols]], axis=1\n",
    ")\n",
    "y_train = train_target\n",
    "y_test = test_target"
   ]
  },
  {
   "cell_type": "markdown",
   "metadata": {},
   "source": [
    "### XGBoost"
   ]
  },
  {
   "cell_type": "code",
   "execution_count": 306,
   "metadata": {
    "application/vnd.databricks.v1+cell": {
     "inputWidgets": {},
     "nuid": "0476b944-866b-48bd-bcc8-805f3b5e5ce7",
     "showTitle": false,
     "title": ""
    },
    "execution": {
     "iopub.execute_input": "2022-06-07T01:30:20.374827Z",
     "iopub.status.busy": "2022-06-07T01:30:20.374827Z",
     "iopub.status.idle": "2022-06-07T01:30:20.389825Z",
     "shell.execute_reply": "2022-06-07T01:30:20.389825Z",
     "shell.execute_reply.started": "2022-06-07T01:30:20.374827Z"
    },
    "tags": []
   },
   "outputs": [],
   "source": [
    "# def objective(trial, X=X_train, y=y_train):\n",
    "#     # X_train, X_val, y_train, y_val = train_test_split(\n",
    "#     #     X,\n",
    "#     #     y,\n",
    "#     #     test_size=0.2,\n",
    "#     #     shuffle=True,\n",
    "#     #     stratify=y,\n",
    "#     #     random_state=random_state,\n",
    "#     # )\n",
    "#     # sss = StratifiedShuffleSplit(\n",
    "#     #     n_splits=10, test_size=0.2, random_state=random_state\n",
    "#     # )\n",
    "#     # sss.get_n_splits(X, y)\n",
    "#     skf = StratifiedKFold(n_splits=5)\n",
    "#     skf.get_n_splits(X, y)\n",
    "\n",
    "#     params = {\n",
    "#         # imbalanced classes\n",
    "#         # \"scale_pos_weight\": trial.suggest_int(\"scale_pos_weight\", 1, 100),\n",
    "#         \"n_estimators\": trial.suggest_int(\"n_estimators\", 200, 500),\n",
    "#         \"max_depth\": trial.suggest_int(\"max_depth\", 3, 10),\n",
    "#         \"min_child_weight\": trial.suggest_int(\"min_child_weight\", 1, 20),\n",
    "#         \"learning_rate\": trial.suggest_discrete_uniform(\n",
    "#             \"learning_rate\", 0.01, 0.1, 0.01\n",
    "#         ),\n",
    "#         \"subsample\": trial.suggest_discrete_uniform(\n",
    "#             \"subsample\", 0.5, 1.0, 0.1\n",
    "#         ),\n",
    "#         \"colsample_bytree\": trial.suggest_discrete_uniform(\n",
    "#             \"colsample_bytree\", 0.5, 1.0, 0.1\n",
    "#         ),\n",
    "#         \"gamma\": trial.suggest_discrete_uniform(\"gamma\", 0, 9, 1),\n",
    "#         \"scale_pos_weight\": 30,\n",
    "#         \"random_state\": random_state,\n",
    "#         \"tree_method\": \"gpu_hist\",\n",
    "#         \"objective\": \"binary:logistic\",\n",
    "#         \"eval_metric\": \"auc\",\n",
    "#         \"n_jobs\": -1,\n",
    "#         #         \"silent\": True,\n",
    "#     }\n",
    "\n",
    "#     f1_scores = []\n",
    "#     model = XGBClassifier(**params)\n",
    "#     for train_index, val_index in skf.split(X, y):\n",
    "#         threshold = 0.9\n",
    "#         X_train, X_val = X.iloc[train_index], X.iloc[val_index]\n",
    "#         y_train, y_val = y.iloc[train_index], y.iloc[val_index]\n",
    "\n",
    "#         model.fit(X_train, y_train)\n",
    "#         # y_pred = model.predict_proba(X_val)[:, 1]\n",
    "#         # y_pred = np.where(y_pred > threshold, 1, 0)\n",
    "#         y_pred = model.predict(X_val)\n",
    "#         f1_scores.append(f1_score(y_val, y_pred))\n",
    "\n",
    "#     return round(np.mean(f1_scores), 6)"
   ]
  },
  {
   "cell_type": "code",
   "execution_count": 307,
   "metadata": {
    "application/vnd.databricks.v1+cell": {
     "inputWidgets": {},
     "nuid": "8b5e9222-6399-4e6b-90e6-fd4eaf3412f3",
     "showTitle": false,
     "title": ""
    },
    "execution": {
     "iopub.execute_input": "2022-06-07T01:30:20.390827Z",
     "iopub.status.busy": "2022-06-07T01:30:20.390827Z",
     "iopub.status.idle": "2022-06-07T01:30:20.405826Z",
     "shell.execute_reply": "2022-06-07T01:30:20.405826Z",
     "shell.execute_reply.started": "2022-06-07T01:30:20.390827Z"
    },
    "tags": []
   },
   "outputs": [],
   "source": [
    "# study_name = f\"xgb{random_state}\"\n",
    "# db_file = os.path.join(path, f\"{now()}_{study_name}.db\")\n",
    "# study = optuna.create_study(\n",
    "#     study_name=study_name,\n",
    "#     direction=\"maximize\",\n",
    "#     # storage=f\"sqlite:///{db_file}\",\n",
    "# )\n",
    "\n",
    "# study.optimize(objective, n_trials=100)"
   ]
  },
  {
   "cell_type": "code",
   "execution_count": 308,
   "metadata": {
    "application/vnd.databricks.v1+cell": {
     "inputWidgets": {},
     "nuid": "9b053bcc-75b8-46f1-b9fb-5669d6073854",
     "showTitle": false,
     "title": ""
    },
    "execution": {
     "iopub.execute_input": "2022-06-07T01:30:20.406826Z",
     "iopub.status.busy": "2022-06-07T01:30:20.406826Z",
     "iopub.status.idle": "2022-06-07T01:30:20.420826Z",
     "shell.execute_reply": "2022-06-07T01:30:20.420826Z",
     "shell.execute_reply.started": "2022-06-07T01:30:20.406826Z"
    },
    "tags": []
   },
   "outputs": [],
   "source": [
    "# # study.best_params\n",
    "# best_params = {\n",
    "#     \"n_estimators\": 482,\n",
    "#     \"max_depth\": 6,\n",
    "#     \"min_child_weight\": 2,\n",
    "#     \"learning_rate\": 0.09,\n",
    "#     \"subsample\": 0.9,\n",
    "#     \"colsample_bytree\": 1.0,\n",
    "#     \"gamma\": 5.0,\n",
    "# }"
   ]
  },
  {
   "cell_type": "code",
   "execution_count": 309,
   "metadata": {
    "application/vnd.databricks.v1+cell": {
     "inputWidgets": {},
     "nuid": "2d16782a-b82c-4fcd-831e-198b972de447",
     "showTitle": false,
     "title": ""
    },
    "execution": {
     "iopub.execute_input": "2022-06-07T01:30:20.421826Z",
     "iopub.status.busy": "2022-06-07T01:30:20.421826Z",
     "iopub.status.idle": "2022-06-07T01:30:20.435826Z",
     "shell.execute_reply": "2022-06-07T01:30:20.435826Z",
     "shell.execute_reply.started": "2022-06-07T01:30:20.421826Z"
    },
    "tags": []
   },
   "outputs": [],
   "source": [
    "# model = XGBClassifier(\n",
    "#     **best_params,\n",
    "#     scale_pos_weight=30,\n",
    "#     objective=\"binary:logistic\",\n",
    "#     eval_metric=\"auc\",\n",
    "#     random_state=random_state\n",
    "# )\n",
    "# model.fit(X_train, y_train)"
   ]
  },
  {
   "cell_type": "code",
   "execution_count": 310,
   "metadata": {
    "execution": {
     "iopub.execute_input": "2022-06-07T01:30:20.436826Z",
     "iopub.status.busy": "2022-06-07T01:30:20.436826Z",
     "iopub.status.idle": "2022-06-07T01:30:20.450826Z",
     "shell.execute_reply": "2022-06-07T01:30:20.450826Z",
     "shell.execute_reply.started": "2022-06-07T01:30:20.436826Z"
    }
   },
   "outputs": [],
   "source": [
    "# XGBClassifier(base_score=0.5, booster='gbtree', colsample_bylevel=1,\n",
    "#               colsample_bynode=1, colsample_bytree=0.7,\n",
    "#               enable_categorical=False, eval_metric='auc', gamma=0.0, gpu_id=-1,\n",
    "#               importance_type=None, interaction_constraints='',\n",
    "#               learning_rate=0.060000000000000005, max_delta_step=0, max_depth=9,\n",
    "#               min_child_weight=2, missing=nan, monotone_constraints='()',\n",
    "#               n_estimators=439, n_jobs=20, num_parallel_tree=1,\n",
    "#               predictor='auto', random_state=57, reg_alpha=0, reg_lambda=1,\n",
    "#               scale_pos_weight=30, subsample=1.0, tree_method='exact',\n",
    "#               validate_parameters=1, verbosity=None)"
   ]
  },
  {
   "cell_type": "code",
   "execution_count": 311,
   "metadata": {
    "execution": {
     "iopub.execute_input": "2022-06-07T01:30:20.451827Z",
     "iopub.status.busy": "2022-06-07T01:30:20.451827Z",
     "iopub.status.idle": "2022-06-07T01:30:20.466826Z",
     "shell.execute_reply": "2022-06-07T01:30:20.466826Z",
     "shell.execute_reply.started": "2022-06-07T01:30:20.451827Z"
    },
    "tags": []
   },
   "outputs": [],
   "source": [
    "# model_params = model.get_params()"
   ]
  },
  {
   "cell_type": "code",
   "execution_count": 312,
   "metadata": {
    "application/vnd.databricks.v1+cell": {
     "inputWidgets": {},
     "nuid": "ce23a49e-d8c5-4c21-a6f2-da0332ceed72",
     "showTitle": false,
     "title": ""
    },
    "execution": {
     "iopub.execute_input": "2022-06-07T01:30:20.467827Z",
     "iopub.status.busy": "2022-06-07T01:30:20.467827Z",
     "iopub.status.idle": "2022-06-07T01:30:20.481826Z",
     "shell.execute_reply": "2022-06-07T01:30:20.481826Z",
     "shell.execute_reply.started": "2022-06-07T01:30:20.467827Z"
    },
    "tags": []
   },
   "outputs": [],
   "source": [
    "# model_params = model.get_xgb_params()"
   ]
  },
  {
   "cell_type": "code",
   "execution_count": 313,
   "metadata": {
    "execution": {
     "iopub.execute_input": "2022-06-07T01:30:20.482827Z",
     "iopub.status.busy": "2022-06-07T01:30:20.482827Z",
     "iopub.status.idle": "2022-06-07T01:30:20.543826Z",
     "shell.execute_reply": "2022-06-07T01:30:20.543826Z",
     "shell.execute_reply.started": "2022-06-07T01:30:20.482827Z"
    }
   },
   "outputs": [],
   "source": [
    "model = joblib.load(\"salary_2205_hr_xgb_model.pkl\")"
   ]
  },
  {
   "cell_type": "code",
   "execution_count": 314,
   "metadata": {
    "execution": {
     "iopub.execute_input": "2022-06-07T01:30:20.544827Z",
     "iopub.status.busy": "2022-06-07T01:30:20.544827Z",
     "iopub.status.idle": "2022-06-07T01:30:20.559826Z",
     "shell.execute_reply": "2022-06-07T01:30:20.559826Z",
     "shell.execute_reply.started": "2022-06-07T01:30:20.544827Z"
    }
   },
   "outputs": [],
   "source": [
    "#  100% salary\n",
    "# Confusion matrix:\n",
    "# [[3931   45]\n",
    "#  [  59   74]]\n",
    "\n",
    "# f1 score = 0.59"
   ]
  },
  {
   "cell_type": "code",
   "execution_count": 315,
   "metadata": {
    "execution": {
     "iopub.execute_input": "2022-06-07T01:30:20.560826Z",
     "iopub.status.busy": "2022-06-07T01:30:20.560826Z",
     "iopub.status.idle": "2022-06-07T01:30:20.574826Z",
     "shell.execute_reply": "2022-06-07T01:30:20.574826Z",
     "shell.execute_reply.started": "2022-06-07T01:30:20.560826Z"
    }
   },
   "outputs": [],
   "source": [
    "# 105% salary\n",
    "# Confusion matrix:\n",
    "# [[3946   30]\n",
    "#  [  59   74]]\n",
    "\n",
    "# f1 score = 0.62"
   ]
  },
  {
   "cell_type": "code",
   "execution_count": 316,
   "metadata": {
    "execution": {
     "iopub.execute_input": "2022-06-07T01:30:20.575826Z",
     "iopub.status.busy": "2022-06-07T01:30:20.575826Z",
     "iopub.status.idle": "2022-06-07T01:30:20.590826Z",
     "shell.execute_reply": "2022-06-07T01:30:20.590826Z",
     "shell.execute_reply.started": "2022-06-07T01:30:20.575826Z"
    }
   },
   "outputs": [],
   "source": [
    "# 95% salary\n",
    "# Confusion matrix:\n",
    "# [[3579  397]\n",
    "#  [  59   74]]\n",
    "\n",
    "# f1 score = 0.25"
   ]
  },
  {
   "cell_type": "code",
   "execution_count": 389,
   "metadata": {
    "application/vnd.databricks.v1+cell": {
     "inputWidgets": {},
     "nuid": "efc5531e-779d-46b8-87b0-baf8ca05e6b2",
     "showTitle": false,
     "title": ""
    },
    "execution": {
     "iopub.execute_input": "2022-06-07T13:50:05.556253Z",
     "iopub.status.busy": "2022-06-07T13:50:05.556253Z",
     "iopub.status.idle": "2022-06-07T13:50:05.571250Z",
     "shell.execute_reply": "2022-06-07T13:50:05.571250Z",
     "shell.execute_reply.started": "2022-06-07T13:50:05.556253Z"
    },
    "tags": []
   },
   "outputs": [
    {
     "name": "stdout",
     "output_type": "stream",
     "text": [
      "Confusion matrix:\n",
      "[[3579  397]\n",
      " [  59   74]]\n",
      "\n",
      "f1 score = 0.25\n"
     ]
    }
   ],
   "source": [
    "# y_proba = model.predict_proba(X_test)[:, 1]\n",
    "\n",
    "# threshold = 0.9\n",
    "# y_pred = np.where(y_proba > threshold, 1, 0)\n",
    "\n",
    "y_pred = model.predict(X_test_95)\n",
    "\n",
    "cf = confusion_matrix(y_test, y_pred)\n",
    "print(f\"Confusion matrix:\\n{cf}\")\n",
    "\n",
    "f1 = f1_score(y_test, y_pred)\n",
    "print(f\"\\nf1 score = {f1:.2}\")"
   ]
  },
  {
   "cell_type": "code",
   "execution_count": 390,
   "metadata": {
    "execution": {
     "iopub.execute_input": "2022-06-07T13:50:10.007618Z",
     "iopub.status.busy": "2022-06-07T13:50:10.007618Z",
     "iopub.status.idle": "2022-06-07T13:50:10.024771Z",
     "shell.execute_reply": "2022-06-07T13:50:10.024771Z",
     "shell.execute_reply.started": "2022-06-07T13:50:10.007618Z"
    },
    "tags": []
   },
   "outputs": [],
   "source": [
    "y_95 = y_pred"
   ]
  },
  {
   "cell_type": "code",
   "execution_count": 479,
   "metadata": {
    "execution": {
     "iopub.execute_input": "2022-06-07T16:58:49.340049Z",
     "iopub.status.busy": "2022-06-07T16:58:49.340049Z",
     "iopub.status.idle": "2022-06-07T16:58:49.612084Z",
     "shell.execute_reply": "2022-06-07T16:58:49.612084Z",
     "shell.execute_reply.started": "2022-06-07T16:58:49.340049Z"
    },
    "tags": []
   },
   "outputs": [
    {
     "ename": "AttributeError",
     "evalue": "'int' object has no attribute 'figure'",
     "output_type": "error",
     "traceback": [
      "\u001b[1;31m---------------------------------------------------------------------------\u001b[0m",
      "\u001b[1;31mAttributeError\u001b[0m                            Traceback (most recent call last)",
      "Input \u001b[1;32mIn [479]\u001b[0m, in \u001b[0;36m<cell line: 4>\u001b[1;34m()\u001b[0m\n\u001b[0;32m      2\u001b[0m i\u001b[38;5;241m=\u001b[39m\u001b[38;5;241m1\u001b[39m\n\u001b[0;32m      3\u001b[0m \u001b[38;5;28;01mfor\u001b[39;00m title, xtest \u001b[38;5;129;01min\u001b[39;00m [\n\u001b[0;32m      4\u001b[0m     (\u001b[38;5;124m\"\u001b[39m\u001b[38;5;124m5\u001b[39m\u001b[38;5;132;01m% i\u001b[39;00m\u001b[38;5;124mncrease*\u001b[39m\u001b[38;5;124m\"\u001b[39m, X_test_105),\n\u001b[0;32m      5\u001b[0m     (\u001b[38;5;124m\"\u001b[39m\u001b[38;5;124mActual increase\u001b[39m\u001b[38;5;124m\"\u001b[39m, X_test),\n\u001b[0;32m      6\u001b[0m     (\u001b[38;5;124m\"\u001b[39m\u001b[38;5;124m5\u001b[39m\u001b[38;5;132;01m% d\u001b[39;00m\u001b[38;5;124mecrease\u001b[39m\u001b[38;5;124m\"\u001b[39m, X_test_95),\n\u001b[0;32m      7\u001b[0m ]:\n\u001b[1;32m----> 8\u001b[0m     cm \u001b[38;5;241m=\u001b[39m \u001b[43mConfusionMatrixDisplay\u001b[49m\u001b[38;5;241;43m.\u001b[39;49m\u001b[43mfrom_estimator\u001b[49m\u001b[43m(\u001b[49m\n\u001b[0;32m      9\u001b[0m \u001b[43m        \u001b[49m\u001b[43mmodel\u001b[49m\u001b[43m,\u001b[49m\n\u001b[0;32m     10\u001b[0m \u001b[43m        \u001b[49m\u001b[43mxtest\u001b[49m\u001b[43m,\u001b[49m\n\u001b[0;32m     11\u001b[0m \u001b[43m        \u001b[49m\u001b[43my_test\u001b[49m\u001b[43m,\u001b[49m\n\u001b[0;32m     12\u001b[0m \u001b[43m        \u001b[49m\u001b[43max\u001b[49m\u001b[38;5;241;43m=\u001b[39;49m\u001b[43mi\u001b[49m\u001b[43m,\u001b[49m\n\u001b[0;32m     13\u001b[0m \u001b[43m        \u001b[49m\u001b[43mdisplay_labels\u001b[49m\u001b[38;5;241;43m=\u001b[39;49m\u001b[43m[\u001b[49m\u001b[38;5;124;43m\"\u001b[39;49m\u001b[38;5;124;43mno churn\u001b[39;49m\u001b[38;5;124;43m\"\u001b[39;49m\u001b[43m,\u001b[49m\u001b[43m \u001b[49m\u001b[38;5;124;43m\"\u001b[39;49m\u001b[38;5;124;43mchurn\u001b[39;49m\u001b[38;5;124;43m\"\u001b[39;49m\u001b[43m]\u001b[49m\u001b[43m,\u001b[49m\n\u001b[0;32m     14\u001b[0m \u001b[43m        \u001b[49m\u001b[43mcmap\u001b[49m\u001b[38;5;241;43m=\u001b[39;49m\u001b[43mplt\u001b[49m\u001b[38;5;241;43m.\u001b[39;49m\u001b[43mcm\u001b[49m\u001b[38;5;241;43m.\u001b[39;49m\u001b[43mGreens\u001b[49m\u001b[43m,\u001b[49m\n\u001b[0;32m     15\u001b[0m \u001b[43m        \u001b[49m\u001b[43mcolorbar\u001b[49m\u001b[38;5;241;43m=\u001b[39;49m\u001b[38;5;28;43;01mFalse\u001b[39;49;00m\u001b[43m,\u001b[49m\n\u001b[0;32m     16\u001b[0m \u001b[43m    \u001b[49m\u001b[43m)\u001b[49m\n\u001b[0;32m     18\u001b[0m     \u001b[38;5;66;03m# _= cm.plot()\u001b[39;00m\n\u001b[0;32m     19\u001b[0m     _\u001b[38;5;241m=\u001b[39m cm\u001b[38;5;241m.\u001b[39max_\u001b[38;5;241m.\u001b[39mset_title(title, fontsize\u001b[38;5;241m=\u001b[39m\u001b[38;5;241m14\u001b[39m)\n",
      "File \u001b[1;32m~\\anaconda3\\envs\\pmm39\\lib\\site-packages\\sklearn\\metrics\\_plot\\confusion_matrix.py:294\u001b[0m, in \u001b[0;36mConfusionMatrixDisplay.from_estimator\u001b[1;34m(cls, estimator, X, y, labels, sample_weight, normalize, display_labels, include_values, xticks_rotation, values_format, cmap, ax, colorbar)\u001b[0m\n\u001b[0;32m    291\u001b[0m     \u001b[38;5;28;01mraise\u001b[39;00m \u001b[38;5;167;01mValueError\u001b[39;00m(\u001b[38;5;124mf\u001b[39m\u001b[38;5;124m\"\u001b[39m\u001b[38;5;132;01m{\u001b[39;00mmethod_name\u001b[38;5;132;01m}\u001b[39;00m\u001b[38;5;124m only supports classifiers\u001b[39m\u001b[38;5;124m\"\u001b[39m)\n\u001b[0;32m    292\u001b[0m y_pred \u001b[38;5;241m=\u001b[39m estimator\u001b[38;5;241m.\u001b[39mpredict(X)\n\u001b[1;32m--> 294\u001b[0m \u001b[38;5;28;01mreturn\u001b[39;00m \u001b[38;5;28;43mcls\u001b[39;49m\u001b[38;5;241;43m.\u001b[39;49m\u001b[43mfrom_predictions\u001b[49m\u001b[43m(\u001b[49m\n\u001b[0;32m    295\u001b[0m \u001b[43m    \u001b[49m\u001b[43my\u001b[49m\u001b[43m,\u001b[49m\n\u001b[0;32m    296\u001b[0m \u001b[43m    \u001b[49m\u001b[43my_pred\u001b[49m\u001b[43m,\u001b[49m\n\u001b[0;32m    297\u001b[0m \u001b[43m    \u001b[49m\u001b[43msample_weight\u001b[49m\u001b[38;5;241;43m=\u001b[39;49m\u001b[43msample_weight\u001b[49m\u001b[43m,\u001b[49m\n\u001b[0;32m    298\u001b[0m \u001b[43m    \u001b[49m\u001b[43mlabels\u001b[49m\u001b[38;5;241;43m=\u001b[39;49m\u001b[43mlabels\u001b[49m\u001b[43m,\u001b[49m\n\u001b[0;32m    299\u001b[0m \u001b[43m    \u001b[49m\u001b[43mnormalize\u001b[49m\u001b[38;5;241;43m=\u001b[39;49m\u001b[43mnormalize\u001b[49m\u001b[43m,\u001b[49m\n\u001b[0;32m    300\u001b[0m \u001b[43m    \u001b[49m\u001b[43mdisplay_labels\u001b[49m\u001b[38;5;241;43m=\u001b[39;49m\u001b[43mdisplay_labels\u001b[49m\u001b[43m,\u001b[49m\n\u001b[0;32m    301\u001b[0m \u001b[43m    \u001b[49m\u001b[43minclude_values\u001b[49m\u001b[38;5;241;43m=\u001b[39;49m\u001b[43minclude_values\u001b[49m\u001b[43m,\u001b[49m\n\u001b[0;32m    302\u001b[0m \u001b[43m    \u001b[49m\u001b[43mcmap\u001b[49m\u001b[38;5;241;43m=\u001b[39;49m\u001b[43mcmap\u001b[49m\u001b[43m,\u001b[49m\n\u001b[0;32m    303\u001b[0m \u001b[43m    \u001b[49m\u001b[43max\u001b[49m\u001b[38;5;241;43m=\u001b[39;49m\u001b[43max\u001b[49m\u001b[43m,\u001b[49m\n\u001b[0;32m    304\u001b[0m \u001b[43m    \u001b[49m\u001b[43mxticks_rotation\u001b[49m\u001b[38;5;241;43m=\u001b[39;49m\u001b[43mxticks_rotation\u001b[49m\u001b[43m,\u001b[49m\n\u001b[0;32m    305\u001b[0m \u001b[43m    \u001b[49m\u001b[43mvalues_format\u001b[49m\u001b[38;5;241;43m=\u001b[39;49m\u001b[43mvalues_format\u001b[49m\u001b[43m,\u001b[49m\n\u001b[0;32m    306\u001b[0m \u001b[43m    \u001b[49m\u001b[43mcolorbar\u001b[49m\u001b[38;5;241;43m=\u001b[39;49m\u001b[43mcolorbar\u001b[49m\u001b[43m,\u001b[49m\n\u001b[0;32m    307\u001b[0m \u001b[43m\u001b[49m\u001b[43m)\u001b[49m\n",
      "File \u001b[1;32m~\\anaconda3\\envs\\pmm39\\lib\\site-packages\\sklearn\\metrics\\_plot\\confusion_matrix.py:433\u001b[0m, in \u001b[0;36mConfusionMatrixDisplay.from_predictions\u001b[1;34m(cls, y_true, y_pred, labels, sample_weight, normalize, display_labels, include_values, xticks_rotation, values_format, cmap, ax, colorbar)\u001b[0m\n\u001b[0;32m    423\u001b[0m cm \u001b[38;5;241m=\u001b[39m confusion_matrix(\n\u001b[0;32m    424\u001b[0m     y_true,\n\u001b[0;32m    425\u001b[0m     y_pred,\n\u001b[1;32m   (...)\u001b[0m\n\u001b[0;32m    428\u001b[0m     normalize\u001b[38;5;241m=\u001b[39mnormalize,\n\u001b[0;32m    429\u001b[0m )\n\u001b[0;32m    431\u001b[0m disp \u001b[38;5;241m=\u001b[39m \u001b[38;5;28mcls\u001b[39m(confusion_matrix\u001b[38;5;241m=\u001b[39mcm, display_labels\u001b[38;5;241m=\u001b[39mdisplay_labels)\n\u001b[1;32m--> 433\u001b[0m \u001b[38;5;28;01mreturn\u001b[39;00m \u001b[43mdisp\u001b[49m\u001b[38;5;241;43m.\u001b[39;49m\u001b[43mplot\u001b[49m\u001b[43m(\u001b[49m\n\u001b[0;32m    434\u001b[0m \u001b[43m    \u001b[49m\u001b[43minclude_values\u001b[49m\u001b[38;5;241;43m=\u001b[39;49m\u001b[43minclude_values\u001b[49m\u001b[43m,\u001b[49m\n\u001b[0;32m    435\u001b[0m \u001b[43m    \u001b[49m\u001b[43mcmap\u001b[49m\u001b[38;5;241;43m=\u001b[39;49m\u001b[43mcmap\u001b[49m\u001b[43m,\u001b[49m\n\u001b[0;32m    436\u001b[0m \u001b[43m    \u001b[49m\u001b[43max\u001b[49m\u001b[38;5;241;43m=\u001b[39;49m\u001b[43max\u001b[49m\u001b[43m,\u001b[49m\n\u001b[0;32m    437\u001b[0m \u001b[43m    \u001b[49m\u001b[43mxticks_rotation\u001b[49m\u001b[38;5;241;43m=\u001b[39;49m\u001b[43mxticks_rotation\u001b[49m\u001b[43m,\u001b[49m\n\u001b[0;32m    438\u001b[0m \u001b[43m    \u001b[49m\u001b[43mvalues_format\u001b[49m\u001b[38;5;241;43m=\u001b[39;49m\u001b[43mvalues_format\u001b[49m\u001b[43m,\u001b[49m\n\u001b[0;32m    439\u001b[0m \u001b[43m    \u001b[49m\u001b[43mcolorbar\u001b[49m\u001b[38;5;241;43m=\u001b[39;49m\u001b[43mcolorbar\u001b[49m\u001b[43m,\u001b[49m\n\u001b[0;32m    440\u001b[0m \u001b[43m\u001b[49m\u001b[43m)\u001b[49m\n",
      "File \u001b[1;32m~\\anaconda3\\envs\\pmm39\\lib\\site-packages\\sklearn\\metrics\\_plot\\confusion_matrix.py:127\u001b[0m, in \u001b[0;36mConfusionMatrixDisplay.plot\u001b[1;34m(self, include_values, cmap, xticks_rotation, values_format, ax, colorbar)\u001b[0m\n\u001b[0;32m    125\u001b[0m     fig, ax \u001b[38;5;241m=\u001b[39m plt\u001b[38;5;241m.\u001b[39msubplots()\n\u001b[0;32m    126\u001b[0m \u001b[38;5;28;01melse\u001b[39;00m:\n\u001b[1;32m--> 127\u001b[0m     fig \u001b[38;5;241m=\u001b[39m \u001b[43max\u001b[49m\u001b[38;5;241;43m.\u001b[39;49m\u001b[43mfigure\u001b[49m\n\u001b[0;32m    129\u001b[0m cm \u001b[38;5;241m=\u001b[39m \u001b[38;5;28mself\u001b[39m\u001b[38;5;241m.\u001b[39mconfusion_matrix\n\u001b[0;32m    130\u001b[0m n_classes \u001b[38;5;241m=\u001b[39m cm\u001b[38;5;241m.\u001b[39mshape[\u001b[38;5;241m0\u001b[39m]\n",
      "\u001b[1;31mAttributeError\u001b[0m: 'int' object has no attribute 'figure'"
     ]
    },
    {
     "data": {
      "image/png": "[encoded data removed]",
      "text/plain": [
       "<Figure size 1080x720 with 3 Axes>"
      ]
     },
     "metadata": {},
     "output_type": "display_data"
    }
   ],
   "source": [
    "fig, axes = plt.subplots(nrows=1, ncols=3, figsize=(15,10))\n",
    "i=1\n",
    "for title, xtest in [\n",
    "    (\"5% increase*\", X_test_105),\n",
    "    (\"Actual increase\", X_test),\n",
    "    (\"5% decrease\", X_test_95),\n",
    "]:\n",
    "    cm = ConfusionMatrixDisplay.from_estimator(\n",
    "        model,\n",
    "        xtest,\n",
    "        y_test,\n",
    "        ax=i,\n",
    "        display_labels=[\"no churn\", \"churn\"],\n",
    "        cmap=plt.cm.Greens,\n",
    "        colorbar=False,\n",
    "    )\n",
    "    \n",
    "    # _= cm.plot()\n",
    "    _= cm.ax_.set_title(title, fontsize=14)\n",
    "    i += 1"
   ]
  },
  {
   "cell_type": "code",
   "execution_count": 358,
   "metadata": {
    "application/vnd.databricks.v1+cell": {
     "inputWidgets": {},
     "nuid": "95f36788-dfec-4630-85b1-f67f77618c3e",
     "showTitle": false,
     "title": ""
    },
    "execution": {
     "iopub.execute_input": "2022-06-07T02:08:57.464288Z",
     "iopub.status.busy": "2022-06-07T02:08:57.464288Z",
     "iopub.status.idle": "2022-06-07T02:08:57.651324Z",
     "shell.execute_reply": "2022-06-07T02:08:57.651324Z",
     "shell.execute_reply.started": "2022-06-07T02:08:57.464288Z"
    },
    "tags": []
   },
   "outputs": [
    {
     "data": {
      "image/png": "[encoded data removed]",
      "text/plain": [
       "<Figure size 432x288 with 1 Axes>"
      ]
     },
     "metadata": {},
     "output_type": "display_data"
    },
    {
     "data": {
      "image/png": "[encoded data removed]",
      "text/plain": [
       "<Figure size 432x288 with 1 Axes>"
      ]
     },
     "metadata": {},
     "output_type": "display_data"
    },
    {
     "data": {
      "image/png": "[encoded data removed]",
      "text/plain": [
       "<Figure size 432x288 with 1 Axes>"
      ]
     },
     "metadata": {},
     "output_type": "display_data"
    }
   ],
   "source": [
    "# _ = ConfusionMatrixDisplay(cf).plot()\n",
    "for title, xtest in [\n",
    "    (\"5% increase*\", X_test_105),\n",
    "    (\"Actual increase\", X_test),\n",
    "    (\"5% decrease\", X_test_95),\n",
    "]:\n",
    "    cm = ConfusionMatrixDisplay.from_estimator(\n",
    "        model,\n",
    "        xtest,\n",
    "        y_test,\n",
    "        display_labels=[\"no churn\", \"churn\"],\n",
    "        cmap=plt.cm.Greens,\n",
    "        colorbar=False,\n",
    "    )\n",
    "    \n",
    "    # _= cm.plot()\n",
    "    _= cm.ax_.set_title(title, fontsize=14)\n",
    "\n",
    "\n"
   ]
  },
  {
   "cell_type": "code",
   "execution_count": 352,
   "metadata": {
    "application/vnd.databricks.v1+cell": {
     "inputWidgets": {},
     "nuid": "0b7aac33-0faa-4f15-aeab-43beeb05dce0",
     "showTitle": false,
     "title": ""
    },
    "execution": {
     "iopub.execute_input": "2022-06-07T01:55:45.571094Z",
     "iopub.status.busy": "2022-06-07T01:55:45.571094Z",
     "iopub.status.idle": "2022-06-07T01:55:45.580149Z",
     "shell.execute_reply": "2022-06-07T01:55:45.580149Z",
     "shell.execute_reply.started": "2022-06-07T01:55:45.571094Z"
    },
    "tags": []
   },
   "outputs": [],
   "source": [
    "# joblib.dump(model, os.path.join(path, \"2205_hr_xgb_model.pkl\"))"
   ]
  },
  {
   "cell_type": "code",
   "execution_count": 320,
   "metadata": {
    "application/vnd.databricks.v1+cell": {
     "inputWidgets": {},
     "nuid": "468ff188-5709-404f-8dc8-733acca1b4a4",
     "showTitle": false,
     "title": ""
    },
    "execution": {
     "iopub.execute_input": "2022-06-07T01:30:20.734826Z",
     "iopub.status.busy": "2022-06-07T01:30:20.734826Z",
     "iopub.status.idle": "2022-06-07T01:30:20.749826Z",
     "shell.execute_reply": "2022-06-07T01:30:20.749826Z",
     "shell.execute_reply.started": "2022-06-07T01:30:20.734826Z"
    },
    "tags": []
   },
   "outputs": [],
   "source": [
    "# from BorutaShap import BorutaShap, load_data\n",
    "\n",
    "# model = XGBClassifier(**model_params)\n",
    "\n",
    "# Feature_Selector = BorutaShap(\n",
    "#     model=model, importance_measure=\"shap\", classification=True,\n",
    "# )\n",
    "\n",
    "# Feature_Selector.fit(\n",
    "#     X=X_train,\n",
    "#     y=y_train,\n",
    "#     n_trials=100,\n",
    "#     sample=False,\n",
    "#     train_or_test=\"test\",\n",
    "#     normalize=True,\n",
    "#     verbose=True,\n",
    "# )"
   ]
  },
  {
   "cell_type": "code",
   "execution_count": 321,
   "metadata": {
    "application/vnd.databricks.v1+cell": {
     "inputWidgets": {},
     "nuid": "430426c2-bfa8-4300-9f5c-e9a854c8952e",
     "showTitle": false,
     "title": ""
    },
    "execution": {
     "iopub.execute_input": "2022-06-07T01:30:20.750829Z",
     "iopub.status.busy": "2022-06-07T01:30:20.749826Z",
     "iopub.status.idle": "2022-06-07T01:30:20.765827Z",
     "shell.execute_reply": "2022-06-07T01:30:20.765827Z",
     "shell.execute_reply.started": "2022-06-07T01:30:20.750829Z"
    },
    "tags": []
   },
   "outputs": [],
   "source": [
    "# # Returns Boxplot of features\n",
    "# Feature_Selector.plot(which_features=\"all\")"
   ]
  },
  {
   "cell_type": "code",
   "execution_count": 322,
   "metadata": {
    "application/vnd.databricks.v1+cell": {
     "inputWidgets": {},
     "nuid": "d3846c48-4636-4b37-a90b-b5de2bcf1c87",
     "showTitle": false,
     "title": ""
    },
    "execution": {
     "iopub.execute_input": "2022-06-07T01:30:20.766826Z",
     "iopub.status.busy": "2022-06-07T01:30:20.766826Z",
     "iopub.status.idle": "2022-06-07T01:30:20.781826Z",
     "shell.execute_reply": "2022-06-07T01:30:20.781826Z",
     "shell.execute_reply.started": "2022-06-07T01:30:20.766826Z"
    },
    "tags": []
   },
   "outputs": [],
   "source": [
    "# Feature_Selector.Subset().columns"
   ]
  },
  {
   "cell_type": "code",
   "execution_count": 323,
   "metadata": {
    "application/vnd.databricks.v1+cell": {
     "inputWidgets": {},
     "nuid": "89809d34-17da-4128-993e-24f00fd16adc",
     "showTitle": false,
     "title": ""
    },
    "execution": {
     "iopub.execute_input": "2022-06-07T01:30:20.782826Z",
     "iopub.status.busy": "2022-06-07T01:30:20.782826Z",
     "iopub.status.idle": "2022-06-07T01:30:20.797826Z",
     "shell.execute_reply": "2022-06-07T01:30:20.797826Z",
     "shell.execute_reply.started": "2022-06-07T01:30:20.782826Z"
    },
    "tags": []
   },
   "outputs": [],
   "source": [
    "# Feature_Selector.plot(which_features=\"accepted\")"
   ]
  },
  {
   "cell_type": "code",
   "execution_count": 384,
   "metadata": {
    "execution": {
     "iopub.execute_input": "2022-06-07T02:22:48.138742Z",
     "iopub.status.busy": "2022-06-07T02:22:48.138742Z",
     "iopub.status.idle": "2022-06-07T02:22:48.195742Z",
     "shell.execute_reply": "2022-06-07T02:22:48.195742Z",
     "shell.execute_reply.started": "2022-06-07T02:22:48.138742Z"
    },
    "tags": []
   },
   "outputs": [
    {
     "data": {
      "text/plain": [
       "DummyClassifier(random_state=57, strategy='stratified')"
      ]
     },
     "execution_count": 384,
     "metadata": {},
     "output_type": "execute_result"
    },
    {
     "data": {
      "text/plain": [
       "0.022388059701492536"
      ]
     },
     "execution_count": 384,
     "metadata": {},
     "output_type": "execute_result"
    },
    {
     "data": {
      "image/png": "[encoded data removed]",
      "text/plain": [
       "<Figure size 432x288 with 1 Axes>"
      ]
     },
     "metadata": {},
     "output_type": "display_data"
    }
   ],
   "source": [
    "dummy_model = DummyClassifier(strategy=\"stratified\", random_state=random_state)\n",
    "dummy_model.fit(X_train, y_train)\n",
    "\n",
    "dy_pred = dummy_model.predict(X_test)\n",
    "\n",
    "_= ConfusionMatrixDisplay.from_estimator(\n",
    "        dummy_model,\n",
    "        X_test,\n",
    "        y_test,\n",
    "        display_labels=[\"no churn\", \"churn\"],\n",
    "        cmap=plt.cm.Greens,\n",
    "        colorbar=False,\n",
    "    )\n",
    "\n",
    "f1_score(y_test, dy_pred)"
   ]
  },
  {
   "cell_type": "code",
   "execution_count": 456,
   "metadata": {
    "execution": {
     "iopub.execute_input": "2022-06-07T14:22:40.102040Z",
     "iopub.status.busy": "2022-06-07T14:22:40.102040Z",
     "iopub.status.idle": "2022-06-07T14:22:40.112040Z",
     "shell.execute_reply": "2022-06-07T14:22:40.112040Z",
     "shell.execute_reply.started": "2022-06-07T14:22:40.102040Z"
    },
    "tags": []
   },
   "outputs": [],
   "source": [
    "tr_105 = (y_105 == True).nonzero()[0]"
   ]
  },
  {
   "cell_type": "code",
   "execution_count": 457,
   "metadata": {
    "execution": {
     "iopub.execute_input": "2022-06-07T14:22:41.611057Z",
     "iopub.status.busy": "2022-06-07T14:22:41.611057Z",
     "iopub.status.idle": "2022-06-07T14:22:41.619057Z",
     "shell.execute_reply": "2022-06-07T14:22:41.619057Z",
     "shell.execute_reply.started": "2022-06-07T14:22:41.611057Z"
    },
    "tags": []
   },
   "outputs": [],
   "source": [
    "tr_100 = (y_100 == True).nonzero()[0]"
   ]
  },
  {
   "cell_type": "code",
   "execution_count": 458,
   "metadata": {
    "execution": {
     "iopub.execute_input": "2022-06-07T14:22:43.305565Z",
     "iopub.status.busy": "2022-06-07T14:22:43.305565Z",
     "iopub.status.idle": "2022-06-07T14:22:43.320565Z",
     "shell.execute_reply": "2022-06-07T14:22:43.320565Z",
     "shell.execute_reply.started": "2022-06-07T14:22:43.305565Z"
    },
    "tags": []
   },
   "outputs": [],
   "source": [
    "tr_95 = (y_95 == True).nonzero()[0]"
   ]
  },
  {
   "cell_type": "code",
   "execution_count": 471,
   "metadata": {
    "execution": {
     "iopub.execute_input": "2022-06-07T15:47:36.119769Z",
     "iopub.status.busy": "2022-06-07T15:47:36.118729Z",
     "iopub.status.idle": "2022-06-07T15:47:36.132727Z",
     "shell.execute_reply": "2022-06-07T15:47:36.132727Z",
     "shell.execute_reply.started": "2022-06-07T15:47:36.118729Z"
    }
   },
   "outputs": [
    {
     "name": "stdout",
     "output_type": "stream",
     "text": [
      "Total true predicted by model: 119\n"
     ]
    }
   ],
   "source": [
    "print(f\"Total true predicted by model: {np.count_nonzero(tr_100)}\")\n",
    "print(f\"Predicted true in 5% increase and in "
   ]
  },
  {
   "cell_type": "code",
   "execution_count": 470,
   "metadata": {
    "execution": {
     "iopub.execute_input": "2022-06-07T14:28:22.540630Z",
     "iopub.status.busy": "2022-06-07T14:28:22.540630Z",
     "iopub.status.idle": "2022-06-07T14:28:22.553629Z",
     "shell.execute_reply": "2022-06-07T14:28:22.553629Z",
     "shell.execute_reply.started": "2022-06-07T14:28:22.540630Z"
    },
    "tags": []
   },
   "outputs": [
    {
     "data": {
      "text/plain": [
       "104"
      ]
     },
     "execution_count": 470,
     "metadata": {},
     "output_type": "execute_result"
    }
   ],
   "source": [
    "np.count_nonzero(np.isin(tr_100, tr_105))"
   ]
  },
  {
   "cell_type": "code",
   "execution_count": 469,
   "metadata": {
    "execution": {
     "iopub.execute_input": "2022-06-07T14:28:15.201598Z",
     "iopub.status.busy": "2022-06-07T14:28:15.201598Z",
     "iopub.status.idle": "2022-06-07T14:28:15.211597Z",
     "shell.execute_reply": "2022-06-07T14:28:15.211597Z",
     "shell.execute_reply.started": "2022-06-07T14:28:15.201598Z"
    },
    "tags": []
   },
   "outputs": [
    {
     "data": {
      "text/plain": [
       "104"
      ]
     },
     "execution_count": 469,
     "metadata": {},
     "output_type": "execute_result"
    }
   ],
   "source": [
    "np.count_nonzero(tr_105)"
   ]
  },
  {
   "cell_type": "code",
   "execution_count": 441,
   "metadata": {
    "execution": {
     "iopub.execute_input": "2022-06-07T14:15:48.727069Z",
     "iopub.status.busy": "2022-06-07T14:15:48.727069Z",
     "iopub.status.idle": "2022-06-07T14:15:48.734032Z",
     "shell.execute_reply": "2022-06-07T14:15:48.734032Z",
     "shell.execute_reply.started": "2022-06-07T14:15:48.727069Z"
    },
    "tags": []
   },
   "outputs": [],
   "source": [
    "tr_pops = pd.DataFrame({\"tr_105\": tr_105, \"tr_100\": tr_100, \"tr_95\": tr_95})"
   ]
  },
  {
   "cell_type": "code",
   "execution_count": 477,
   "metadata": {
    "execution": {
     "iopub.execute_input": "2022-06-07T16:00:02.949192Z",
     "iopub.status.busy": "2022-06-07T16:00:02.949192Z",
     "iopub.status.idle": "2022-06-07T16:00:03.017192Z",
     "shell.execute_reply": "2022-06-07T16:00:03.017192Z",
     "shell.execute_reply.started": "2022-06-07T16:00:02.949192Z"
    },
    "tags": []
   },
   "outputs": [
    {
     "data": {
      "text/plain": [
       "<Figure size 576x576 with 0 Axes>"
      ]
     },
     "execution_count": 477,
     "metadata": {},
     "output_type": "execute_result"
    },
    {
     "data": {
      "text/plain": [
       "<matplotlib_venn._common.VennDiagram at 0x19207b98f10>"
      ]
     },
     "execution_count": 477,
     "metadata": {},
     "output_type": "execute_result"
    },
    {
     "data": {
      "image/png": "[encoded data removed]",
      "text/plain": [
       "<Figure size 576x576 with 1 Axes>"
      ]
     },
     "metadata": {},
     "output_type": "display_data"
    }
   ],
   "source": [
    "from matplotlib_venn import venn3\n",
    "plt.figure(figsize=(8,8))\n",
    "venn3([y_95, y_100, y_105], (\"5% decrease\", \"Actual\", \"5% increase\"))"
   ]
  },
  {
   "cell_type": "code",
   "execution_count": 474,
   "metadata": {
    "execution": {
     "iopub.execute_input": "2022-06-07T15:53:28.293334Z",
     "iopub.status.busy": "2022-06-07T15:53:28.293334Z",
     "iopub.status.idle": "2022-06-07T15:53:28.312335Z",
     "shell.execute_reply": "2022-06-07T15:53:28.312335Z",
     "shell.execute_reply.started": "2022-06-07T15:53:28.293334Z"
    }
   },
   "outputs": [
    {
     "ename": "ModuleNotFoundError",
     "evalue": "No module named 'matplotlib_venn'",
     "output_type": "error",
     "traceback": [
      "\u001b[1;31m---------------------------------------------------------------------------\u001b[0m",
      "\u001b[1;31mModuleNotFoundError\u001b[0m                       Traceback (most recent call last)",
      "Input \u001b[1;32mIn [474]\u001b[0m, in \u001b[0;36m<cell line: 1>\u001b[1;34m()\u001b[0m\n\u001b[1;32m----> 1\u001b[0m \u001b[38;5;28;01mfrom\u001b[39;00m \u001b[38;5;21;01mmatplotlib_venn\u001b[39;00m \u001b[38;5;28;01mimport\u001b[39;00m venn2\n",
      "\u001b[1;31mModuleNotFoundError\u001b[0m: No module named 'matplotlib_venn'"
     ]
    }
   ],
   "source": [
    "from matplotlib_venn import venn2"
   ]
  },
  {
   "cell_type": "code",
   "execution_count": null,
   "metadata": {},
   "outputs": [],
   "source": []
  }
 ],
 "metadata": {
  "application/vnd.databricks.v1+notebook": {
   "dashboards": [],
   "language": "python",
   "notebookMetadata": {
    "pythonIndentUnit": 4
   },
   "notebookName": "Modeling_classifier_pmm",
   "notebookOrigID": 3616714306642311,
   "widgets": {}
  },
  "kernelspec": {
   "display_name": "Python [conda env:pmm39]",
   "language": "python",
   "name": "conda-env-pmm39-py"
  },
  "language_info": {
   "codemirror_mode": {
    "name": "ipython",
    "version": 3
   },
   "file_extension": ".py",
   "mimetype": "text/x-python",
   "name": "python",
   "nbconvert_exporter": "python",
   "pygments_lexer": "ipython3",
   "version": "3.9.12"
  }
 },
 "nbformat": 4,
 "nbformat_minor": 4
}
