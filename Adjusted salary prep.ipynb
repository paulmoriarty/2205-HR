{
 "cells": [
  {
   "cell_type": "code",
   "execution_count": 129,
   "id": "dffe11fc-3373-4740-9521-c47fa0709e1d",
   "metadata": {
    "execution": {
     "iopub.execute_input": "2022-06-07T15:44:51.323466Z",
     "iopub.status.busy": "2022-06-07T15:44:51.323466Z",
     "iopub.status.idle": "2022-06-07T15:44:51.342465Z",
     "shell.execute_reply": "2022-06-07T15:44:51.342465Z",
     "shell.execute_reply.started": "2022-06-07T15:44:51.323466Z"
    }
   },
   "outputs": [],
   "source": [
    "from IPython.core.interactiveshell import InteractiveShell\n",
    "\n",
    "InteractiveShell.ast_node_interactivity = \"all\"\n",
    "import os\n",
    "import pandas as pd\n",
    "from datetime import datetime\n",
    "import numpy as np\n",
    "import warnings\n",
    "import platform\n",
    "\n",
    "warnings.filterwarnings(\"ignore\")\n",
    "\n",
    "InteractiveShell.ast_node_interactivity = \"all\"\n",
    "pd.options.display.max_columns = None"
   ]
  },
  {
   "cell_type": "code",
   "execution_count": 130,
   "id": "ba0849d9-8c91-47d1-9686-8d3df81064aa",
   "metadata": {
    "execution": {
     "iopub.execute_input": "2022-06-07T15:44:51.344466Z",
     "iopub.status.busy": "2022-06-07T15:44:51.343465Z",
     "iopub.status.idle": "2022-06-07T15:44:51.357465Z",
     "shell.execute_reply": "2022-06-07T15:44:51.357465Z",
     "shell.execute_reply.started": "2022-06-07T15:44:51.344466Z"
    }
   },
   "outputs": [],
   "source": [
    "random_state = 57\n",
    "now = lambda: datetime.now().strftime(\"%Y-%m-%dT%Hh%Mm%Ss\")\n",
    "\n",
    "\n",
    "def is_databricks():\n",
    "    return True if \"DATABRICKS_RUNTIME_VERSION\" in os.environ else False\n",
    "\n",
    "\n",
    "running_on = platform.system()\n",
    "\n",
    "if running_on == \"Windows\":\n",
    "    path = fr\"C:\\Users\\pmm\\ownCloud\\jupyter\\22-05 HR\"\n",
    "elif running_on == \"Darwin\":\n",
    "    path = f\"/Users/pmm/ownCloud/jupyter/22-05 HR\"\n",
    "elif \"google.colab\" in str(get_ipython()):\n",
    "    path = \"/content\"\n",
    "elif is_databricks():\n",
    "    my_container = \"projects\"\n",
    "    my_lake = \"tdsdsdatalake\"\n",
    "    mount_point = f\"/mnt/{my_container}\"\n",
    "    path = f\"{mount_point}\"\n",
    "\n",
    "    configs = {\n",
    "        \"fs.azure.account.auth.type\": \"CustomAccessToken\",\n",
    "        \"fs.azure.account.custom.token.provider.class\": spark.conf.get(\n",
    "            \"spark.databricks.passthrough.adls.gen2.tokenProviderClassName\"\n",
    "        ),\n",
    "    }\n",
    "\n",
    "    if not any(\n",
    "        mount.mountPoint == mount_point for mount in dbutils.fs.mounts()\n",
    "    ):\n",
    "        dbutils.fs.mount(\n",
    "            source=f\"abfss://{my_container}@{my_lake}.dfs.core.windows.net/\",\n",
    "            mount_point=mount_point,\n",
    "            extra_configs=configs,\n",
    "        )"
   ]
  },
  {
   "cell_type": "code",
   "execution_count": 131,
   "id": "ffadab45-438d-4ccf-bd32-bc4913106e03",
   "metadata": {
    "execution": {
     "iopub.execute_input": "2022-06-07T15:44:51.358465Z",
     "iopub.status.busy": "2022-06-07T15:44:51.358465Z",
     "iopub.status.idle": "2022-06-07T15:44:51.388498Z",
     "shell.execute_reply": "2022-06-07T15:44:51.388498Z",
     "shell.execute_reply.started": "2022-06-07T15:44:51.358465Z"
    },
    "tags": []
   },
   "outputs": [],
   "source": [
    "test_data = pd.read_parquet(\"test_data.parquet\")\n",
    "test_target = pd.read_csv(\"test_target.csv\", index_col=0)\n",
    "test_data = pd.concat([test_data, test_target], axis=1)"
   ]
  },
  {
   "cell_type": "code",
   "execution_count": 132,
   "id": "8d5cbddc-b04c-4198-b8fe-6ca0cc233d0b",
   "metadata": {
    "execution": {
     "iopub.execute_input": "2022-06-07T15:44:51.389465Z",
     "iopub.status.busy": "2022-06-07T15:44:51.389465Z",
     "iopub.status.idle": "2022-06-07T15:44:51.404465Z",
     "shell.execute_reply": "2022-06-07T15:44:51.404465Z",
     "shell.execute_reply.started": "2022-06-07T15:44:51.389465Z"
    },
    "tags": []
   },
   "outputs": [],
   "source": [
    "dtypes = {\n",
    "    \"pers_no\": \"object\",\n",
    "    \"job_key\": \"object\",\n",
    "    \"position\": \"object\",\n",
    "    \"job_abbrev\": \"object\",\n",
    "    \"contract\": \"object\",\n",
    "    \"act\": \"object\",\n",
    "    \"reason\": \"int64\",\n",
    "    \"start_date\": \"datetime64[ns]\",\n",
    "    \"most_recent_hire_date_01\": \"datetime64[ns]\",\n",
    "    \"service_anniversary_16\": \"datetime64[ns]\",\n",
    "    \"cocd\": \"object\",\n",
    "    \"org_unit\": \"object\",\n",
    "    \"employee_group\": \"object\",\n",
    "    \"employee_subgroup\": \"object\",\n",
    "    \"commission_type\": \"object\",\n",
    "    \"pay_scale_group_effective_date\": \"datetime64[ns]\",\n",
    "    \"ps_group\": \"object\",\n",
    "    \"prev_ps_group\": \"object\",\n",
    "    \"annl_sal_hrly_wage\": \"float64\",\n",
    "    \"annual_salary\": \"float64\",\n",
    "    \"pay_level_midpoint\": \"float64\",\n",
    "    \"prev_wage\": \"float64\",\n",
    "    \"pts\": \"int64\",\n",
    "    \"supervisor\": \"object\",\n",
    "    \"ps_area\": \"object\",\n",
    "    \"aap\": \"object\",\n",
    "    \"city\": \"object\",\n",
    "    \"state\": \"object\",\n",
    "    \"generation\": \"object\",\n",
    "    \"retiree_medical_eligibility\": \"object\",\n",
    "    \"functional_area\": \"object\",\n",
    "    \"fst\": \"object\",\n",
    "    \"age_at_action\": \"float64\",\n",
    "    \"percent_of_market_after_action\": \"float64\",\n",
    "    \"percent_of_market_before_action\": \"float64\",\n",
    "    \"hired\": \"object\",\n",
    "    \"term\": \"object\",\n",
    "    \"retirement\": \"object\",\n",
    "    \"promotion\": \"object\",\n",
    "    \"progression\": \"object\",\n",
    "    \"previous_job_code\": \"object\",\n",
    "    \"current_bu\": \"object\",\n",
    "    \"previous_bu\": \"object\",\n",
    "    \"gender_most_current\": \"object\",\n",
    "    \"race_ethinicity_most_current\": \"object\",\n",
    "    \"poc_non_poc_most_current\": \"object\",\n",
    "    \"tds_vet_excludes_v1_v9_most_current\": \"object\",\n",
    "    \"disabled_most_current\": \"object\",\n",
    "    \"tds_vet_excludes_v1_v9_most_current\": \"object\",\n",
    "}\n",
    "\n",
    "dt = {col: dtypes[col] for col in test_data.columns if col in dtypes}\n",
    "test_data = test_data.astype(dt)"
   ]
  },
  {
   "cell_type": "code",
   "execution_count": 133,
   "id": "3197bbb1-872d-4034-9005-bd4da10546ac",
   "metadata": {
    "execution": {
     "iopub.execute_input": "2022-06-07T15:44:51.406466Z",
     "iopub.status.busy": "2022-06-07T15:44:51.405465Z",
     "iopub.status.idle": "2022-06-07T15:44:51.420466Z",
     "shell.execute_reply": "2022-06-07T15:44:51.420466Z",
     "shell.execute_reply.started": "2022-06-07T15:44:51.405465Z"
    },
    "tags": []
   },
   "outputs": [],
   "source": [
    "df = test_data.copy()"
   ]
  },
  {
   "cell_type": "code",
   "execution_count": 134,
   "id": "3b717cac-6cc2-48a3-819d-b66982cdbb95",
   "metadata": {
    "execution": {
     "iopub.execute_input": "2022-06-07T15:44:51.421465Z",
     "iopub.status.busy": "2022-06-07T15:44:51.421465Z",
     "iopub.status.idle": "2022-06-07T15:44:51.436466Z",
     "shell.execute_reply": "2022-06-07T15:44:51.436466Z",
     "shell.execute_reply.started": "2022-06-07T15:44:51.421465Z"
    },
    "tags": []
   },
   "outputs": [],
   "source": [
    "df = df.reset_index().sort_values(by=[\"pers_no\", \"start_date\"])"
   ]
  },
  {
   "cell_type": "code",
   "execution_count": 135,
   "id": "a658d9be-86e1-4959-8adc-acb267fb1d18",
   "metadata": {
    "execution": {
     "iopub.execute_input": "2022-06-07T15:44:51.437465Z",
     "iopub.status.busy": "2022-06-07T15:44:51.437465Z",
     "iopub.status.idle": "2022-06-07T15:44:51.451464Z",
     "shell.execute_reply": "2022-06-07T15:44:51.451464Z",
     "shell.execute_reply.started": "2022-06-07T15:44:51.437465Z"
    },
    "tags": []
   },
   "outputs": [],
   "source": [
    "# keep only the most recent salary increase\n",
    "df = df[(df[\"act\"] == \"ZD\") & (df[\"reason\"] == 8)].drop_duplicates(\n",
    "    subset=[\"pers_no\"]\n",
    ")"
   ]
  },
  {
   "cell_type": "code",
   "execution_count": 136,
   "id": "df63d4fe-8f1f-4f5a-a05f-4f2a5357ce5a",
   "metadata": {
    "execution": {
     "iopub.execute_input": "2022-06-07T15:44:51.452465Z",
     "iopub.status.busy": "2022-06-07T15:44:51.452465Z",
     "iopub.status.idle": "2022-06-07T15:44:51.467464Z",
     "shell.execute_reply": "2022-06-07T15:44:51.467464Z",
     "shell.execute_reply.started": "2022-06-07T15:44:51.452465Z"
    },
    "tags": []
   },
   "outputs": [],
   "source": [
    "# calculate previous sllary based on percen of market before and after\n",
    "df[\"pct_chg\"] = (\n",
    "    df[\"percent_of_market_after_action\"]\n",
    "    - df[\"percent_of_market_before_action\"]\n",
    ")\n",
    "df[\"previous_salary\"] = df[\"annual_salary\"] / (1 + df[\"pct_chg\"])"
   ]
  },
  {
   "cell_type": "code",
   "execution_count": 137,
   "id": "b6e56d41-4f5e-4e87-a3e4-da67ce9b6d81",
   "metadata": {
    "execution": {
     "iopub.execute_input": "2022-06-07T15:44:51.468465Z",
     "iopub.status.busy": "2022-06-07T15:44:51.468465Z",
     "iopub.status.idle": "2022-06-07T15:44:51.482465Z",
     "shell.execute_reply": "2022-06-07T15:44:51.482465Z",
     "shell.execute_reply.started": "2022-06-07T15:44:51.468465Z"
    },
    "tags": []
   },
   "outputs": [],
   "source": [
    "# adjust salary only if increase was < 5%\n",
    "df[\"annual_salary\"] = np.where(\n",
    "    (df[\"pct_chg\"] < 0.05) & (df[\"percent_of_market_before_action\"] > 0.1),\n",
    "    (df[\"previous_salary\"] * 0.95),\n",
    "    df[\"annual_salary\"],\n",
    ")"
   ]
  },
  {
   "cell_type": "code",
   "execution_count": 138,
   "id": "7ace75ad-55a8-4fff-a50c-c345944a6f47",
   "metadata": {
    "execution": {
     "iopub.execute_input": "2022-06-07T15:44:51.483465Z",
     "iopub.status.busy": "2022-06-07T15:44:51.483465Z",
     "iopub.status.idle": "2022-06-07T15:44:51.498465Z",
     "shell.execute_reply": "2022-06-07T15:44:51.498465Z",
     "shell.execute_reply.started": "2022-06-07T15:44:51.483465Z"
    },
    "tags": []
   },
   "outputs": [],
   "source": [
    "df = df.set_index(\"index\", drop=True)\n",
    "\n",
    "test_data.loc[df.index, \"annual_salary\"] = df.loc[df.index, \"annual_salary\"]"
   ]
  },
  {
   "cell_type": "code",
   "execution_count": 139,
   "id": "1d40bbb9-6c4b-4df8-8c90-4d6be12c146e",
   "metadata": {
    "execution": {
     "iopub.execute_input": "2022-06-07T15:44:51.499465Z",
     "iopub.status.busy": "2022-06-07T15:44:51.499465Z",
     "iopub.status.idle": "2022-06-07T15:44:51.530495Z",
     "shell.execute_reply": "2022-06-07T15:44:51.530495Z",
     "shell.execute_reply.started": "2022-06-07T15:44:51.499465Z"
    },
    "tags": []
   },
   "outputs": [],
   "source": [
    "test_data.to_parquet(\"test_data_95.parquet\")"
   ]
  },
  {
   "cell_type": "code",
   "execution_count": null,
   "id": "d457247b-2d66-475a-b136-d3cd6df61f18",
   "metadata": {},
   "outputs": [],
   "source": []
  }
 ],
 "metadata": {
  "kernelspec": {
   "display_name": "Python [conda env:pmm39]",
   "language": "python",
   "name": "conda-env-pmm39-py"
  },
  "language_info": {
   "codemirror_mode": {
    "name": "ipython",
    "version": 3
   },
   "file_extension": ".py",
   "mimetype": "text/x-python",
   "name": "python",
   "nbconvert_exporter": "python",
   "pygments_lexer": "ipython3",
   "version": "3.9.12"
  }
 },
 "nbformat": 4,
 "nbformat_minor": 5
}
